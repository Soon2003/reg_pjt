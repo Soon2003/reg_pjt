{
 "cells": [
  {
   "cell_type": "markdown",
   "metadata": {},
   "source": [
    "## 학습목표\n",
    " 1. 수치해석 라이브러리인 numpy의 이해 및 사용\n",
    " 2. 데이터 분석 라이브러이인 pandas의 이해 및 사용"
   ]
  },
  {
   "cell_type": "markdown",
   "metadata": {},
   "source": [
    "## numpy\n",
    " - 파이썬의 대표적인 수치해석 라이브러리\n",
    " - 벡터, 행렬등의 최적화된 data structure와 다양한 연산 제공\n",
    " - 다른 많은 machine learnig, 혹은 data analysis 패키지들에서 많이 사용 됨"
   ]
  },
  {
   "cell_type": "markdown",
   "metadata": {},
   "source": [
    "* **numpy 모듈**\n",
    "  - 모듈 설치 \n",
    "    - pip install numpy\n",
    "  - 모듈 임포트\n",
    "    - import numpy as np (관례적으로 np 사용)"
   ]
  },
  {
   "cell_type": "code",
   "execution_count": 1,
   "metadata": {},
   "outputs": [
    {
     "name": "stdout",
     "output_type": "stream",
     "text": [
      "1.13.1\n"
     ]
    }
   ],
   "source": [
    "import numpy as np\n",
    "print(np.__version__)"
   ]
  },
  {
   "cell_type": "markdown",
   "metadata": {},
   "source": [
    "* **ndarray**\n",
    " - numpy의 기본 타입\n",
    " - n dimentional array를 의미\n",
    " - vector, matrix를 표현\n",
    " - numpy.array([])로 생성"
   ]
  },
  {
   "cell_type": "code",
   "execution_count": null,
   "metadata": {
    "collapsed": true
   },
   "outputs": [],
   "source": [
    "arr1 = np.array([1, 3, 4, 6]) # 1차원 벡터 생성\n",
    "arr2 = np.array([[0, 1, 2], [2, 4, 6]]) # 2차원 행렬 생성\n",
    "\n",
    "print(arr1, type(arr1))\n",
    "print(arr2, type(arr2))"
   ]
  },
  {
   "cell_type": "code",
   "execution_count": null,
   "metadata": {
    "collapsed": true
   },
   "outputs": [],
   "source": [
    "pure_arrary = range(10)\n",
    "np_array = np.array([[1, 2], [3, 4]])\n",
    "np_array\n",
    "np_array.shape"
   ]
  },
  {
   "cell_type": "markdown",
   "metadata": {},
   "source": [
    "* **arange**\n",
    " - 내장 함수 range()와 동일한 기능을 수행함\n",
    " - ndarray 반환"
   ]
  },
  {
   "cell_type": "code",
   "execution_count": null,
   "metadata": {
    "collapsed": true
   },
   "outputs": [],
   "source": [
    "arr3 = np.arange(1, 11)\n",
    "print(arr3, type(arr3))"
   ]
  },
  {
   "cell_type": "markdown",
   "metadata": {},
   "source": [
    "* **linspace**\n",
    " - start, end를 n-1개의 균일한 간격으로 분할"
   ]
  },
  {
   "cell_type": "code",
   "execution_count": null,
   "metadata": {
    "collapsed": true
   },
   "outputs": [],
   "source": [
    "# 0 - 2의 범위를 5-1 등분 한다는 이야기\n",
    "arr4 = np.linspace(0, 100, 4)\n",
    "print(arr4)"
   ]
  },
  {
   "cell_type": "markdown",
   "metadata": {},
   "source": [
    "* **zeros**\n",
    " - 전달된 tuple 사이즈 행렬 반환\n",
    " - 0으로 채워짐"
   ]
  },
  {
   "cell_type": "code",
   "execution_count": null,
   "metadata": {
    "collapsed": true
   },
   "outputs": [],
   "source": [
    "print(np.zeros((2, 4)))\n",
    "print(np.zeros(4))\n",
    "\n",
    "print(np.zeros((2, 2, 2)))"
   ]
  },
  {
   "cell_type": "markdown",
   "metadata": {},
   "source": [
    "* **ones**\n",
    " - 전달된 tuple 사이즈 행렬 반환\n",
    " - 1로 채워짐"
   ]
  },
  {
   "cell_type": "code",
   "execution_count": 2,
   "metadata": {},
   "outputs": [
    {
     "name": "stdout",
     "output_type": "stream",
     "text": [
      "[[[[[ 1.  1.  1. ...,  1.  1.  1.]\n",
      "    [ 1.  1.  1. ...,  1.  1.  1.]\n",
      "    [ 1.  1.  1. ...,  1.  1.  1.]\n",
      "    ..., \n",
      "    [ 1.  1.  1. ...,  1.  1.  1.]\n",
      "    [ 1.  1.  1. ...,  1.  1.  1.]\n",
      "    [ 1.  1.  1. ...,  1.  1.  1.]]\n",
      "\n",
      "   [[ 1.  1.  1. ...,  1.  1.  1.]\n",
      "    [ 1.  1.  1. ...,  1.  1.  1.]\n",
      "    [ 1.  1.  1. ...,  1.  1.  1.]\n",
      "    ..., \n",
      "    [ 1.  1.  1. ...,  1.  1.  1.]\n",
      "    [ 1.  1.  1. ...,  1.  1.  1.]\n",
      "    [ 1.  1.  1. ...,  1.  1.  1.]]]\n",
      "\n",
      "\n",
      "  [[[ 1.  1.  1. ...,  1.  1.  1.]\n",
      "    [ 1.  1.  1. ...,  1.  1.  1.]\n",
      "    [ 1.  1.  1. ...,  1.  1.  1.]\n",
      "    ..., \n",
      "    [ 1.  1.  1. ...,  1.  1.  1.]\n",
      "    [ 1.  1.  1. ...,  1.  1.  1.]\n",
      "    [ 1.  1.  1. ...,  1.  1.  1.]]\n",
      "\n",
      "   [[ 1.  1.  1. ...,  1.  1.  1.]\n",
      "    [ 1.  1.  1. ...,  1.  1.  1.]\n",
      "    [ 1.  1.  1. ...,  1.  1.  1.]\n",
      "    ..., \n",
      "    [ 1.  1.  1. ...,  1.  1.  1.]\n",
      "    [ 1.  1.  1. ...,  1.  1.  1.]\n",
      "    [ 1.  1.  1. ...,  1.  1.  1.]]]\n",
      "\n",
      "\n",
      "  [[[ 1.  1.  1. ...,  1.  1.  1.]\n",
      "    [ 1.  1.  1. ...,  1.  1.  1.]\n",
      "    [ 1.  1.  1. ...,  1.  1.  1.]\n",
      "    ..., \n",
      "    [ 1.  1.  1. ...,  1.  1.  1.]\n",
      "    [ 1.  1.  1. ...,  1.  1.  1.]\n",
      "    [ 1.  1.  1. ...,  1.  1.  1.]]\n",
      "\n",
      "   [[ 1.  1.  1. ...,  1.  1.  1.]\n",
      "    [ 1.  1.  1. ...,  1.  1.  1.]\n",
      "    [ 1.  1.  1. ...,  1.  1.  1.]\n",
      "    ..., \n",
      "    [ 1.  1.  1. ...,  1.  1.  1.]\n",
      "    [ 1.  1.  1. ...,  1.  1.  1.]\n",
      "    [ 1.  1.  1. ...,  1.  1.  1.]]]]\n",
      "\n",
      "\n",
      "\n",
      " [[[[ 1.  1.  1. ...,  1.  1.  1.]\n",
      "    [ 1.  1.  1. ...,  1.  1.  1.]\n",
      "    [ 1.  1.  1. ...,  1.  1.  1.]\n",
      "    ..., \n",
      "    [ 1.  1.  1. ...,  1.  1.  1.]\n",
      "    [ 1.  1.  1. ...,  1.  1.  1.]\n",
      "    [ 1.  1.  1. ...,  1.  1.  1.]]\n",
      "\n",
      "   [[ 1.  1.  1. ...,  1.  1.  1.]\n",
      "    [ 1.  1.  1. ...,  1.  1.  1.]\n",
      "    [ 1.  1.  1. ...,  1.  1.  1.]\n",
      "    ..., \n",
      "    [ 1.  1.  1. ...,  1.  1.  1.]\n",
      "    [ 1.  1.  1. ...,  1.  1.  1.]\n",
      "    [ 1.  1.  1. ...,  1.  1.  1.]]]\n",
      "\n",
      "\n",
      "  [[[ 1.  1.  1. ...,  1.  1.  1.]\n",
      "    [ 1.  1.  1. ...,  1.  1.  1.]\n",
      "    [ 1.  1.  1. ...,  1.  1.  1.]\n",
      "    ..., \n",
      "    [ 1.  1.  1. ...,  1.  1.  1.]\n",
      "    [ 1.  1.  1. ...,  1.  1.  1.]\n",
      "    [ 1.  1.  1. ...,  1.  1.  1.]]\n",
      "\n",
      "   [[ 1.  1.  1. ...,  1.  1.  1.]\n",
      "    [ 1.  1.  1. ...,  1.  1.  1.]\n",
      "    [ 1.  1.  1. ...,  1.  1.  1.]\n",
      "    ..., \n",
      "    [ 1.  1.  1. ...,  1.  1.  1.]\n",
      "    [ 1.  1.  1. ...,  1.  1.  1.]\n",
      "    [ 1.  1.  1. ...,  1.  1.  1.]]]\n",
      "\n",
      "\n",
      "  [[[ 1.  1.  1. ...,  1.  1.  1.]\n",
      "    [ 1.  1.  1. ...,  1.  1.  1.]\n",
      "    [ 1.  1.  1. ...,  1.  1.  1.]\n",
      "    ..., \n",
      "    [ 1.  1.  1. ...,  1.  1.  1.]\n",
      "    [ 1.  1.  1. ...,  1.  1.  1.]\n",
      "    [ 1.  1.  1. ...,  1.  1.  1.]]\n",
      "\n",
      "   [[ 1.  1.  1. ...,  1.  1.  1.]\n",
      "    [ 1.  1.  1. ...,  1.  1.  1.]\n",
      "    [ 1.  1.  1. ...,  1.  1.  1.]\n",
      "    ..., \n",
      "    [ 1.  1.  1. ...,  1.  1.  1.]\n",
      "    [ 1.  1.  1. ...,  1.  1.  1.]\n",
      "    [ 1.  1.  1. ...,  1.  1.  1.]]]]\n",
      "\n",
      "\n",
      "\n",
      " [[[[ 1.  1.  1. ...,  1.  1.  1.]\n",
      "    [ 1.  1.  1. ...,  1.  1.  1.]\n",
      "    [ 1.  1.  1. ...,  1.  1.  1.]\n",
      "    ..., \n",
      "    [ 1.  1.  1. ...,  1.  1.  1.]\n",
      "    [ 1.  1.  1. ...,  1.  1.  1.]\n",
      "    [ 1.  1.  1. ...,  1.  1.  1.]]\n",
      "\n",
      "   [[ 1.  1.  1. ...,  1.  1.  1.]\n",
      "    [ 1.  1.  1. ...,  1.  1.  1.]\n",
      "    [ 1.  1.  1. ...,  1.  1.  1.]\n",
      "    ..., \n",
      "    [ 1.  1.  1. ...,  1.  1.  1.]\n",
      "    [ 1.  1.  1. ...,  1.  1.  1.]\n",
      "    [ 1.  1.  1. ...,  1.  1.  1.]]]\n",
      "\n",
      "\n",
      "  [[[ 1.  1.  1. ...,  1.  1.  1.]\n",
      "    [ 1.  1.  1. ...,  1.  1.  1.]\n",
      "    [ 1.  1.  1. ...,  1.  1.  1.]\n",
      "    ..., \n",
      "    [ 1.  1.  1. ...,  1.  1.  1.]\n",
      "    [ 1.  1.  1. ...,  1.  1.  1.]\n",
      "    [ 1.  1.  1. ...,  1.  1.  1.]]\n",
      "\n",
      "   [[ 1.  1.  1. ...,  1.  1.  1.]\n",
      "    [ 1.  1.  1. ...,  1.  1.  1.]\n",
      "    [ 1.  1.  1. ...,  1.  1.  1.]\n",
      "    ..., \n",
      "    [ 1.  1.  1. ...,  1.  1.  1.]\n",
      "    [ 1.  1.  1. ...,  1.  1.  1.]\n",
      "    [ 1.  1.  1. ...,  1.  1.  1.]]]\n",
      "\n",
      "\n",
      "  [[[ 1.  1.  1. ...,  1.  1.  1.]\n",
      "    [ 1.  1.  1. ...,  1.  1.  1.]\n",
      "    [ 1.  1.  1. ...,  1.  1.  1.]\n",
      "    ..., \n",
      "    [ 1.  1.  1. ...,  1.  1.  1.]\n",
      "    [ 1.  1.  1. ...,  1.  1.  1.]\n",
      "    [ 1.  1.  1. ...,  1.  1.  1.]]\n",
      "\n",
      "   [[ 1.  1.  1. ...,  1.  1.  1.]\n",
      "    [ 1.  1.  1. ...,  1.  1.  1.]\n",
      "    [ 1.  1.  1. ...,  1.  1.  1.]\n",
      "    ..., \n",
      "    [ 1.  1.  1. ...,  1.  1.  1.]\n",
      "    [ 1.  1.  1. ...,  1.  1.  1.]\n",
      "    [ 1.  1.  1. ...,  1.  1.  1.]]]]]\n"
     ]
    }
   ],
   "source": [
    "print(np.ones((3, 3, 2, 7, 8)))\n",
    "#print np.ones(3)"
   ]
  },
  {
   "cell_type": "markdown",
   "metadata": {},
   "source": [
    "* **random sub package**\n",
    "  - 다양한 확률 분포를 이용한 랜덤 숫자로 채워진 ndarray 혹은 단일 값을 생성할 때 주로 사용"
   ]
  },
  {
   "cell_type": "code",
   "execution_count": null,
   "metadata": {
    "collapsed": true
   },
   "outputs": [],
   "source": [
    "print(np.random.rand(3)) # [0, 1) 사이 출력\n",
    "print(np.random.randn(3)) # 정규분포 normal distribution"
   ]
  },
  {
   "cell_type": "code",
   "execution_count": null,
   "metadata": {
    "collapsed": true
   },
   "outputs": [],
   "source": [
    "a = np.random.rand(3, 2, 2)\n",
    "a"
   ]
  },
  {
   "cell_type": "code",
   "execution_count": null,
   "metadata": {
    "collapsed": true
   },
   "outputs": [],
   "source": [
    "# 임의의 정수 한개 생성 [1, 100]\n",
    "np.random.randint(1, 100)"
   ]
  },
  {
   "cell_type": "code",
   "execution_count": 3,
   "metadata": {},
   "outputs": [
    {
     "data": {
      "text/plain": [
       "array([[17, 80, 71],\n",
       "       [67, 34, 62],\n",
       "       [82, 76, 91],\n",
       "       [83, 85, 33]])"
      ]
     },
     "execution_count": 3,
     "metadata": {},
     "output_type": "execute_result"
    }
   ],
   "source": [
    "# 임의의 정수 tensor 생성 \n",
    "np.random.randint(1, 100, size=(4, 3))"
   ]
  },
  {
   "cell_type": "code",
   "execution_count": null,
   "metadata": {
    "collapsed": true
   },
   "outputs": [],
   "source": [
    "# 범위 지정을 원할 경우 uniform 함수 이용\n",
    "np.random.uniform(low=1.0, high=2.0, size=(4))"
   ]
  },
  {
   "cell_type": "code",
   "execution_count": null,
   "metadata": {
    "collapsed": true
   },
   "outputs": [],
   "source": [
    "# 각 확률분포에 해당하는 함수가 존재\n",
    "np.random.binomial(10, 0.9)"
   ]
  },
  {
   "cell_type": "code",
   "execution_count": null,
   "metadata": {
    "collapsed": true
   },
   "outputs": [],
   "source": [
    "# choice함수를 이용하여 샘플링 가능\n",
    "np.random.choice(range(1000), size=40, replace=True)"
   ]
  },
  {
   "cell_type": "markdown",
   "metadata": {},
   "source": [
    "* **연습문제)**\n",
    " 1. 20 - 30 사이의 임의의 정수 4개를 출력하시오(중복 허용)\n",
    " 2. 20 - 30 사이의 임의의 정수 4개를 출력하시오(중복 x)\n",
    " 3. 20 - 30 사이의 임의의 실수 4개를 출력하시오\n",
    " 4. 0.01 - 1 사이의 임의의 실수 4개를 출력하시오 "
   ]
  },
  {
   "cell_type": "code",
   "execution_count": null,
   "metadata": {
    "collapsed": true
   },
   "outputs": [],
   "source": []
  },
  {
   "cell_type": "code",
   "execution_count": null,
   "metadata": {
    "collapsed": true
   },
   "outputs": [],
   "source": []
  },
  {
   "cell_type": "code",
   "execution_count": null,
   "metadata": {
    "collapsed": true
   },
   "outputs": [],
   "source": []
  },
  {
   "cell_type": "code",
   "execution_count": null,
   "metadata": {
    "collapsed": true
   },
   "outputs": [],
   "source": []
  },
  {
   "cell_type": "markdown",
   "metadata": {},
   "source": [
    "* ** seed ** \n",
    " - 실험, 분석 등을 할 때, 랜덤 값 생성 시, 해당 값을 추후에 또 사용해야 할 경우가 필요\n",
    " - 해당 경우에는 seed함수를 미리 호출하여 랜덤한 값을 동일 한 값으로 유지 할 수 있음\n",
    " - seed() 함수 호출 시, 정수를 전달"
   ]
  },
  {
   "cell_type": "code",
   "execution_count": null,
   "metadata": {
    "collapsed": true
   },
   "outputs": [],
   "source": [
    "np.random.seed(1)\n",
    "print(np.random.rand(2, 3))"
   ]
  },
  {
   "cell_type": "code",
   "execution_count": null,
   "metadata": {
    "collapsed": true
   },
   "outputs": [],
   "source": [
    "np.random.randint(1, 101, 10)"
   ]
  },
  {
   "cell_type": "code",
   "execution_count": null,
   "metadata": {
    "collapsed": true
   },
   "outputs": [],
   "source": [
    "np.random.seed(0) # 랜덤한 값을 계속 유지하고 싶을 때 사용\n",
    "print(np.random.rand())\n",
    "\n",
    "np.random.seed(2) # 랜덤한 값을 계속 유지하고 싶을 때 사용\n",
    "print(np.random.rand())"
   ]
  },
  {
   "cell_type": "markdown",
   "metadata": {},
   "source": [
    "* **slicing**\n",
    " - 리스트, 문자열 slicing과 동일함\n",
    " - 단, ndarray의 차원이 높을 경우에는, 각 차원별로 slicing, indexing 가능"
   ]
  },
  {
   "cell_type": "code",
   "execution_count": null,
   "metadata": {
    "collapsed": true
   },
   "outputs": [],
   "source": [
    "arr1 = np.array([1, 3, 4, 6])\n",
    "arr2 = np.array([[0, 1, 3], [2, 4, 6], [3, 7, 8]])"
   ]
  },
  {
   "cell_type": "code",
   "execution_count": null,
   "metadata": {
    "collapsed": true
   },
   "outputs": [],
   "source": [
    "print(arr1[0])\n",
    "print(arr1[1:-1])"
   ]
  },
  {
   "cell_type": "code",
   "execution_count": null,
   "metadata": {
    "collapsed": true
   },
   "outputs": [],
   "source": [
    "arr2"
   ]
  },
  {
   "cell_type": "code",
   "execution_count": null,
   "metadata": {
    "collapsed": true
   },
   "outputs": [],
   "source": [
    "print(arr2[1, :1])\n",
    "print(arr2[1, 0])"
   ]
  },
  {
   "cell_type": "code",
   "execution_count": null,
   "metadata": {
    "collapsed": true
   },
   "outputs": [],
   "source": [
    "arr2 = np.array([[0, 1, 3], [2, 4, 6]])\n",
    "\n",
    "print(arr2[0])\n",
    "print(arr2[0, 1])\n",
    "print(arr2[1:, :2])\n",
    "print(arr2[:, 2])\n",
    "print(arr2[:, 1:])"
   ]
  },
  {
   "cell_type": "markdown",
   "metadata": {},
   "source": [
    "* **Boolean selection**\n",
    "  - bool 리스트로 해당 값이 True인 조건만 필터링"
   ]
  },
  {
   "cell_type": "code",
   "execution_count": null,
   "metadata": {
    "collapsed": true
   },
   "outputs": [],
   "source": [
    "arr = np.array([1, 2, 4, 8, 9, 6, 12, 13])\n",
    "lst = [1, 2, 4, 8, 9, 6, 12, 13]\n",
    "\n",
    "print(arr % 2 == 0)"
   ]
  },
  {
   "cell_type": "code",
   "execution_count": null,
   "metadata": {
    "collapsed": true
   },
   "outputs": [],
   "source": [
    "even_mask = (arr % 2 == 0)\n",
    "print(arr[even_mask])\n",
    "print(arr[arr % 2 == 0])"
   ]
  },
  {
   "cell_type": "markdown",
   "metadata": {},
   "source": [
    "* multiple conditions\n",
    " - and, or, not 키워드 사용 불가\n",
    " - & - AND \n",
    " - | - OR "
   ]
  },
  {
   "cell_type": "code",
   "execution_count": null,
   "metadata": {
    "collapsed": true
   },
   "outputs": [],
   "source": [
    "arr[(arr > 7) | (arr <= 5)]"
   ]
  },
  {
   "cell_type": "code",
   "execution_count": null,
   "metadata": {
    "collapsed": true
   },
   "outputs": [],
   "source": [
    "arr[(arr % 2 == 0) & (arr <= 8)]"
   ]
  },
  {
   "cell_type": "markdown",
   "metadata": {},
   "source": [
    "* **ndarray operations**\n",
    "  - scala와의 연산은 전체 원소에 대해 적용\n",
    "  - 다른 ndarray와의 연산은 element-wise로 적용"
   ]
  },
  {
   "cell_type": "code",
   "execution_count": null,
   "metadata": {
    "collapsed": true
   },
   "outputs": [],
   "source": [
    "arr = np.arange(1, 7) * 5\n",
    "print(arr)"
   ]
  },
  {
   "cell_type": "code",
   "execution_count": null,
   "metadata": {
    "collapsed": true
   },
   "outputs": [],
   "source": [
    "arr2 = arr ** 4\n",
    "print(arr2)\n",
    "print(arr2 ** 0.5)"
   ]
  },
  {
   "cell_type": "code",
   "execution_count": null,
   "metadata": {
    "collapsed": true
   },
   "outputs": [],
   "source": [
    "arr1 = np.arange(0, 30, 3) + 3\n",
    "arr2 = np.arange(1, 11)\n",
    "print(arr1, arr2)\n",
    "\n",
    "print(arr1 - arr2)\n",
    "print(arr1 * arr2)\n",
    "print(arr1 * arr1)\n",
    "#print arr1 ^2 \n",
    "print(arr1 ** 2)"
   ]
  },
  {
   "cell_type": "code",
   "execution_count": null,
   "metadata": {
    "collapsed": true
   },
   "outputs": [],
   "source": [
    "arr1 = np.array([[1, 1], [1, 1]])\n",
    "arr2 = np.array([[2, 2], [2, 2]])\n",
    "\n",
    "print(arr1 * arr2)  # 원소끼리의 곱\n",
    "print(arr1.dot(arr2)) # 행렬 곱"
   ]
  },
  {
   "cell_type": "markdown",
   "metadata": {},
   "source": [
    "* **logical operator**\n",
    "  - all()\n",
    "    - 모든 원소가 조건을 만족 시키면 True, 아니면 False\n",
    "  - any()\n",
    "    - 어떤 원소라도 조건을 만족 시키면 True, 아니면 False"
   ]
  },
  {
   "cell_type": "code",
   "execution_count": null,
   "metadata": {
    "collapsed": true
   },
   "outputs": [],
   "source": [
    "arr = np.random.randint(1, 10, size = (4,4))\n",
    "print(arr)"
   ]
  },
  {
   "cell_type": "code",
   "execution_count": null,
   "metadata": {
    "collapsed": true
   },
   "outputs": [],
   "source": [
    "print(np.all(arr < 7))"
   ]
  },
  {
   "cell_type": "code",
   "execution_count": null,
   "metadata": {
    "collapsed": true
   },
   "outputs": [],
   "source": [
    "print(np.any(arr == 9))"
   ]
  },
  {
   "cell_type": "markdown",
   "metadata": {},
   "source": [
    "* **ravel**\n",
    "  - 다차원배열을 1차원으로 변경"
   ]
  },
  {
   "cell_type": "code",
   "execution_count": 3,
   "metadata": {},
   "outputs": [
    {
     "name": "stdout",
     "output_type": "stream",
     "text": [
      "[[ 1  2  3  4  5]\n",
      " [10 11 12 13 14]]\n"
     ]
    }
   ],
   "source": [
    "arr = np.array([np.arange(1, 6), np.arange(10, 15)])\n",
    "print(arr)"
   ]
  },
  {
   "cell_type": "code",
   "execution_count": null,
   "metadata": {
    "collapsed": true
   },
   "outputs": [],
   "source": [
    "print(arr.ravel())"
   ]
  },
  {
   "cell_type": "markdown",
   "metadata": {},
   "source": [
    "* **flatten**\n",
    " - 다차원 배열을 1차원으로 변경\n",
    " - copy를 생성하여 변경함"
   ]
  },
  {
   "cell_type": "code",
   "execution_count": null,
   "metadata": {
    "collapsed": true
   },
   "outputs": [],
   "source": [
    "print(arr.flatten())"
   ]
  },
  {
   "cell_type": "code",
   "execution_count": null,
   "metadata": {
    "collapsed": true
   },
   "outputs": [],
   "source": [
    "print(arr.flatten('F')) # column을 우선으로 변경"
   ]
  },
  {
   "cell_type": "code",
   "execution_count": null,
   "metadata": {
    "collapsed": true
   },
   "outputs": [],
   "source": [
    "# ravel vs flatten\n",
    "f_arr = arr.flatten() # copy를 반환\n",
    "r_arr = arr.ravel() # 원본 ndarray와 메모리 공유\n",
    "\n",
    "r_arr[0] = 60\n",
    "\n",
    "print(f_arr)\n",
    "print(r_arr)\n",
    "print(arr)"
   ]
  },
  {
   "cell_type": "markdown",
   "metadata": {},
   "source": [
    "* **reshaping**\n",
    " - array의 shape을 재정렬\n",
    " - 이때, 서로의 전체 원소 개수가 맞아야 가능\n",
    " - 데이터 정제에 가장 많이 사용\n",
    "   e.g) 이미지의 경우, 2차원 픽셀로 표현되나, 이것을 ml library로 전달하기 위해 reshape하여 사용"
   ]
  },
  {
   "cell_type": "code",
   "execution_count": 21,
   "metadata": {},
   "outputs": [
    {
     "name": "stdout",
     "output_type": "stream",
     "text": [
      "[ 1  2  3  4  5  6  7  8  9 10 11 12 13 14 15]\n"
     ]
    },
    {
     "data": {
      "text/plain": [
       "\"arr2 = arr.reshape(2, 8, order='F') #'C'\\nprint(arr2)\\nprint(arr)\""
      ]
     },
     "execution_count": 21,
     "metadata": {},
     "output_type": "execute_result"
    }
   ],
   "source": [
    "arr = np.arange(1, 16)\n",
    "print(arr)\n",
    "\"\"\"arr2 = arr.reshape(2, 8, order='F') #'C'\n",
    "print(arr2)\n",
    "print(arr)\"\"\""
   ]
  },
  {
   "cell_type": "code",
   "execution_count": 22,
   "metadata": {},
   "outputs": [
    {
     "name": "stdout",
     "output_type": "stream",
     "text": [
      "[ 1  2  3  4  5  6  7  8  9 10 11 12 13 14 15]\n",
      "1\n",
      "8.0\n",
      "8.0\n",
      "15\n",
      "[99  2  3  4  5  6  7  8  9 10 20 21 22 23 24]\n",
      "4.32049379894\n",
      "0\n",
      "14\n",
      "120\n",
      "[ 1.          1.41421356  1.73205081  2.          2.23606798  2.44948974\n",
      "  2.64575131  2.82842712  3.          3.16227766  3.31662479  3.46410162\n",
      "  3.60555128  3.74165739  3.87298335]\n"
     ]
    }
   ],
   "source": [
    "print(arr)\n",
    "print(np.min(arr))\n",
    "print(np.mean(arr))\n",
    "print(np.median(arr))\n",
    "print(np.max(arr))\n",
    "print(np.maximum(arr, np.array([99, 1, 2, 3, 4, 5, 6, 7, 8, 9, 20, 21, 22, 23, 24]))) #??\n",
    "print(np.std(arr))\n",
    "print(np.argmin(arr))\n",
    "print(np.argmax(arr))\n",
    "print(np.sum(arr))\n",
    "print(np.sqrt(arr))"
   ]
  },
  {
   "cell_type": "markdown",
   "metadata": {},
   "source": [
    "* **자주 쓰는 numpy 함수**"
   ]
  },
  {
   "cell_type": "code",
   "execution_count": null,
   "metadata": {
    "collapsed": true
   },
   "outputs": [],
   "source": []
  },
  {
   "cell_type": "markdown",
   "metadata": {},
   "source": [
    "* **axis**\n",
    " - 몇몇 함수에는 axis keyword 파라미터가 존재\n",
    " - axis값이 없는 경우에는 전체 데이터에 대해 적용\n",
    " - axis값이 있는 경우에는, 해당 axis를 **따라서** 연산 적용"
   ]
  },
  {
   "cell_type": "code",
   "execution_count": 10,
   "metadata": {},
   "outputs": [
    {
     "name": "stdout",
     "output_type": "stream",
     "text": [
      "21\n"
     ]
    }
   ],
   "source": [
    "arr2 = np.array([[1, 2, 3], [4, 5, 6]])\n",
    "print(np.sum(arr2))"
   ]
  },
  {
   "cell_type": "code",
   "execution_count": 23,
   "metadata": {},
   "outputs": [
    {
     "name": "stdout",
     "output_type": "stream",
     "text": [
      "6\n"
     ]
    }
   ],
   "source": [
    "# 1차원 적용\n",
    "arr2 = np.array([1, 2, 3])\n",
    "print(np.sum(arr2, axis=0)) #1차원이기때문에 0"
   ]
  },
  {
   "cell_type": "code",
   "execution_count": 8,
   "metadata": {},
   "outputs": [
    {
     "name": "stdout",
     "output_type": "stream",
     "text": [
      "[[1 2 3]\n",
      " [4 5 6]]\n"
     ]
    }
   ],
   "source": [
    "arr2 = np.array([[1, 2, 3], [4, 5, 6]])\n",
    "print(arr2)"
   ]
  },
  {
   "cell_type": "code",
   "execution_count": 9,
   "metadata": {},
   "outputs": [
    {
     "name": "stdout",
     "output_type": "stream",
     "text": [
      "[5 7 9]\n",
      "[ 6 15]\n"
     ]
    }
   ],
   "source": [
    "# 2차원 적용\n",
    "\n",
    "print(np.sum(arr2, axis=0)) #행따라 더해라 (위로짜부러트려라)\n",
    "print(np.sum(arr2, axis=1)) #열따라 더해라 (옆으로짜부려트려라)"
   ]
  },
  {
   "cell_type": "code",
   "execution_count": 24,
   "metadata": {},
   "outputs": [
    {
     "name": "stdout",
     "output_type": "stream",
     "text": [
      "[[2 3 4]\n",
      " [6 7 8]]\n",
      "[[5 7 9]\n",
      " [3 3 3]]\n",
      "[[ 6 15]\n",
      " [ 3  6]]\n"
     ]
    }
   ],
   "source": [
    "# 3차원 적용\n",
    "#**********************************************\n",
    "arr2 = np.array([[[1, 2, 3], [4, 5, 6]], [[1, 1, 1], [2, 2, 2]]] )\n",
    "print(np.sum(arr2, axis=0))\n",
    "print(np.sum(arr2, axis=1))\n",
    "print(np.sum(arr2, axis=2)) #마지막 축부터 안쪽괄호부터"
   ]
  },
  {
   "cell_type": "markdown",
   "metadata": {},
   "source": [
    " * **numpy broadcasting**\n",
    "  - 연산시, 차원이 맞지 않은 경우, 적은 차원의 ndarray를 상위 차원으로 broadcast하여 연산 진행"
   ]
  },
  {
   "cell_type": "code",
   "execution_count": null,
   "metadata": {
    "collapsed": true
   },
   "outputs": [],
   "source": [
    "arr = np.arange(10)\n",
    "arr2 = np.arange(2, 12)\n",
    "arr3 = np.arange(10).reshape(2, 5)\n",
    "\n",
    "arr + arr2 # 기본적으로 element-wise 연산"
   ]
  },
  {
   "cell_type": "code",
   "execution_count": null,
   "metadata": {
    "collapsed": true
   },
   "outputs": [],
   "source": [
    "arr + 1"
   ]
  },
  {
   "cell_type": "code",
   "execution_count": null,
   "metadata": {
    "collapsed": true
   },
   "outputs": [],
   "source": [
    "2 ** arr "
   ]
  },
  {
   "cell_type": "code",
   "execution_count": null,
   "metadata": {
    "collapsed": true
   },
   "outputs": [],
   "source": [
    "arr ** 2"
   ]
  },
  {
   "cell_type": "code",
   "execution_count": null,
   "metadata": {
    "collapsed": true
   },
   "outputs": [],
   "source": [
    "arr3"
   ]
  },
  {
   "cell_type": "code",
   "execution_count": null,
   "metadata": {
    "collapsed": true
   },
   "outputs": [],
   "source": [
    "arr3 + arr[1:6]"
   ]
  },
  {
   "cell_type": "code",
   "execution_count": null,
   "metadata": {
    "collapsed": true
   },
   "outputs": [],
   "source": [
    "arr3.shape, arr[1:6].shape"
   ]
  },
  {
   "cell_type": "code",
   "execution_count": null,
   "metadata": {
    "collapsed": true
   },
   "outputs": [],
   "source": [
    "arr3 + 3"
   ]
  },
  {
   "cell_type": "markdown",
   "metadata": {},
   "source": [
    "* **where 함수**\n",
    " - condition에 따라 x, y선별적으로 선택"
   ]
  },
  {
   "cell_type": "code",
   "execution_count": null,
   "metadata": {
    "collapsed": true
   },
   "outputs": [],
   "source": [
    "a = np.array([1, 2, 4, 9, 10])\n",
    "b = np.array([0, 4, 9, 8, 7])\n",
    "a, b"
   ]
  },
  {
   "cell_type": "code",
   "execution_count": null,
   "metadata": {
    "collapsed": true
   },
   "outputs": [],
   "source": [
    "# 조건이 참이면 a, 거짓이면 b에서 선택\n",
    "np.where(a > 7, a, b) "
   ]
  },
  {
   "cell_type": "code",
   "execution_count": null,
   "metadata": {
    "collapsed": true
   },
   "outputs": [],
   "source": [
    "np.where([True, False, True, True, True], a, b)"
   ]
  },
  {
   "cell_type": "code",
   "execution_count": null,
   "metadata": {
    "collapsed": true
   },
   "outputs": [],
   "source": [
    "# 조건이 참이면 a, 거짓이면 1로 선택\n",
    "np.where(a > 7, a, 1)"
   ]
  },
  {
   "cell_type": "markdown",
   "metadata": {},
   "source": [
    "* **연습문제**\n",
    " 1. np.random.randn(5, 5)로 생성된 행렬에서 음수값을 0으로 변경하세요\n",
    " 2. numpy를 이용하여 Math.pi 값을 다시 구해봅시다.\n",
    " 3. python 기본 리스트 객체로 만든 두 행렬을 곱하는 코드를 작성하시오."
   ]
  },
  {
   "cell_type": "code",
   "execution_count": 6,
   "metadata": {},
   "outputs": [
    {
     "data": {
      "text/plain": [
       "array([[ 0.        ,  1.49169491,  0.        ,  0.01234011,  0.        ],\n",
       "       [ 0.96564061,  0.        ,  0.        ,  0.53174996,  1.06776627],\n",
       "       [ 0.        ,  1.28426351,  0.        ,  0.51717452,  1.51665998],\n",
       "       [ 0.72055153,  0.        ,  0.93730169,  0.09675055,  0.        ],\n",
       "       [ 0.        ,  0.70000747,  0.        ,  0.        ,  0.58682459]])"
      ]
     },
     "execution_count": 6,
     "metadata": {},
     "output_type": "execute_result"
    }
   ],
   "source": [
    "arr = np.random.randn(5,5)\n",
    "np.where(arr>0, arr, 0)"
   ]
  },
  {
   "cell_type": "code",
   "execution_count": 4,
   "metadata": {},
   "outputs": [
    {
     "name": "stdout",
     "output_type": "stream",
     "text": [
      "3.141592653589793\n",
      "3.53 s ± 227 ms per loop (mean ± std. dev. of 7 runs, 1 loop each)\n",
      "5.24 s ± 237 ms per loop (mean ± std. dev. of 7 runs, 1 loop each)\n",
      "3.14174128\n",
      "3.14147224\n"
     ]
    }
   ],
   "source": [
    "print(np.pi)\n",
    "n = 100000000\n",
    "\n",
    "#3.96s -> 3.53s\n",
    "def sos1(n):\n",
    "    return np.sum(np.random.rand(n) ** 2 + np.random.rand(n) ** 2 <= 1)*4/n\n",
    "\n",
    "#5.87 -> 5.24s\n",
    "def sos2(n):\n",
    "    return np.sum(np.sum(np.random.rand(n, 2) ** 2, axis=1) <= 1)*4/n\n",
    "\n",
    "\n",
    "\n",
    "%timeit sos1(n)\n",
    "%timeit sos2(n)\n",
    "#%timeit sos3(n)\n",
    "\n",
    "print(sos1(n))\n",
    "print(sos2(n))\n",
    "#print(sos3(n))"
   ]
  },
  {
   "cell_type": "code",
   "execution_count": 18,
   "metadata": {},
   "outputs": [
    {
     "name": "stdout",
     "output_type": "stream",
     "text": [
      "First matrix (3x3)\n",
      "[1, 2, 3]\n",
      "[4, 5, 6]\n",
      "[7, 8, 9]\n",
      "\n",
      "Second matrix (3x2)\n",
      "[9, 8]\n",
      "[6, 5]\n",
      "[3, 2]\n",
      "\n",
      "Result : (3x2)\n",
      "[30, 24]\n",
      "[84, 69]\n",
      "[138, 114]\n",
      "\n"
     ]
    }
   ],
   "source": [
    "list1 = [[1,2,3],[4,5,6],[7,8,9]]\n",
    "list2 = [[9,8],[6,5],[3,2]]\n",
    "res = [[0]*len(list2[0]) for _ in range(len(list1))]\n",
    "\n",
    "print(\"First matrix ({}x{})\".format(len(list1),len(list1[0])))\n",
    "for i in list1:\n",
    "    print(i)\n",
    "print()\n",
    "print(\"Second matrix ({}x{})\".format(len(list2),len(list2[0])))\n",
    "for i in list2:\n",
    "    print(i)\n",
    "print()\n",
    "if len(list1[0]) == len(list2):\n",
    "    for i in range(len(list1)):\n",
    "        for j in range(len(list2[0])):\n",
    "            for k in range(len(list1[0])):\n",
    "                res[i][j] += list1[i][k] * list2[k][j]\n",
    "    print(\"Result : ({}x{})\".format(len(list1),len(list2[0])))\n",
    "    for i in res:\n",
    "        print(i)\n",
    "    print()\n",
    "else:\n",
    "    print(\"I can't execute dot product!\\n\\\n",
    "        They are not matching a number of columns and a number of rows respectibly First matrix and second matrix.\")"
   ]
  },
  {
   "cell_type": "code",
   "execution_count": 11,
   "metadata": {},
   "outputs": [
    {
     "data": {
      "text/plain": [
       "[[11, 15], [8, 10]]"
      ]
     },
     "execution_count": 11,
     "metadata": {},
     "output_type": "execute_result"
    }
   ],
   "source": [
    "a = [[2,3,2], [1,2,2]]\n",
    "b = [[2,2],[1,3],[2,1]]\n",
    "\n",
    "def mat_mult(a, b):\n",
    "    if len(a[0]) != len(b):\n",
    "        raise Exception(\"invalid operation\")\n",
    "    m = len(a)\n",
    "    n = len(a[0])\n",
    "    l = len(b[0])\n",
    "    \n",
    "    rs = [[0]*l for _ in range(m)]\n",
    "    \n",
    "    for i in range(m):\n",
    "        for j in range(l):\n",
    "            for k in range(n):\n",
    "                rs[i][j] += a[i][k] * b[k][j]\n",
    "        \n",
    "    return rs\n",
    "        \n",
    "mat_mult(a,b)"
   ]
  },
  {
   "cell_type": "markdown",
   "metadata": {},
   "source": [
    "* **linear regression 실습**"
   ]
  },
  {
   "cell_type": "markdown",
   "metadata": {},
   "source": [
    "* generate random data\n",
    " - random package 활용하여 feature와 target 생성"
   ]
  },
  {
   "cell_type": "code",
   "execution_count": 19,
   "metadata": {},
   "outputs": [
    {
     "data": {
      "text/plain": [
       "((100,),\n",
       " array([-1.15080449,  1.15000992, -0.40225287,  0.26821883, -0.21520331,\n",
       "        -1.00025399,  0.23865068, -1.59186431, -0.3352364 , -1.03666091,\n",
       "         1.18020657,  0.86977251,  0.52342389,  1.30413288,  0.31584111,\n",
       "        -0.78849661, -0.55613461, -0.65151805, -0.79707499, -0.55186955,\n",
       "         0.99330823, -1.18199419, -0.13129887,  0.83185336, -0.74054943,\n",
       "         0.58185196, -0.10978256,  1.4248792 , -0.08280572, -0.40186493,\n",
       "         0.9023664 , -0.26538497, -0.53906934, -2.2353292 ,  0.22918722,\n",
       "        -0.2645018 , -0.43582978, -0.05671797,  0.07452334,  0.57139447,\n",
       "        -0.1105326 , -0.84727824,  2.34297921, -0.6316122 ,  0.44389209,\n",
       "         0.81951725, -0.32548447,  0.41787172, -0.93587249,  0.34420618,\n",
       "         1.90523546, -0.96434869, -0.24740574,  0.38434761, -0.90389644,\n",
       "         2.24042003, -1.75876759,  1.02966687,  1.6899972 , -0.30664231,\n",
       "        -1.31945279,  0.33984347,  1.16668915, -0.01779668,  2.94281817,\n",
       "        -0.78047886, -0.10388778, -0.36443698,  1.26121949, -1.60052661,\n",
       "        -0.15508148,  0.18204885,  0.76129656,  1.74357998,  0.35212591,\n",
       "         0.3141679 , -1.26003403,  1.13694301, -0.48640465, -1.36373875,\n",
       "         0.54960263,  0.68441442, -0.49190524, -1.40171069, -1.44264309,\n",
       "         3.5600653 , -1.1924878 ,  0.54559044,  0.36844787,  0.41804623,\n",
       "         0.16708443,  0.07738294,  1.58876885,  1.5099776 ,  1.5876804 ,\n",
       "         0.8193441 , -0.01246161,  1.32407171,  0.13071304, -0.63809879]))"
      ]
     },
     "execution_count": 19,
     "metadata": {},
     "output_type": "execute_result"
    }
   ],
   "source": [
    "x = np.random.randn(100)\n",
    "x.shape, x"
   ]
  },
  {
   "cell_type": "code",
   "execution_count": 20,
   "metadata": {},
   "outputs": [
    {
     "data": {
      "text/plain": [
       "((100,), array([ 25.73557513,  33.30318235,  28.09864895,  31.22138836,\n",
       "         28.33118195,  25.90265435,  29.41870689,  22.65272389,\n",
       "         28.98135929,  25.34214337,  33.21156715,  32.69364845,\n",
       "         30.27636343,  34.80685089,  29.94661808,  25.58111717,\n",
       "         27.12698061,  28.87048064,  26.96162226,  27.66608619,\n",
       "         33.54036642,  23.93957437,  29.80803475,  31.99092461,\n",
       "         26.14588017,  31.3327843 ,  27.83736199,  35.49374633,\n",
       "         28.42338649,  30.10328516,  31.17546221,  28.41012919,\n",
       "         27.6259673 ,  19.88833423,  30.43780058,  28.40336146,\n",
       "         28.27100056,  29.27636984,  29.34438668,  32.53905974,\n",
       "         29.07538915,  26.75384448,  37.81878421,  28.11537608,\n",
       "         31.94551184,  34.37468398,  27.59977923,  30.31386905,\n",
       "         26.920246  ,  31.10067733,  39.59134757,  25.37143157,\n",
       "         28.7734756 ,  32.55516106,  26.84523988,  38.08013828,\n",
       "         22.32990583,  33.91475719,  37.46490872,  30.16696296,\n",
       "         23.40629449,  30.80480398,  34.98905677,  29.9030774 ,\n",
       "         42.34658643,  27.06692577,  30.77005113,  28.73848099,\n",
       "         33.8433736 ,  22.78387927,  29.67671732,  30.59101828,\n",
       "         32.64796135,  35.60320116,  32.09661284,  31.66454355,\n",
       "         22.92556194,  33.07251307,  28.22505724,  24.47139476,\n",
       "         32.33909061,  32.64552468,  27.3208661 ,  26.15504851,\n",
       "         25.89663594,  46.28487915,  24.63598512,  32.50907028,\n",
       "         31.94134663,  30.92455133,  30.90692848,  29.73294747,\n",
       "         36.89608214,  35.55699824,  36.79713368,  31.8638281 ,\n",
       "         29.44272925,  36.28251205,  30.42505666,  26.05814479]))"
      ]
     },
     "execution_count": 20,
     "metadata": {},
     "output_type": "execute_result"
    }
   ],
   "source": [
    "y = 4 * x + 30 + 1.1 * np.random.randn(100)\n",
    "y.shape, y"
   ]
  },
  {
   "cell_type": "markdown",
   "metadata": {},
   "source": [
    "* plot data "
   ]
  },
  {
   "cell_type": "code",
   "execution_count": 21,
   "metadata": {
    "collapsed": true
   },
   "outputs": [],
   "source": [
    "import matplotlib.pyplot as plt\n",
    "%matplotlib inline #<=plt.show() 대신 노트북상에서 나타나게"
   ]
  },
  {
   "cell_type": "code",
   "execution_count": 22,
   "metadata": {},
   "outputs": [
    {
     "data": {
      "text/plain": [
       "<matplotlib.collections.PathCollection at 0x10cee9630>"
      ]
     },
     "execution_count": 22,
     "metadata": {},
     "output_type": "execute_result"
    },
    {
     "data": {
      "image/png": "[encoded data removed]",
      "text/plain": [
       "<matplotlib.figure.Figure at 0x10c4d4e80>"
      ]
     },
     "metadata": {},
     "output_type": "display_data"
    }
   ],
   "source": [
    "plt.scatter(x, y, c='r', marker='o')"
   ]
  },
  {
   "cell_type": "markdown",
   "metadata": {},
   "source": [
    "* create a model"
   ]
  },
  {
   "cell_type": "code",
   "execution_count": 23,
   "metadata": {
    "collapsed": true
   },
   "outputs": [],
   "source": [
    "x = x.reshape(100, 1)"
   ]
  },
  {
   "cell_type": "code",
   "execution_count": 25,
   "metadata": {},
   "outputs": [
    {
     "name": "stderr",
     "output_type": "stream",
     "text": [
      "/Users/ray/.pyenv/versions/3.6.1/envs/python_dss/lib/python3.6/site-packages/scipy/linalg/basic.py:1018: RuntimeWarning: internal gelsd driver lwork query error, required iwork dimension not returned. This is likely the result of LAPACK bug 0038, fixed in LAPACK 3.2.2 (released July 21, 2010). Falling back to 'gelss' driver.\n",
      "  warnings.warn(mesg, RuntimeWarning)\n"
     ]
    },
    {
     "data": {
      "text/plain": [
       "LinearRegression(copy_X=True, fit_intercept=True, n_jobs=1, normalize=False)"
      ]
     },
     "execution_count": 25,
     "metadata": {},
     "output_type": "execute_result"
    }
   ],
   "source": [
    "from sklearn.linear_model import LinearRegression\n",
    "\n",
    "model = LinearRegression()\n",
    "model.fit(x, y)"
   ]
  },
  {
   "cell_type": "markdown",
   "metadata": {},
   "source": [
    "* check coefficient, bias(intercept)"
   ]
  },
  {
   "cell_type": "code",
   "execution_count": 26,
   "metadata": {},
   "outputs": [
    {
     "data": {
      "text/plain": [
       "(array([ 4.05960402]), 29.730923837067952)"
      ]
     },
     "execution_count": 26,
     "metadata": {},
     "output_type": "execute_result"
    }
   ],
   "source": [
    "w = model.coef_\n",
    "b = model.intercept_\n",
    "\n",
    "w, b"
   ]
  },
  {
   "cell_type": "markdown",
   "metadata": {},
   "source": [
    "* plot data with our model"
   ]
  },
  {
   "cell_type": "code",
   "execution_count": 28,
   "metadata": {},
   "outputs": [
    {
     "data": {
      "text/plain": [
       "[<matplotlib.lines.Line2D at 0x10f798898>]"
      ]
     },
     "execution_count": 28,
     "metadata": {},
     "output_type": "execute_result"
    },
    {
     "data": {
      "image/png": "[encoded data removed]",
      "text/plain": [
       "<matplotlib.figure.Figure at 0x10f6f2cc0>"
      ]
     },
     "metadata": {},
     "output_type": "display_data"
    }
   ],
   "source": [
    "plt.scatter(x, y, c='r', marker='o')\n",
    "plt.plot(x, w * x + b, 'g-')\n",
    "plt.plot(x, 2*x+30, 'b-')"
   ]
  },
  {
   "cell_type": "markdown",
   "metadata": {},
   "source": [
    "* **pandas**\n",
    "  - http://pandas.pydata.org/\n",
    "  - Opensource python 고성능 데이터 분석 라이브러리\n",
    "  - DataFrame, Series 객체가 가장 많이 사용\n",
    "  - ML library인 scikit-learn과 함께 ML 분석에 많이 사용 됨\n",
    "  - pip install pandas로 설치\n",
    "  - 관례적으로 pd 로 임포트"
   ]
  },
  {
   "cell_type": "code",
   "execution_count": 2,
   "metadata": {
    "collapsed": true
   },
   "outputs": [],
   "source": [
    "import numpy as np\n",
    "import pandas as pd"
   ]
  },
  {
   "cell_type": "markdown",
   "metadata": {},
   "source": [
    " * **Series**\n",
    "  - pandas의 기본 객체 중 하나\n",
    "  - numpy의 ndarray를 기반으로 인덱싱을 기능을 추가하여 1차원 배열을 나타냄\n",
    "  - index를 지정하지 않을 시, 기본적으로 ndarray와 같이 0-based 인덱스 생성\n",
    "  - 같은 타입의 0개 이상의 데이터를 가질 수 있음"
   ]
  },
  {
   "cell_type": "code",
   "execution_count": 31,
   "metadata": {},
   "outputs": [
    {
     "name": "stdout",
     "output_type": "stream",
     "text": [
      "0     1\n",
      "1     2\n",
      "2    20\n",
      "dtype: int64\n"
     ]
    }
   ],
   "source": [
    "s1 = pd.Series([1, 2,  20]) #python list, ndarray (1-dimen)\n",
    "print(s1)"
   ]
  },
  {
   "cell_type": "code",
   "execution_count": 32,
   "metadata": {},
   "outputs": [
    {
     "name": "stdout",
     "output_type": "stream",
     "text": [
      "1\n"
     ]
    }
   ],
   "source": [
    "print(s1[0])"
   ]
  },
  {
   "cell_type": "code",
   "execution_count": 33,
   "metadata": {},
   "outputs": [
    {
     "name": "stdout",
     "output_type": "stream",
     "text": [
      "0    1\n",
      "1    2\n",
      "2    3\n",
      "3    4\n",
      "4    5\n",
      "dtype: int64\n"
     ]
    }
   ],
   "source": [
    "s2 = pd.Series(list(range(1, 6)))\n",
    "print(s2)"
   ]
  },
  {
   "cell_type": "markdown",
   "metadata": {},
   "source": [
    " * **값 및 인덱스 접근**\n",
    "  - 각가 values, index 속성"
   ]
  },
  {
   "cell_type": "code",
   "execution_count": 34,
   "metadata": {},
   "outputs": [
    {
     "name": "stdout",
     "output_type": "stream",
     "text": [
      "[1 2 3 4 5]\n"
     ]
    }
   ],
   "source": [
    "print(s2.values)"
   ]
  },
  {
   "cell_type": "code",
   "execution_count": 35,
   "metadata": {},
   "outputs": [
    {
     "name": "stdout",
     "output_type": "stream",
     "text": [
      "RangeIndex(start=0, stop=5, step=1)\n"
     ]
    }
   ],
   "source": [
    "print(s2.index)"
   ]
  },
  {
   "cell_type": "markdown",
   "metadata": {},
   "source": [
    "* **index 지정하기**"
   ]
  },
  {
   "cell_type": "code",
   "execution_count": null,
   "metadata": {
    "collapsed": true
   },
   "outputs": [],
   "source": [
    "print(chr(97))\n",
    "print([chr(i) for i in range(97, 100)])"
   ]
  },
  {
   "cell_type": "code",
   "execution_count": 36,
   "metadata": {},
   "outputs": [
    {
     "name": "stdout",
     "output_type": "stream",
     "text": [
      "a\n",
      "a    1\n",
      "b    2\n",
      "c    3\n",
      "dtype: int64\n",
      "\n",
      "[1 2 3]\n",
      "\n",
      "Index(['a', 'b', 'c'], dtype='object')\n"
     ]
    }
   ],
   "source": [
    "print(chr(97))\n",
    "\n",
    "s3 = pd.Series(list(range(1, 4)), index = [chr(i) for i in range(97, 100)]) #chr ASCII <-> Number\n",
    "print(s3)\n",
    "print()\n",
    "print(s3.values)\n",
    "print()\n",
    "print(s3.index)"
   ]
  },
  {
   "cell_type": "code",
   "execution_count": 37,
   "metadata": {},
   "outputs": [
    {
     "name": "stdout",
     "output_type": "stream",
     "text": [
      "2\n",
      "3\n"
     ]
    }
   ],
   "source": [
    "print(s3[1]) # 기본 인덱스, 문자열에서 살아있음\n",
    "print(s3['c']) "
   ]
  },
  {
   "cell_type": "code",
   "execution_count": 38,
   "metadata": {},
   "outputs": [
    {
     "data": {
      "text/plain": [
       "100    0\n",
       "101    1\n",
       "102    2\n",
       "103    3\n",
       "104    4\n",
       "105    5\n",
       "106    6\n",
       "107    7\n",
       "108    8\n",
       "109    9\n",
       "dtype: int64"
      ]
     },
     "execution_count": 38,
     "metadata": {},
     "output_type": "execute_result"
    }
   ],
   "source": [
    "s33 = pd.Series(range(10), index = range(100, 110)) #숫자로 인덱싱하면 0베이스가 죽는다\n",
    "s33"
   ]
  },
  {
   "cell_type": "code",
   "execution_count": null,
   "metadata": {
    "collapsed": true
   },
   "outputs": [],
   "source": [
    "#ord('a') ASCII->NUM, chr(97) NUM->ASCII"
   ]
  },
  {
   "cell_type": "markdown",
   "metadata": {},
   "source": [
    "* **index 재사용**"
   ]
  },
  {
   "cell_type": "code",
   "execution_count": 39,
   "metadata": {},
   "outputs": [
    {
     "name": "stdout",
     "output_type": "stream",
     "text": [
      "a    2\n",
      "b    2\n",
      "c    2\n",
      "dtype: int64\n"
     ]
    }
   ],
   "source": [
    "s4 = pd.Series(2, index = s3.index)\n",
    "print(s4)"
   ]
  },
  {
   "cell_type": "code",
   "execution_count": 40,
   "metadata": {},
   "outputs": [
    {
     "name": "stdout",
     "output_type": "stream",
     "text": [
      "0    0.065220\n",
      "1    0.200150\n",
      "2    0.546143\n",
      "3   -0.617827\n",
      "4    0.161587\n",
      "dtype: float64\n"
     ]
    }
   ],
   "source": [
    "s5 = pd.Series(np.random.randn(5))\n",
    "print(s5)"
   ]
  },
  {
   "cell_type": "code",
   "execution_count": 41,
   "metadata": {},
   "outputs": [
    {
     "name": "stdout",
     "output_type": "stream",
     "text": [
      "0    1\n",
      "1    2\n",
      "2    3\n",
      "3    4\n",
      "4    5\n",
      "5    6\n",
      "6    7\n",
      "7    8\n",
      "dtype: int64\n"
     ]
    }
   ],
   "source": [
    "s6 = pd.Series(np.arange(1, 9))\n",
    "print(s6)"
   ]
  },
  {
   "cell_type": "code",
   "execution_count": 42,
   "metadata": {},
   "outputs": [
    {
     "name": "stdout",
     "output_type": "stream",
     "text": [
      "a     100\n",
      "b    1000\n",
      "c       2\n",
      "d       6\n",
      "dtype: int64\n",
      "1000\n"
     ]
    }
   ],
   "source": [
    "s7 = pd.Series({'a' : 100, 'b' : 1000, 'c' : 2, 'd' : 6})\n",
    "print(s7)\n",
    "print(s7['b'])"
   ]
  },
  {
   "cell_type": "markdown",
   "metadata": {},
   "source": [
    "* **Series size, shape, unique, count, value_counts**\n",
    " - size : 개수 반환\n",
    " - shape : 튜플형태로 shape반환\n",
    " - unique: 유일한 값만 ndarray로 반환\n",
    " - count : NaN을 제외한 개수를 반환\n",
    " - value_counts: NaN을 제외하고 각 값들의 빈도를 반환 "
   ]
  },
  {
   "cell_type": "code",
   "execution_count": 43,
   "metadata": {},
   "outputs": [
    {
     "name": "stdout",
     "output_type": "stream",
     "text": [
      "0    0.0\n",
      "1    1.0\n",
      "2    1.0\n",
      "3    2.0\n",
      "4    3.0\n",
      "5    4.0\n",
      "6    5.0\n",
      "7    6.0\n",
      "8    7.0\n",
      "9    NaN\n",
      "dtype: float64\n"
     ]
    }
   ],
   "source": [
    "s = pd.Series([0, 1, 1, 2, 3, 4, 5, 6, 7, np.nan])\n",
    "print(s)"
   ]
  },
  {
   "cell_type": "code",
   "execution_count": 44,
   "metadata": {},
   "outputs": [
    {
     "name": "stdout",
     "output_type": "stream",
     "text": [
      "10\n"
     ]
    }
   ],
   "source": [
    "print(len(s))"
   ]
  },
  {
   "cell_type": "code",
   "execution_count": 45,
   "metadata": {},
   "outputs": [
    {
     "name": "stdout",
     "output_type": "stream",
     "text": [
      "10\n"
     ]
    }
   ],
   "source": [
    "print(s.size)"
   ]
  },
  {
   "cell_type": "code",
   "execution_count": 46,
   "metadata": {},
   "outputs": [
    {
     "name": "stdout",
     "output_type": "stream",
     "text": [
      "(10,)\n"
     ]
    }
   ],
   "source": [
    "print(s.shape)"
   ]
  },
  {
   "cell_type": "code",
   "execution_count": 47,
   "metadata": {},
   "outputs": [
    {
     "name": "stdout",
     "output_type": "stream",
     "text": [
      "9\n"
     ]
    }
   ],
   "source": [
    "print(s.count()) # NaN을 제외한 값을 카운팅"
   ]
  },
  {
   "cell_type": "code",
   "execution_count": 48,
   "metadata": {},
   "outputs": [
    {
     "name": "stdout",
     "output_type": "stream",
     "text": [
      "[  0.   1.   2.   3.   4.   5.   6.   7.  nan]\n"
     ]
    }
   ],
   "source": [
    "print(s.unique())"
   ]
  },
  {
   "cell_type": "code",
   "execution_count": 49,
   "metadata": {},
   "outputs": [
    {
     "name": "stdout",
     "output_type": "stream",
     "text": [
      "1.0    2\n",
      "7.0    1\n",
      "6.0    1\n",
      "5.0    1\n",
      "4.0    1\n",
      "3.0    1\n",
      "2.0    1\n",
      "0.0    1\n",
      "dtype: int64\n"
     ]
    }
   ],
   "source": [
    "print(s.value_counts()) # NaN 제외하고 값들을 카운팅 함, NaN은 값이 아님"
   ]
  },
  {
   "cell_type": "markdown",
   "metadata": {},
   "source": [
    "* **head, tail, take**\n",
    " - head : 상위 n개 출력 기본 5개\n",
    " - tail : 하위 n개 출력 기본 5개\n",
    " - take : 주어진 인덱스 리스트와 매칭되는 원소만 추출"
   ]
  },
  {
   "cell_type": "code",
   "execution_count": 50,
   "metadata": {},
   "outputs": [
    {
     "data": {
      "text/plain": [
       "0    0.0\n",
       "1    1.0\n",
       "2    1.0\n",
       "3    2.0\n",
       "4    3.0\n",
       "dtype: float64"
      ]
     },
     "execution_count": 50,
     "metadata": {},
     "output_type": "execute_result"
    }
   ],
   "source": [
    "s.head() # 상위 5개 출력"
   ]
  },
  {
   "cell_type": "code",
   "execution_count": 51,
   "metadata": {},
   "outputs": [
    {
     "data": {
      "text/plain": [
       "0    0.0\n",
       "1    1.0\n",
       "2    1.0\n",
       "dtype: float64"
      ]
     },
     "execution_count": 51,
     "metadata": {},
     "output_type": "execute_result"
    }
   ],
   "source": [
    "s.head(n = 3)"
   ]
  },
  {
   "cell_type": "code",
   "execution_count": 52,
   "metadata": {},
   "outputs": [
    {
     "data": {
      "text/plain": [
       "5    4.0\n",
       "6    5.0\n",
       "7    6.0\n",
       "8    7.0\n",
       "9    NaN\n",
       "dtype: float64"
      ]
     },
     "execution_count": 52,
     "metadata": {},
     "output_type": "execute_result"
    }
   ],
   "source": [
    "s.tail()"
   ]
  },
  {
   "cell_type": "code",
   "execution_count": 53,
   "metadata": {},
   "outputs": [
    {
     "data": {
      "text/plain": [
       "8    7.0\n",
       "9    NaN\n",
       "dtype: float64"
      ]
     },
     "execution_count": 53,
     "metadata": {},
     "output_type": "execute_result"
    }
   ],
   "source": [
    "s.tail(n = 2)"
   ]
  },
  {
   "cell_type": "code",
   "execution_count": 54,
   "metadata": {},
   "outputs": [
    {
     "name": "stdout",
     "output_type": "stream",
     "text": [
      "0    0.0\n",
      "1    1.0\n",
      "2    1.0\n",
      "3    2.0\n",
      "4    3.0\n",
      "5    4.0\n",
      "6    5.0\n",
      "7    6.0\n",
      "8    7.0\n",
      "9    NaN\n",
      "dtype: float64\n",
      "\n",
      "0    0.0\n",
      "4    3.0\n",
      "3    2.0\n",
      "9    NaN\n",
      "dtype: float64\n"
     ]
    }
   ],
   "source": [
    "print(s)\n",
    "print() \n",
    "print(s.take([0, 4, 3, 9]))"
   ]
  },
  {
   "cell_type": "code",
   "execution_count": 4,
   "metadata": {},
   "outputs": [
    {
     "data": {
      "text/plain": [
       "x    1\n",
       "z    3\n",
       "dtype: int64"
      ]
     },
     "execution_count": 4,
     "metadata": {},
     "output_type": "execute_result"
    }
   ],
   "source": [
    "s = pd.Series(np.arange(1, 4), index = ['x', 'y', 'z']) #0 베이스만 가능\n",
    "s.take([0, 2])\n",
    "#s.take(['x', 'z']) #0 - based index만 가능"
   ]
  },
  {
   "cell_type": "markdown",
   "metadata": {},
   "source": [
    " * **single value accessing**\n",
    "  - 인덱스를 이용하여 값 접근 가능\n",
    "  - 문자열 인덱스가 주어진 경우, 0-based index도 사용 가능\n",
    "  "
   ]
  },
  {
   "cell_type": "code",
   "execution_count": 56,
   "metadata": {},
   "outputs": [
    {
     "name": "stdout",
     "output_type": "stream",
     "text": [
      "1\n"
     ]
    }
   ],
   "source": [
    "print(s['x']) # 인덱스로 가능"
   ]
  },
  {
   "cell_type": "code",
   "execution_count": 57,
   "metadata": {},
   "outputs": [
    {
     "name": "stdout",
     "output_type": "stream",
     "text": [
      "2\n"
     ]
    }
   ],
   "source": [
    "print(s[1]) # 숫자 인덱스도 가능"
   ]
  },
  {
   "cell_type": "code",
   "execution_count": 59,
   "metadata": {},
   "outputs": [
    {
     "name": "stdout",
     "output_type": "stream",
     "text": [
      "1\n"
     ]
    },
    {
     "ename": "KeyError",
     "evalue": "0",
     "output_type": "error",
     "traceback": [
      "\u001b[0;31m---------------------------------------------------------------------------\u001b[0m",
      "\u001b[0;31mKeyError\u001b[0m                                  Traceback (most recent call last)",
      "\u001b[0;32m<ipython-input-59-dbc88b136fc5>\u001b[0m in \u001b[0;36m<module>\u001b[0;34m()\u001b[0m\n\u001b[1;32m      1\u001b[0m \u001b[0ms\u001b[0m \u001b[0;34m=\u001b[0m \u001b[0mpd\u001b[0m\u001b[0;34m.\u001b[0m\u001b[0mSeries\u001b[0m\u001b[0;34m(\u001b[0m\u001b[0mnp\u001b[0m\u001b[0;34m.\u001b[0m\u001b[0marange\u001b[0m\u001b[0;34m(\u001b[0m\u001b[0;36m1\u001b[0m\u001b[0;34m,\u001b[0m \u001b[0;36m4\u001b[0m\u001b[0;34m)\u001b[0m\u001b[0;34m,\u001b[0m \u001b[0mindex\u001b[0m \u001b[0;34m=\u001b[0m \u001b[0;34m[\u001b[0m\u001b[0;36m100\u001b[0m\u001b[0;34m,\u001b[0m \u001b[0;36m101\u001b[0m\u001b[0;34m,\u001b[0m \u001b[0;36m102\u001b[0m\u001b[0;34m]\u001b[0m\u001b[0;34m)\u001b[0m\u001b[0;34m\u001b[0m\u001b[0m\n\u001b[1;32m      2\u001b[0m \u001b[0mprint\u001b[0m\u001b[0;34m(\u001b[0m\u001b[0ms\u001b[0m\u001b[0;34m[\u001b[0m\u001b[0;36m100\u001b[0m\u001b[0;34m]\u001b[0m\u001b[0;34m)\u001b[0m\u001b[0;34m\u001b[0m\u001b[0m\n\u001b[0;32m----> 3\u001b[0;31m \u001b[0mprint\u001b[0m\u001b[0;34m(\u001b[0m\u001b[0ms\u001b[0m\u001b[0;34m[\u001b[0m\u001b[0;36m0\u001b[0m\u001b[0;34m]\u001b[0m\u001b[0;34m)\u001b[0m \u001b[0;31m# 에러\u001b[0m\u001b[0;34m\u001b[0m\u001b[0m\n\u001b[0m",
      "\u001b[0;32m~/.pyenv/versions/3.6.1/envs/python_dss/lib/python3.6/site-packages/pandas/core/series.py\u001b[0m in \u001b[0;36m__getitem__\u001b[0;34m(self, key)\u001b[0m\n\u001b[1;32m    599\u001b[0m         \u001b[0mkey\u001b[0m \u001b[0;34m=\u001b[0m \u001b[0mcom\u001b[0m\u001b[0;34m.\u001b[0m\u001b[0m_apply_if_callable\u001b[0m\u001b[0;34m(\u001b[0m\u001b[0mkey\u001b[0m\u001b[0;34m,\u001b[0m \u001b[0mself\u001b[0m\u001b[0;34m)\u001b[0m\u001b[0;34m\u001b[0m\u001b[0m\n\u001b[1;32m    600\u001b[0m         \u001b[0;32mtry\u001b[0m\u001b[0;34m:\u001b[0m\u001b[0;34m\u001b[0m\u001b[0m\n\u001b[0;32m--> 601\u001b[0;31m             \u001b[0mresult\u001b[0m \u001b[0;34m=\u001b[0m \u001b[0mself\u001b[0m\u001b[0;34m.\u001b[0m\u001b[0mindex\u001b[0m\u001b[0;34m.\u001b[0m\u001b[0mget_value\u001b[0m\u001b[0;34m(\u001b[0m\u001b[0mself\u001b[0m\u001b[0;34m,\u001b[0m \u001b[0mkey\u001b[0m\u001b[0;34m)\u001b[0m\u001b[0;34m\u001b[0m\u001b[0m\n\u001b[0m\u001b[1;32m    602\u001b[0m \u001b[0;34m\u001b[0m\u001b[0m\n\u001b[1;32m    603\u001b[0m             \u001b[0;32mif\u001b[0m \u001b[0;32mnot\u001b[0m \u001b[0mis_scalar\u001b[0m\u001b[0;34m(\u001b[0m\u001b[0mresult\u001b[0m\u001b[0;34m)\u001b[0m\u001b[0;34m:\u001b[0m\u001b[0;34m\u001b[0m\u001b[0m\n",
      "\u001b[0;32m~/.pyenv/versions/3.6.1/envs/python_dss/lib/python3.6/site-packages/pandas/core/indexes/base.py\u001b[0m in \u001b[0;36mget_value\u001b[0;34m(self, series, key)\u001b[0m\n\u001b[1;32m   2475\u001b[0m         \u001b[0;32mtry\u001b[0m\u001b[0;34m:\u001b[0m\u001b[0;34m\u001b[0m\u001b[0m\n\u001b[1;32m   2476\u001b[0m             return self._engine.get_value(s, k,\n\u001b[0;32m-> 2477\u001b[0;31m                                           tz=getattr(series.dtype, 'tz', None))\n\u001b[0m\u001b[1;32m   2478\u001b[0m         \u001b[0;32mexcept\u001b[0m \u001b[0mKeyError\u001b[0m \u001b[0;32mas\u001b[0m \u001b[0me1\u001b[0m\u001b[0;34m:\u001b[0m\u001b[0;34m\u001b[0m\u001b[0m\n\u001b[1;32m   2479\u001b[0m             \u001b[0;32mif\u001b[0m \u001b[0mlen\u001b[0m\u001b[0;34m(\u001b[0m\u001b[0mself\u001b[0m\u001b[0;34m)\u001b[0m \u001b[0;34m>\u001b[0m \u001b[0;36m0\u001b[0m \u001b[0;32mand\u001b[0m \u001b[0mself\u001b[0m\u001b[0;34m.\u001b[0m\u001b[0minferred_type\u001b[0m \u001b[0;32min\u001b[0m \u001b[0;34m[\u001b[0m\u001b[0;34m'integer'\u001b[0m\u001b[0;34m,\u001b[0m \u001b[0;34m'boolean'\u001b[0m\u001b[0;34m]\u001b[0m\u001b[0;34m:\u001b[0m\u001b[0;34m\u001b[0m\u001b[0m\n",
      "\u001b[0;32mpandas/_libs/index.pyx\u001b[0m in \u001b[0;36mpandas._libs.index.IndexEngine.get_value (pandas/_libs/index.c:4404)\u001b[0;34m()\u001b[0m\n",
      "\u001b[0;32mpandas/_libs/index.pyx\u001b[0m in \u001b[0;36mpandas._libs.index.IndexEngine.get_value (pandas/_libs/index.c:4087)\u001b[0;34m()\u001b[0m\n",
      "\u001b[0;32mpandas/_libs/index.pyx\u001b[0m in \u001b[0;36mpandas._libs.index.IndexEngine.get_loc (pandas/_libs/index.c:5126)\u001b[0;34m()\u001b[0m\n",
      "\u001b[0;32mpandas/_libs/hashtable_class_helper.pxi\u001b[0m in \u001b[0;36mpandas._libs.hashtable.Int64HashTable.get_item (pandas/_libs/hashtable.c:14031)\u001b[0;34m()\u001b[0m\n",
      "\u001b[0;32mpandas/_libs/hashtable_class_helper.pxi\u001b[0m in \u001b[0;36mpandas._libs.hashtable.Int64HashTable.get_item (pandas/_libs/hashtable.c:13975)\u001b[0;34m()\u001b[0m\n",
      "\u001b[0;31mKeyError\u001b[0m: 0"
     ]
    }
   ],
   "source": [
    "s = pd.Series(np.arange(1, 4), index = [100, 101, 102])\n",
    "print(s[100])\n",
    "print(s[0]) # 에러"
   ]
  },
  {
   "cell_type": "markdown",
   "metadata": {},
   "source": [
    "* **multiple values accessing**\n",
    " - 인덱스 리스트, ndarray로 여러 값에 접근 가능"
   ]
  },
  {
   "cell_type": "code",
   "execution_count": 60,
   "metadata": {},
   "outputs": [
    {
     "name": "stdout",
     "output_type": "stream",
     "text": [
      "100    1\n",
      "101    2\n",
      "102    3\n",
      "dtype: int64\n",
      "100    1\n",
      "102    3\n",
      "dtype: int64\n"
     ]
    }
   ],
   "source": [
    "print(s)\n",
    "print(s[[100, 102]]) #여러개 원소 index[[list]]"
   ]
  },
  {
   "cell_type": "markdown",
   "metadata": {},
   "source": [
    "* **loc , iloc**\n",
    "  - loc[] : index로 값 접근\n",
    "  - iloc[] : 0 based index로 값 접근"
   ]
  },
  {
   "cell_type": "code",
   "execution_count": 61,
   "metadata": {},
   "outputs": [
    {
     "name": "stdout",
     "output_type": "stream",
     "text": [
      "100    1\n",
      "101    2\n",
      "102    3\n",
      "dtype: int64\n"
     ]
    }
   ],
   "source": [
    "print(s)"
   ]
  },
  {
   "cell_type": "code",
   "execution_count": 62,
   "metadata": {},
   "outputs": [
    {
     "name": "stdout",
     "output_type": "stream",
     "text": [
      "1\n"
     ]
    }
   ],
   "source": [
    "print(s.loc[100])"
   ]
  },
  {
   "cell_type": "code",
   "execution_count": 63,
   "metadata": {},
   "outputs": [
    {
     "name": "stdout",
     "output_type": "stream",
     "text": [
      "1\n"
     ]
    }
   ],
   "source": [
    "print(s.iloc[0])"
   ]
  },
  {
   "cell_type": "code",
   "execution_count": 64,
   "metadata": {},
   "outputs": [
    {
     "name": "stdout",
     "output_type": "stream",
     "text": [
      "100    1\n",
      "102    3\n",
      "dtype: int64\n"
     ]
    }
   ],
   "source": [
    "print(s.loc[[100, 102]])"
   ]
  },
  {
   "cell_type": "code",
   "execution_count": 65,
   "metadata": {},
   "outputs": [
    {
     "name": "stdout",
     "output_type": "stream",
     "text": [
      "100    1\n",
      "102    3\n",
      "dtype: int64\n"
     ]
    }
   ],
   "source": [
    "print(s.iloc[[0, 2]])"
   ]
  },
  {
   "cell_type": "code",
   "execution_count": 66,
   "metadata": {},
   "outputs": [
    {
     "data": {
      "text/plain": [
       "100    1.0\n",
       "102    3.0\n",
       "104    NaN\n",
       "105    NaN\n",
       "dtype: float64"
      ]
     },
     "execution_count": 66,
     "metadata": {},
     "output_type": "execute_result"
    }
   ],
   "source": [
    "s.loc[[100, 102, 104, 105]]"
   ]
  },
  {
   "cell_type": "code",
   "execution_count": 67,
   "metadata": {},
   "outputs": [
    {
     "ename": "IndexError",
     "evalue": "positional indexers are out-of-bounds",
     "output_type": "error",
     "traceback": [
      "\u001b[0;31m---------------------------------------------------------------------------\u001b[0m",
      "\u001b[0;31mIndexError\u001b[0m                                Traceback (most recent call last)",
      "\u001b[0;32m~/.pyenv/versions/3.6.1/envs/python_dss/lib/python3.6/site-packages/pandas/core/indexing.py\u001b[0m in \u001b[0;36m_get_list_axis\u001b[0;34m(self, key, axis)\u001b[0m\n\u001b[1;32m   1714\u001b[0m         \u001b[0;32mtry\u001b[0m\u001b[0;34m:\u001b[0m\u001b[0;34m\u001b[0m\u001b[0m\n\u001b[0;32m-> 1715\u001b[0;31m             \u001b[0;32mreturn\u001b[0m \u001b[0mself\u001b[0m\u001b[0;34m.\u001b[0m\u001b[0mobj\u001b[0m\u001b[0;34m.\u001b[0m\u001b[0mtake\u001b[0m\u001b[0;34m(\u001b[0m\u001b[0mkey\u001b[0m\u001b[0;34m,\u001b[0m \u001b[0maxis\u001b[0m\u001b[0;34m=\u001b[0m\u001b[0maxis\u001b[0m\u001b[0;34m,\u001b[0m \u001b[0mconvert\u001b[0m\u001b[0;34m=\u001b[0m\u001b[0;32mFalse\u001b[0m\u001b[0;34m)\u001b[0m\u001b[0;34m\u001b[0m\u001b[0m\n\u001b[0m\u001b[1;32m   1716\u001b[0m         \u001b[0;32mexcept\u001b[0m \u001b[0mIndexError\u001b[0m\u001b[0;34m:\u001b[0m\u001b[0;34m\u001b[0m\u001b[0m\n",
      "\u001b[0;32m~/.pyenv/versions/3.6.1/envs/python_dss/lib/python3.6/site-packages/pandas/core/series.py\u001b[0m in \u001b[0;36mtake\u001b[0;34m(self, indices, axis, convert, is_copy, **kwargs)\u001b[0m\n\u001b[1;32m   2499\u001b[0m         \u001b[0mindices\u001b[0m \u001b[0;34m=\u001b[0m \u001b[0m_ensure_platform_int\u001b[0m\u001b[0;34m(\u001b[0m\u001b[0mindices\u001b[0m\u001b[0;34m)\u001b[0m\u001b[0;34m\u001b[0m\u001b[0m\n\u001b[0;32m-> 2500\u001b[0;31m         \u001b[0mnew_index\u001b[0m \u001b[0;34m=\u001b[0m \u001b[0mself\u001b[0m\u001b[0;34m.\u001b[0m\u001b[0mindex\u001b[0m\u001b[0;34m.\u001b[0m\u001b[0mtake\u001b[0m\u001b[0;34m(\u001b[0m\u001b[0mindices\u001b[0m\u001b[0;34m)\u001b[0m\u001b[0;34m\u001b[0m\u001b[0m\n\u001b[0m\u001b[1;32m   2501\u001b[0m         \u001b[0mnew_values\u001b[0m \u001b[0;34m=\u001b[0m \u001b[0mself\u001b[0m\u001b[0;34m.\u001b[0m\u001b[0m_values\u001b[0m\u001b[0;34m.\u001b[0m\u001b[0mtake\u001b[0m\u001b[0;34m(\u001b[0m\u001b[0mindices\u001b[0m\u001b[0;34m)\u001b[0m\u001b[0;34m\u001b[0m\u001b[0m\n",
      "\u001b[0;32m~/.pyenv/versions/3.6.1/envs/python_dss/lib/python3.6/site-packages/pandas/core/indexes/base.py\u001b[0m in \u001b[0;36mtake\u001b[0;34m(self, indices, axis, allow_fill, fill_value, **kwargs)\u001b[0m\n\u001b[1;32m   1786\u001b[0m                 \u001b[0;32mraise\u001b[0m \u001b[0mValueError\u001b[0m\u001b[0;34m(\u001b[0m\u001b[0mmsg\u001b[0m\u001b[0;34m.\u001b[0m\u001b[0mformat\u001b[0m\u001b[0;34m(\u001b[0m\u001b[0mself\u001b[0m\u001b[0;34m.\u001b[0m\u001b[0m__class__\u001b[0m\u001b[0;34m.\u001b[0m\u001b[0m__name__\u001b[0m\u001b[0;34m)\u001b[0m\u001b[0;34m)\u001b[0m\u001b[0;34m\u001b[0m\u001b[0m\n\u001b[0;32m-> 1787\u001b[0;31m             \u001b[0mtaken\u001b[0m \u001b[0;34m=\u001b[0m \u001b[0mself\u001b[0m\u001b[0;34m.\u001b[0m\u001b[0mvalues\u001b[0m\u001b[0;34m.\u001b[0m\u001b[0mtake\u001b[0m\u001b[0;34m(\u001b[0m\u001b[0mindices\u001b[0m\u001b[0;34m)\u001b[0m\u001b[0;34m\u001b[0m\u001b[0m\n\u001b[0m\u001b[1;32m   1788\u001b[0m         \u001b[0;32mreturn\u001b[0m \u001b[0mself\u001b[0m\u001b[0;34m.\u001b[0m\u001b[0m_shallow_copy\u001b[0m\u001b[0;34m(\u001b[0m\u001b[0mtaken\u001b[0m\u001b[0;34m)\u001b[0m\u001b[0;34m\u001b[0m\u001b[0m\n",
      "\u001b[0;31mIndexError\u001b[0m: index 4 is out of bounds for size 3",
      "\nDuring handling of the above exception, another exception occurred:\n",
      "\u001b[0;31mIndexError\u001b[0m                                Traceback (most recent call last)",
      "\u001b[0;32m<ipython-input-67-6f2b43481125>\u001b[0m in \u001b[0;36m<module>\u001b[0;34m()\u001b[0m\n\u001b[1;32m      1\u001b[0m \u001b[0;31m# 에러 발생\u001b[0m\u001b[0;34m\u001b[0m\u001b[0;34m\u001b[0m\u001b[0m\n\u001b[1;32m      2\u001b[0m \u001b[0;31m# 인덱스 4가 없기 때문\u001b[0m\u001b[0;34m\u001b[0m\u001b[0;34m\u001b[0m\u001b[0m\n\u001b[0;32m----> 3\u001b[0;31m \u001b[0ms\u001b[0m\u001b[0;34m.\u001b[0m\u001b[0miloc\u001b[0m\u001b[0;34m[\u001b[0m\u001b[0;34m[\u001b[0m\u001b[0;36m0\u001b[0m\u001b[0;34m,\u001b[0m \u001b[0;36m2\u001b[0m\u001b[0;34m,\u001b[0m \u001b[0;36m1\u001b[0m\u001b[0;34m,\u001b[0m \u001b[0;36m4\u001b[0m\u001b[0;34m]\u001b[0m\u001b[0;34m]\u001b[0m\u001b[0;34m\u001b[0m\u001b[0m\n\u001b[0m",
      "\u001b[0;32m~/.pyenv/versions/3.6.1/envs/python_dss/lib/python3.6/site-packages/pandas/core/indexing.py\u001b[0m in \u001b[0;36m__getitem__\u001b[0;34m(self, key)\u001b[0m\n\u001b[1;32m   1326\u001b[0m         \u001b[0;32melse\u001b[0m\u001b[0;34m:\u001b[0m\u001b[0;34m\u001b[0m\u001b[0m\n\u001b[1;32m   1327\u001b[0m             \u001b[0mkey\u001b[0m \u001b[0;34m=\u001b[0m \u001b[0mcom\u001b[0m\u001b[0;34m.\u001b[0m\u001b[0m_apply_if_callable\u001b[0m\u001b[0;34m(\u001b[0m\u001b[0mkey\u001b[0m\u001b[0;34m,\u001b[0m \u001b[0mself\u001b[0m\u001b[0;34m.\u001b[0m\u001b[0mobj\u001b[0m\u001b[0;34m)\u001b[0m\u001b[0;34m\u001b[0m\u001b[0m\n\u001b[0;32m-> 1328\u001b[0;31m             \u001b[0;32mreturn\u001b[0m \u001b[0mself\u001b[0m\u001b[0;34m.\u001b[0m\u001b[0m_getitem_axis\u001b[0m\u001b[0;34m(\u001b[0m\u001b[0mkey\u001b[0m\u001b[0;34m,\u001b[0m \u001b[0maxis\u001b[0m\u001b[0;34m=\u001b[0m\u001b[0;36m0\u001b[0m\u001b[0;34m)\u001b[0m\u001b[0;34m\u001b[0m\u001b[0m\n\u001b[0m\u001b[1;32m   1329\u001b[0m \u001b[0;34m\u001b[0m\u001b[0m\n\u001b[1;32m   1330\u001b[0m     \u001b[0;32mdef\u001b[0m \u001b[0m_is_scalar_access\u001b[0m\u001b[0;34m(\u001b[0m\u001b[0mself\u001b[0m\u001b[0;34m,\u001b[0m \u001b[0mkey\u001b[0m\u001b[0;34m)\u001b[0m\u001b[0;34m:\u001b[0m\u001b[0;34m\u001b[0m\u001b[0m\n",
      "\u001b[0;32m~/.pyenv/versions/3.6.1/envs/python_dss/lib/python3.6/site-packages/pandas/core/indexing.py\u001b[0m in \u001b[0;36m_getitem_axis\u001b[0;34m(self, key, axis)\u001b[0m\n\u001b[1;32m   1736\u001b[0m         \u001b[0;31m# a list of integers\u001b[0m\u001b[0;34m\u001b[0m\u001b[0;34m\u001b[0m\u001b[0m\n\u001b[1;32m   1737\u001b[0m         \u001b[0;32melif\u001b[0m \u001b[0mis_list_like_indexer\u001b[0m\u001b[0;34m(\u001b[0m\u001b[0mkey\u001b[0m\u001b[0;34m)\u001b[0m\u001b[0;34m:\u001b[0m\u001b[0;34m\u001b[0m\u001b[0m\n\u001b[0;32m-> 1738\u001b[0;31m             \u001b[0;32mreturn\u001b[0m \u001b[0mself\u001b[0m\u001b[0;34m.\u001b[0m\u001b[0m_get_list_axis\u001b[0m\u001b[0;34m(\u001b[0m\u001b[0mkey\u001b[0m\u001b[0;34m,\u001b[0m \u001b[0maxis\u001b[0m\u001b[0;34m=\u001b[0m\u001b[0maxis\u001b[0m\u001b[0;34m)\u001b[0m\u001b[0;34m\u001b[0m\u001b[0m\n\u001b[0m\u001b[1;32m   1739\u001b[0m \u001b[0;34m\u001b[0m\u001b[0m\n\u001b[1;32m   1740\u001b[0m         \u001b[0;31m# a single integer\u001b[0m\u001b[0;34m\u001b[0m\u001b[0;34m\u001b[0m\u001b[0m\n",
      "\u001b[0;32m~/.pyenv/versions/3.6.1/envs/python_dss/lib/python3.6/site-packages/pandas/core/indexing.py\u001b[0m in \u001b[0;36m_get_list_axis\u001b[0;34m(self, key, axis)\u001b[0m\n\u001b[1;32m   1716\u001b[0m         \u001b[0;32mexcept\u001b[0m \u001b[0mIndexError\u001b[0m\u001b[0;34m:\u001b[0m\u001b[0;34m\u001b[0m\u001b[0m\n\u001b[1;32m   1717\u001b[0m             \u001b[0;31m# re-raise with different error message\u001b[0m\u001b[0;34m\u001b[0m\u001b[0;34m\u001b[0m\u001b[0m\n\u001b[0;32m-> 1718\u001b[0;31m             \u001b[0;32mraise\u001b[0m \u001b[0mIndexError\u001b[0m\u001b[0;34m(\u001b[0m\u001b[0;34m\"positional indexers are out-of-bounds\"\u001b[0m\u001b[0;34m)\u001b[0m\u001b[0;34m\u001b[0m\u001b[0m\n\u001b[0m\u001b[1;32m   1719\u001b[0m \u001b[0;34m\u001b[0m\u001b[0m\n\u001b[1;32m   1720\u001b[0m     \u001b[0;32mdef\u001b[0m \u001b[0m_getitem_axis\u001b[0m\u001b[0;34m(\u001b[0m\u001b[0mself\u001b[0m\u001b[0;34m,\u001b[0m \u001b[0mkey\u001b[0m\u001b[0;34m,\u001b[0m \u001b[0maxis\u001b[0m\u001b[0;34m=\u001b[0m\u001b[0;36m0\u001b[0m\u001b[0;34m)\u001b[0m\u001b[0;34m:\u001b[0m\u001b[0;34m\u001b[0m\u001b[0m\n",
      "\u001b[0;31mIndexError\u001b[0m: positional indexers are out-of-bounds"
     ]
    }
   ],
   "source": [
    "# 에러 발생\n",
    "# 인덱스 4가 없기 때문\n",
    "s.iloc[[0, 2, 1, 4]] "
   ]
  },
  {
   "cell_type": "markdown",
   "metadata": {},
   "source": [
    "* **index를 기준으로 더하기**"
   ]
  },
  {
   "cell_type": "code",
   "execution_count": 68,
   "metadata": {},
   "outputs": [
    {
     "name": "stdout",
     "output_type": "stream",
     "text": [
      "a    1\n",
      "b    2\n",
      "c    3\n",
      "d    4\n",
      "dtype: int64\n"
     ]
    }
   ],
   "source": [
    "s1 = pd.Series([1, 2, 3, 4], index=['a', 'b', 'c', 'd'])\n",
    "print(s1)"
   ]
  },
  {
   "cell_type": "code",
   "execution_count": 69,
   "metadata": {},
   "outputs": [
    {
     "data": {
      "text/plain": [
       "d    4\n",
       "c    3\n",
       "b    2\n",
       "a    1\n",
       "dtype: int64"
      ]
     },
     "execution_count": 69,
     "metadata": {},
     "output_type": "execute_result"
    }
   ],
   "source": [
    "s2 = pd.Series([4, 3, 2, 1], index=['d', 'c', 'b', 'a'])\n",
    "s2"
   ]
  },
  {
   "cell_type": "code",
   "execution_count": 70,
   "metadata": {},
   "outputs": [
    {
     "name": "stdout",
     "output_type": "stream",
     "text": [
      "a    2\n",
      "b    4\n",
      "c    6\n",
      "d    8\n",
      "dtype: int64\n"
     ]
    }
   ],
   "source": [
    "print(s1 + s2) #같은 인덱스끼리 더한다"
   ]
  },
  {
   "cell_type": "code",
   "execution_count": 71,
   "metadata": {},
   "outputs": [
    {
     "data": {
      "text/plain": [
       "array([5, 5, 5, 5])"
      ]
     },
     "execution_count": 71,
     "metadata": {},
     "output_type": "execute_result"
    }
   ],
   "source": [
    "a1 = np.array([1, 2, 3, 4])\n",
    "a2 = np.array([4, 3, 2, 1])\n",
    "a1 + a2"
   ]
  },
  {
   "cell_type": "markdown",
   "metadata": {},
   "source": [
    "* **산술연산**\n",
    " - Series의 경우에도 스칼라와의 연산은 각 원소별로 스칼라와의 연산이 적용\n",
    " - Series와의 연산은 각 인덱스에 맞는 값끼리 연산이 적용\n",
    "   - 이때, 인덱스의 pair가 맞지 않으면, 결과는 NaN "
   ]
  },
  {
   "cell_type": "code",
   "execution_count": 72,
   "metadata": {},
   "outputs": [
    {
     "name": "stdout",
     "output_type": "stream",
     "text": [
      "a    1\n",
      "b    2\n",
      "c    3\n",
      "d    4\n",
      "dtype: int64\n"
     ]
    }
   ],
   "source": [
    "print(s1)"
   ]
  },
  {
   "cell_type": "code",
   "execution_count": 73,
   "metadata": {},
   "outputs": [
    {
     "name": "stdout",
     "output_type": "stream",
     "text": [
      "a     1\n",
      "b     4\n",
      "c     9\n",
      "d    16\n",
      "dtype: int64\n",
      "a    1\n",
      "b    2\n",
      "c    3\n",
      "d    4\n",
      "dtype: int64\n"
     ]
    }
   ],
   "source": [
    "print(s1 ** 2)\n",
    "print(s1)"
   ]
  },
  {
   "cell_type": "code",
   "execution_count": 74,
   "metadata": {},
   "outputs": [
    {
     "name": "stdout",
     "output_type": "stream",
     "text": [
      "a     1\n",
      "b     4\n",
      "c     9\n",
      "d    16\n",
      "dtype: int64\n"
     ]
    }
   ],
   "source": [
    "exp = pd.Series(2, s1.index)\n",
    "print(s1 ** exp)"
   ]
  },
  {
   "cell_type": "code",
   "execution_count": 75,
   "metadata": {},
   "outputs": [
    {
     "name": "stdout",
     "output_type": "stream",
     "text": [
      "a     NaN\n",
      "b     8.0\n",
      "c    10.0\n",
      "d    14.0\n",
      "e     NaN\n",
      "dtype: float64\n"
     ]
    }
   ],
   "source": [
    "s1 = pd.Series({'a': 1, 'b': 2, 'c': 3, 'd': 5})\n",
    "s2 = pd.Series({'b': 6, 'c': 7, 'd': 9, 'e': 10})\n",
    "\n",
    "print(s1 + s2)"
   ]
  },
  {
   "cell_type": "markdown",
   "metadata": {},
   "source": [
    " * **NaN (Not a Number)**\n",
    "  - numpy와 비교"
   ]
  },
  {
   "cell_type": "code",
   "execution_count": 76,
   "metadata": {},
   "outputs": [
    {
     "data": {
      "text/plain": [
       "3.0"
      ]
     },
     "execution_count": 76,
     "metadata": {},
     "output_type": "execute_result"
    }
   ],
   "source": [
    "nda = np.array([1, 2, 3, 4, 5])\n",
    "nda.mean()\n",
    "np.mean(nda)"
   ]
  },
  {
   "cell_type": "code",
   "execution_count": 77,
   "metadata": {},
   "outputs": [
    {
     "data": {
      "text/plain": [
       "nan"
      ]
     },
     "execution_count": 77,
     "metadata": {},
     "output_type": "execute_result"
    }
   ],
   "source": [
    "nda = np.array([1, 2, 3, 4, np.NaN])\n",
    "nda.mean()"
   ]
  },
  {
   "cell_type": "code",
   "execution_count": 79,
   "metadata": {},
   "outputs": [
    {
     "name": "stdout",
     "output_type": "stream",
     "text": [
      "2.5\n",
      "nan\n"
     ]
    }
   ],
   "source": [
    "s = pd.Series([1, 2, 3, 4, np.NaN])\n",
    "print(s.mean())\n",
    "print(s.mean(skipna=False)) #do not skip"
   ]
  },
  {
   "cell_type": "markdown",
   "metadata": {},
   "source": [
    " * **Boolean selection**\n",
    "  - boolean Series가 []와 함께 사용되면 True 값에 해당하는 값만 새로 반환되는 Series객체에 포함됨"
   ]
  },
  {
   "cell_type": "code",
   "execution_count": 81,
   "metadata": {},
   "outputs": [
    {
     "name": "stdout",
     "output_type": "stream",
     "text": [
      "5    6\n",
      "6    7\n",
      "7    8\n",
      "8    9\n",
      "dtype: int64\n",
      "0    1\n",
      "1    2\n",
      "2    3\n",
      "3    4\n",
      "4    5\n",
      "5    6\n",
      "6    7\n",
      "7    8\n",
      "8    9\n",
      "dtype: int64\n"
     ]
    }
   ],
   "source": [
    "s = pd.Series(np.arange(1, 10))\n",
    "s > 5\n",
    "print(s[s > 5])\n",
    "print(s)"
   ]
  },
  {
   "cell_type": "code",
   "execution_count": 82,
   "metadata": {},
   "outputs": [
    {
     "name": "stdout",
     "output_type": "stream",
     "text": [
      "5    6\n",
      "6    7\n",
      "7    8\n",
      "8    9\n",
      "dtype: int64\n"
     ]
    }
   ],
   "source": [
    "my_logic = s > 5 #s.index 도 가능\n",
    "print(s[my_logic])"
   ]
  },
  {
   "cell_type": "code",
   "execution_count": 83,
   "metadata": {
    "scrolled": true
   },
   "outputs": [
    {
     "name": "stdout",
     "output_type": "stream",
     "text": [
      "5    6\n",
      "6    7\n",
      "7    8\n",
      "8    9\n",
      "dtype: int64\n"
     ]
    }
   ],
   "source": [
    "print(s[s > 5])\n"
   ]
  },
  {
   "cell_type": "code",
   "execution_count": 84,
   "metadata": {},
   "outputs": [
    {
     "data": {
      "text/plain": [
       "0    1\n",
       "1    2\n",
       "2    3\n",
       "3    4\n",
       "4    5\n",
       "5    6\n",
       "6    7\n",
       "7    8\n",
       "8    9\n",
       "dtype: int64"
      ]
     },
     "execution_count": 84,
     "metadata": {},
     "output_type": "execute_result"
    }
   ],
   "source": [
    "s"
   ]
  },
  {
   "cell_type": "code",
   "execution_count": null,
   "metadata": {
    "collapsed": true
   },
   "outputs": [],
   "source": [
    "#print s > 5 and s < 8\n",
    "#print s[s > 5 and s < 8]\n",
    "print(s[(s > 5) & (s < 8)]) # & and , | or"
   ]
  },
  {
   "cell_type": "code",
   "execution_count": null,
   "metadata": {
    "collapsed": true
   },
   "outputs": [],
   "source": [
    "print((s >= 0).all())\n",
    "print((s >= 2).all())"
   ]
  },
  {
   "cell_type": "code",
   "execution_count": null,
   "metadata": {
    "collapsed": true
   },
   "outputs": [],
   "source": [
    "print((s < 2).any())\n",
    "print(s[s < 2].any())"
   ]
  },
  {
   "cell_type": "code",
   "execution_count": 85,
   "metadata": {},
   "outputs": [
    {
     "name": "stdout",
     "output_type": "stream",
     "text": [
      "0    1\n",
      "1    2\n",
      "2    3\n",
      "3    4\n",
      "4    5\n",
      "5    6\n",
      "6    7\n",
      "7    8\n",
      "8    9\n",
      "dtype: int64\n",
      "\n",
      "24\n",
      "3\n"
     ]
    }
   ],
   "source": [
    "print(s)\n",
    "print() \n",
    "print(s[s >= 7].sum()) #값으로 비교\n",
    "print((s >= 7).sum())"
   ]
  },
  {
   "cell_type": "markdown",
   "metadata": {},
   "source": [
    "* **Series 값 변경**\n",
    "  - 인덱스를 이용하여 변경  \n"
   ]
  },
  {
   "cell_type": "code",
   "execution_count": 86,
   "metadata": {},
   "outputs": [
    {
     "name": "stdout",
     "output_type": "stream",
     "text": [
      "a       1\n",
      "b      10\n",
      "c     100\n",
      "d    1000\n",
      "dtype: int64\n",
      "a        1\n",
      "b       10\n",
      "c      100\n",
      "d    10000\n",
      "dtype: int64\n"
     ]
    }
   ],
   "source": [
    "s = pd.Series([1, 10, 100], index = ['a', 'b', 'c'])\n",
    "s['d'] = 1000\n",
    "\n",
    "print(s)\n",
    "\n",
    "s['d'] = 10000\n",
    "print(s)"
   ]
  },
  {
   "cell_type": "code",
   "execution_count": 87,
   "metadata": {},
   "outputs": [
    {
     "name": "stdout",
     "output_type": "stream",
     "text": [
      "b       10\n",
      "c      100\n",
      "d    10000\n",
      "dtype: int64\n"
     ]
    }
   ],
   "source": [
    "del s['a']\n",
    "print(s)"
   ]
  },
  {
   "cell_type": "markdown",
   "metadata": {},
   "source": [
    "* **Slicing**\n",
    " - 리스트, ndarray와 동일하게 적용"
   ]
  },
  {
   "cell_type": "code",
   "execution_count": 88,
   "metadata": {},
   "outputs": [
    {
     "data": {
      "text/plain": [
       "10000    1\n",
       "10       1\n",
       "100      1\n",
       "dtype: int64"
      ]
     },
     "execution_count": 88,
     "metadata": {},
     "output_type": "execute_result"
    }
   ],
   "source": [
    "s.value_counts()"
   ]
  },
  {
   "cell_type": "code",
   "execution_count": 89,
   "metadata": {},
   "outputs": [
    {
     "name": "stdout",
     "output_type": "stream",
     "text": [
      "10    100\n",
      "11    101\n",
      "12    102\n",
      "13    103\n",
      "14    104\n",
      "15    105\n",
      "16    106\n",
      "17    107\n",
      "18    108\n",
      "19    109\n",
      "dtype: int64\n",
      "10    100\n",
      "11    101\n",
      "12    102\n",
      "13    103\n",
      "14    104\n",
      "dtype: int64\n",
      "10    100\n",
      "11    101\n",
      "12    102\n",
      "13    103\n",
      "14    104\n",
      "dtype: int64\n",
      "15    105\n",
      "16    106\n",
      "17    107\n",
      "18    108\n",
      "19    109\n",
      "dtype: int64\n",
      "17    107\n",
      "18    108\n",
      "19    109\n",
      "dtype: int64\n"
     ]
    }
   ],
   "source": [
    "s = pd.Series(np.arange(100, 110), index=np.arange(10, 20))\n",
    "print(s)\n",
    "print(s[0:5])\n",
    "print(s[:5])\n",
    "print(s[5:])\n",
    "print(s[-3:])"
   ]
  },
  {
   "cell_type": "markdown",
   "metadata": {},
   "source": [
    "* **DataFrame**\n",
    "  - Series가 1차원이라면 DataFrame은 2차원으로 확대된 버젼\n",
    "  - Excel spreadsheet이라고 생각하면 이해하기 쉬움\n",
    "  - 2차원이기 때문에 인덱스가 row, column로 구성됨"
   ]
  },
  {
   "cell_type": "code",
   "execution_count": 90,
   "metadata": {
    "collapsed": true
   },
   "outputs": [],
   "source": [
    "import numpy as np\n",
    "import pandas as pd"
   ]
  },
  {
   "cell_type": "code",
   "execution_count": 91,
   "metadata": {},
   "outputs": [
    {
     "name": "stdout",
     "output_type": "stream",
     "text": [
      "    0   1\n",
      "0  10  11\n",
      "1  20  22\n"
     ]
    }
   ],
   "source": [
    "df = pd.DataFrame(np.array([[10, 11], [20, 22]]))\n",
    "print(df)"
   ]
  },
  {
   "cell_type": "code",
   "execution_count": 92,
   "metadata": {},
   "outputs": [
    {
     "name": "stdout",
     "output_type": "stream",
     "text": [
      "   0\n",
      "0  2\n",
      "1  1\n",
      "2  2\n",
      "3  3 <class 'pandas.core.frame.DataFrame'>\n"
     ]
    }
   ],
   "source": [
    "df = pd.DataFrame(np.array([2, 1, 2, 3]))\n",
    "print(df, type(df)) #df 는 무조건 2차원"
   ]
  },
  {
   "cell_type": "markdown",
   "metadata": {},
   "source": [
    "* **shape**\n",
    " - row, column에 대한 튜플 값으로 볼 수 있음"
   ]
  },
  {
   "cell_type": "code",
   "execution_count": 93,
   "metadata": {
    "scrolled": false
   },
   "outputs": [
    {
     "name": "stdout",
     "output_type": "stream",
     "text": [
      "    0   1   2   3   4\n",
      "0  10  11  12  13  14\n",
      "1  20  21  22  23  24\n",
      "(2, 5)\n",
      "\n",
      "<class 'pandas.core.frame.DataFrame'>\n",
      "RangeIndex: 2 entries, 0 to 1\n",
      "Data columns (total 5 columns):\n",
      "0    2 non-null int64\n",
      "1    2 non-null int64\n",
      "2    2 non-null int64\n",
      "3    2 non-null int64\n",
      "4    2 non-null int64\n",
      "dtypes: int64(5)\n",
      "memory usage: 160.0 bytes\n",
      "None\n",
      "\n",
      "               0          1          2          3          4\n",
      "count   2.000000   2.000000   2.000000   2.000000   2.000000\n",
      "mean   15.000000  16.000000  17.000000  18.000000  19.000000\n",
      "std     7.071068   7.071068   7.071068   7.071068   7.071068\n",
      "min    10.000000  11.000000  12.000000  13.000000  14.000000\n",
      "25%    12.500000  13.500000  14.500000  15.500000  16.500000\n",
      "50%    15.000000  16.000000  17.000000  18.000000  19.000000\n",
      "75%    17.500000  18.500000  19.500000  20.500000  21.500000\n",
      "max    20.000000  21.000000  22.000000  23.000000  24.000000\n"
     ]
    }
   ],
   "source": [
    "df1 = pd.DataFrame([pd.Series(np.arange(10, 15)) ,\n",
    "            pd.Series(np.arange(20, 25))])\n",
    "print(df1)\n",
    "print(df1.shape) #(row, column), 아래로 스태킹\n",
    "print() \n",
    "print(df1.info())\n",
    "print() \n",
    "print(df1.describe())"
   ]
  },
  {
   "cell_type": "code",
   "execution_count": 94,
   "metadata": {
    "scrolled": true
   },
   "outputs": [
    {
     "name": "stdout",
     "output_type": "stream",
     "text": [
      "<class 'pandas.core.frame.DataFrame'>\n",
      "RangeIndex: 4 entries, 0 to 3\n",
      "Data columns (total 1 columns):\n",
      "0    4 non-null int64\n",
      "dtypes: int64(1)\n",
      "memory usage: 112.0 bytes\n"
     ]
    }
   ],
   "source": [
    "df.shape # 데이터 몇개, 피쳐 몇개"
   ]
  },
  {
   "cell_type": "code",
   "execution_count": 95,
   "metadata": {},
   "outputs": [
    {
     "data": {
      "text/plain": [
       "4"
      ]
     },
     "execution_count": 95,
     "metadata": {},
     "output_type": "execute_result"
    }
   ],
   "source": [
    "len(df) # 데이터 개수(row)"
   ]
  },
  {
   "cell_type": "code",
   "execution_count": 96,
   "metadata": {},
   "outputs": [
    {
     "data": {
      "text/html": [
       "<div>\n",
       "<style>\n",
       "    .dataframe thead tr:only-child th {\n",
       "        text-align: right;\n",
       "    }\n",
       "\n",
       "    .dataframe thead th {\n",
       "        text-align: left;\n",
       "    }\n",
       "\n",
       "    .dataframe tbody tr th {\n",
       "        vertical-align: top;\n",
       "    }\n",
       "</style>\n",
       "<table border=\"1\" class=\"dataframe\">\n",
       "  <thead>\n",
       "    <tr style=\"text-align: right;\">\n",
       "      <th></th>\n",
       "      <th>0</th>\n",
       "    </tr>\n",
       "  </thead>\n",
       "  <tbody>\n",
       "    <tr>\n",
       "      <th>0</th>\n",
       "      <td>2</td>\n",
       "    </tr>\n",
       "    <tr>\n",
       "      <th>1</th>\n",
       "      <td>1</td>\n",
       "    </tr>\n",
       "    <tr>\n",
       "      <th>2</th>\n",
       "      <td>2</td>\n",
       "    </tr>\n",
       "    <tr>\n",
       "      <th>3</th>\n",
       "      <td>3</td>\n",
       "    </tr>\n",
       "  </tbody>\n",
       "</table>\n",
       "</div>"
      ],
      "text/plain": [
       "   0\n",
       "0  2\n",
       "1  1\n",
       "2  2\n",
       "3  3"
      ]
     },
     "execution_count": 96,
     "metadata": {},
     "output_type": "execute_result"
    }
   ],
   "source": [
    "df.head()"
   ]
  },
  {
   "cell_type": "code",
   "execution_count": 97,
   "metadata": {},
   "outputs": [
    {
     "data": {
      "text/html": [
       "<div>\n",
       "<style>\n",
       "    .dataframe thead tr:only-child th {\n",
       "        text-align: right;\n",
       "    }\n",
       "\n",
       "    .dataframe thead th {\n",
       "        text-align: left;\n",
       "    }\n",
       "\n",
       "    .dataframe tbody tr th {\n",
       "        vertical-align: top;\n",
       "    }\n",
       "</style>\n",
       "<table border=\"1\" class=\"dataframe\">\n",
       "  <thead>\n",
       "    <tr style=\"text-align: right;\">\n",
       "      <th></th>\n",
       "      <th>0</th>\n",
       "    </tr>\n",
       "  </thead>\n",
       "  <tbody>\n",
       "    <tr>\n",
       "      <th>count</th>\n",
       "      <td>4.000000</td>\n",
       "    </tr>\n",
       "    <tr>\n",
       "      <th>mean</th>\n",
       "      <td>2.000000</td>\n",
       "    </tr>\n",
       "    <tr>\n",
       "      <th>std</th>\n",
       "      <td>0.816497</td>\n",
       "    </tr>\n",
       "    <tr>\n",
       "      <th>min</th>\n",
       "      <td>1.000000</td>\n",
       "    </tr>\n",
       "    <tr>\n",
       "      <th>25%</th>\n",
       "      <td>1.750000</td>\n",
       "    </tr>\n",
       "    <tr>\n",
       "      <th>50%</th>\n",
       "      <td>2.000000</td>\n",
       "    </tr>\n",
       "    <tr>\n",
       "      <th>75%</th>\n",
       "      <td>2.250000</td>\n",
       "    </tr>\n",
       "    <tr>\n",
       "      <th>max</th>\n",
       "      <td>3.000000</td>\n",
       "    </tr>\n",
       "  </tbody>\n",
       "</table>\n",
       "</div>"
      ],
      "text/plain": [
       "              0\n",
       "count  4.000000\n",
       "mean   2.000000\n",
       "std    0.816497\n",
       "min    1.000000\n",
       "25%    1.750000\n",
       "50%    2.000000\n",
       "75%    2.250000\n",
       "max    3.000000"
      ]
     },
     "execution_count": 97,
     "metadata": {},
     "output_type": "execute_result"
    }
   ],
   "source": [
    "df.describe()"
   ]
  },
  {
   "cell_type": "code",
   "execution_count": 98,
   "metadata": {},
   "outputs": [
    {
     "name": "stdout",
     "output_type": "stream",
     "text": [
      "<class 'pandas.core.frame.DataFrame'>\n",
      "RangeIndex: 4 entries, 0 to 3\n",
      "Data columns (total 1 columns):\n",
      "0    4 non-null int64\n",
      "dtypes: int64(1)\n",
      "memory usage: 112.0 bytes\n"
     ]
    }
   ],
   "source": [
    "df.info()"
   ]
  },
  {
   "cell_type": "code",
   "execution_count": 100,
   "metadata": {},
   "outputs": [
    {
     "name": "stdout",
     "output_type": "stream",
     "text": [
      "     a   b\n",
      "d1  10  20\n",
      "d2  20  30\n",
      "Index(['a', 'b'], dtype='object')\n",
      "a b\n",
      "    t1  t2\n",
      "d1  10  20\n",
      "d2  20  30\n"
     ]
    }
   ],
   "source": [
    "#column 초기화\n",
    "df = pd.DataFrame(np.array([[10, 20], [20, 30]]), \n",
    "                  columns = ['a', 'b'], index = ['d1', 'd2'])\n",
    "print(df)\n",
    "print(df.columns)\n",
    "print(df.columns[0], df.columns[1])\n",
    "\n",
    "df.columns = ['t1', 't2'] #중간에 바꾸기\n",
    "print(df)"
   ]
  },
  {
   "cell_type": "code",
   "execution_count": null,
   "metadata": {
    "collapsed": true
   },
   "outputs": [],
   "source": [
    "df = pd.DataFrame(np.array([[10, 20], [20, 30]]), \n",
    "                  columns = ['a', 'b'], index = ['d1', 'd2'])\n",
    "print(df)\n",
    "print(df.index)"
   ]
  },
  {
   "cell_type": "markdown",
   "metadata": {},
   "source": [
    "* **Series dictionary로 부터 생성**"
   ]
  },
  {
   "cell_type": "code",
   "execution_count": 101,
   "metadata": {},
   "outputs": [
    {
     "name": "stdout",
     "output_type": "stream",
     "text": [
      "   c1  c2\n",
      "0   1   6\n",
      "1   2   7\n",
      "2   3   8\n",
      "3   4   9\n",
      "4   5  10\n"
     ]
    }
   ],
   "source": [
    "s1 = pd.Series(np.arange(1, 6, 1))\n",
    "s2 = pd.Series(np.arange(6, 11, 1))\n",
    "df = pd.DataFrame({'c1': s1, 'c2': s2})\n",
    "\n",
    "print(df)"
   ]
  },
  {
   "cell_type": "markdown",
   "metadata": {},
   "source": [
    "* **csv 데이터로 부터 dataframe 생성**\n",
    "  - dataframe을 생성하는 가장 보편적인 방법\n",
    "  - 데이터 소스로부터 추출된 csv(comma separated values) 파일로 부터 df 생성"
   ]
  },
  {
   "cell_type": "code",
   "execution_count": 102,
   "metadata": {
    "collapsed": true
   },
   "outputs": [],
   "source": [
    "sample_file = 'data/sample.csv'"
   ]
  },
  {
   "cell_type": "code",
   "execution_count": 103,
   "metadata": {},
   "outputs": [
    {
     "data": {
      "text/html": [
       "<div>\n",
       "<style>\n",
       "    .dataframe thead tr:only-child th {\n",
       "        text-align: right;\n",
       "    }\n",
       "\n",
       "    .dataframe thead th {\n",
       "        text-align: left;\n",
       "    }\n",
       "\n",
       "    .dataframe tbody tr th {\n",
       "        vertical-align: top;\n",
       "    }\n",
       "</style>\n",
       "<table border=\"1\" class=\"dataframe\">\n",
       "  <thead>\n",
       "    <tr style=\"text-align: right;\">\n",
       "      <th></th>\n",
       "      <th>Symbol</th>\n",
       "      <th>Name</th>\n",
       "      <th>Sector</th>\n",
       "      <th>Price</th>\n",
       "      <th>Dividend Yield</th>\n",
       "      <th>Price/Earnings</th>\n",
       "      <th>Earnings/Share</th>\n",
       "      <th>Book Value</th>\n",
       "      <th>52 week low</th>\n",
       "      <th>52 week high</th>\n",
       "      <th>Market Cap</th>\n",
       "      <th>EBITDA</th>\n",
       "      <th>Price/Sales</th>\n",
       "      <th>Price/Book</th>\n",
       "      <th>SEC Filings</th>\n",
       "    </tr>\n",
       "  </thead>\n",
       "  <tbody>\n",
       "    <tr>\n",
       "      <th>0</th>\n",
       "      <td>MMM</td>\n",
       "      <td>3M Company</td>\n",
       "      <td>Industrials</td>\n",
       "      <td>177.12</td>\n",
       "      <td>2.53</td>\n",
       "      <td>22.77</td>\n",
       "      <td>7.78</td>\n",
       "      <td>19.34</td>\n",
       "      <td>134.00</td>\n",
       "      <td>177.79</td>\n",
       "      <td>107.43</td>\n",
       "      <td>8.57</td>\n",
       "      <td>3.52</td>\n",
       "      <td>9.04</td>\n",
       "      <td>http://www.sec.gov/cgi-bin/browse-edgar?action...</td>\n",
       "    </tr>\n",
       "    <tr>\n",
       "      <th>1</th>\n",
       "      <td>ABT</td>\n",
       "      <td>Abbott Laboratories</td>\n",
       "      <td>Health Care</td>\n",
       "      <td>41.89</td>\n",
       "      <td>2.55</td>\n",
       "      <td>25.79</td>\n",
       "      <td>1.62</td>\n",
       "      <td>14.10</td>\n",
       "      <td>36.00</td>\n",
       "      <td>51.74</td>\n",
       "      <td>61.54</td>\n",
       "      <td>4.40</td>\n",
       "      <td>2.98</td>\n",
       "      <td>2.93</td>\n",
       "      <td>http://www.sec.gov/cgi-bin/browse-edgar?action...</td>\n",
       "    </tr>\n",
       "    <tr>\n",
       "      <th>2</th>\n",
       "      <td>ABBV</td>\n",
       "      <td>AbbVie</td>\n",
       "      <td>Health Care</td>\n",
       "      <td>64.16</td>\n",
       "      <td>3.60</td>\n",
       "      <td>19.29</td>\n",
       "      <td>3.33</td>\n",
       "      <td>2.87</td>\n",
       "      <td>45.45</td>\n",
       "      <td>71.60</td>\n",
       "      <td>103.77</td>\n",
       "      <td>10.30</td>\n",
       "      <td>4.31</td>\n",
       "      <td>22.09</td>\n",
       "      <td>http://www.sec.gov/cgi-bin/browse-edgar?action...</td>\n",
       "    </tr>\n",
       "  </tbody>\n",
       "</table>\n",
       "</div>"
      ],
      "text/plain": [
       "  Symbol                 Name       Sector   Price  Dividend Yield  \\\n",
       "0    MMM           3M Company  Industrials  177.12            2.53   \n",
       "1    ABT  Abbott Laboratories  Health Care   41.89            2.55   \n",
       "2   ABBV               AbbVie  Health Care   64.16            3.60   \n",
       "\n",
       "   Price/Earnings  Earnings/Share  Book Value  52 week low  52 week high  \\\n",
       "0           22.77            7.78       19.34       134.00        177.79   \n",
       "1           25.79            1.62       14.10        36.00         51.74   \n",
       "2           19.29            3.33        2.87        45.45         71.60   \n",
       "\n",
       "   Market Cap  EBITDA  Price/Sales  Price/Book  \\\n",
       "0      107.43    8.57         3.52        9.04   \n",
       "1       61.54    4.40         2.98        2.93   \n",
       "2      103.77   10.30         4.31       22.09   \n",
       "\n",
       "                                         SEC Filings  \n",
       "0  http://www.sec.gov/cgi-bin/browse-edgar?action...  \n",
       "1  http://www.sec.gov/cgi-bin/browse-edgar?action...  \n",
       "2  http://www.sec.gov/cgi-bin/browse-edgar?action...  "
      ]
     },
     "execution_count": 103,
     "metadata": {},
     "output_type": "execute_result"
    }
   ],
   "source": [
    "sample_df = pd.read_csv(sample_file) #\n",
    "sample_df.head(n=3)"
   ]
  },
  {
   "cell_type": "code",
   "execution_count": 105,
   "metadata": {},
   "outputs": [
    {
     "name": "stdout",
     "output_type": "stream",
     "text": [
      "<class 'pandas.core.frame.DataFrame'>\n",
      "RangeIndex: 504 entries, 0 to 503\n",
      "Data columns (total 15 columns):\n",
      "Symbol            504 non-null object\n",
      "Name              504 non-null object\n",
      "Sector            504 non-null object\n",
      "Price             504 non-null float64\n",
      "Dividend Yield    435 non-null float64\n",
      "Price/Earnings    452 non-null float64\n",
      "Earnings/Share    503 non-null float64\n",
      "Book Value        504 non-null float64\n",
      "52 week low       504 non-null float64\n",
      "52 week high      504 non-null float64\n",
      "Market Cap        502 non-null float64\n",
      "EBITDA            503 non-null float64\n",
      "Price/Sales       502 non-null float64\n",
      "Price/Book        486 non-null float64\n",
      "SEC Filings       504 non-null object\n",
      "dtypes: float64(11), object(4)\n",
      "memory usage: 59.1+ KB\n"
     ]
    }
   ],
   "source": [
    "sample_df.info()"
   ]
  },
  {
   "cell_type": "code",
   "execution_count": 106,
   "metadata": {},
   "outputs": [
    {
     "data": {
      "text/html": [
       "<div>\n",
       "<style>\n",
       "    .dataframe thead tr:only-child th {\n",
       "        text-align: right;\n",
       "    }\n",
       "\n",
       "    .dataframe thead th {\n",
       "        text-align: left;\n",
       "    }\n",
       "\n",
       "    .dataframe tbody tr th {\n",
       "        vertical-align: top;\n",
       "    }\n",
       "</style>\n",
       "<table border=\"1\" class=\"dataframe\">\n",
       "  <thead>\n",
       "    <tr style=\"text-align: right;\">\n",
       "      <th></th>\n",
       "      <th>Symbol</th>\n",
       "      <th>Name</th>\n",
       "      <th>Sector</th>\n",
       "      <th>Price</th>\n",
       "      <th>Book Value</th>\n",
       "    </tr>\n",
       "  </thead>\n",
       "  <tbody>\n",
       "    <tr>\n",
       "      <th>0</th>\n",
       "      <td>MMM</td>\n",
       "      <td>3M Company</td>\n",
       "      <td>Industrials</td>\n",
       "      <td>177.12</td>\n",
       "      <td>19.34</td>\n",
       "    </tr>\n",
       "    <tr>\n",
       "      <th>1</th>\n",
       "      <td>ABT</td>\n",
       "      <td>Abbott Laboratories</td>\n",
       "      <td>Health Care</td>\n",
       "      <td>41.89</td>\n",
       "      <td>14.10</td>\n",
       "    </tr>\n",
       "    <tr>\n",
       "      <th>2</th>\n",
       "      <td>ABBV</td>\n",
       "      <td>AbbVie</td>\n",
       "      <td>Health Care</td>\n",
       "      <td>64.16</td>\n",
       "      <td>2.87</td>\n",
       "    </tr>\n",
       "    <tr>\n",
       "      <th>3</th>\n",
       "      <td>ACN</td>\n",
       "      <td>Accenture plc</td>\n",
       "      <td>Information Technology</td>\n",
       "      <td>115.11</td>\n",
       "      <td>11.45</td>\n",
       "    </tr>\n",
       "    <tr>\n",
       "      <th>4</th>\n",
       "      <td>ATVI</td>\n",
       "      <td>Activision Blizzard</td>\n",
       "      <td>Information Technology</td>\n",
       "      <td>41.29</td>\n",
       "      <td>11.31</td>\n",
       "    </tr>\n",
       "  </tbody>\n",
       "</table>\n",
       "</div>"
      ],
      "text/plain": [
       "  Symbol                 Name                  Sector   Price  Book Value\n",
       "0    MMM           3M Company             Industrials  177.12       19.34\n",
       "1    ABT  Abbott Laboratories             Health Care   41.89       14.10\n",
       "2   ABBV               AbbVie             Health Care   64.16        2.87\n",
       "3    ACN        Accenture plc  Information Technology  115.11       11.45\n",
       "4   ATVI  Activision Blizzard  Information Technology   41.29       11.31"
      ]
     },
     "execution_count": 106,
     "metadata": {},
     "output_type": "execute_result"
    }
   ],
   "source": [
    "sample_df = pd.read_csv(sample_file, usecols = [0, 1, 2, 3, 7]) #컬럼 선택\n",
    "sample_df.head()"
   ]
  },
  {
   "cell_type": "code",
   "execution_count": 107,
   "metadata": {},
   "outputs": [
    {
     "data": {
      "text/html": [
       "<div>\n",
       "<style>\n",
       "    .dataframe thead tr:only-child th {\n",
       "        text-align: right;\n",
       "    }\n",
       "\n",
       "    .dataframe thead th {\n",
       "        text-align: left;\n",
       "    }\n",
       "\n",
       "    .dataframe tbody tr th {\n",
       "        vertical-align: top;\n",
       "    }\n",
       "</style>\n",
       "<table border=\"1\" class=\"dataframe\">\n",
       "  <thead>\n",
       "    <tr style=\"text-align: right;\">\n",
       "      <th></th>\n",
       "      <th>Name</th>\n",
       "      <th>Sector</th>\n",
       "      <th>Price</th>\n",
       "      <th>Book Value</th>\n",
       "    </tr>\n",
       "    <tr>\n",
       "      <th>Symbol</th>\n",
       "      <th></th>\n",
       "      <th></th>\n",
       "      <th></th>\n",
       "      <th></th>\n",
       "    </tr>\n",
       "  </thead>\n",
       "  <tbody>\n",
       "    <tr>\n",
       "      <th>MMM</th>\n",
       "      <td>3M Company</td>\n",
       "      <td>Industrials</td>\n",
       "      <td>177.12</td>\n",
       "      <td>19.34</td>\n",
       "    </tr>\n",
       "    <tr>\n",
       "      <th>ABT</th>\n",
       "      <td>Abbott Laboratories</td>\n",
       "      <td>Health Care</td>\n",
       "      <td>41.89</td>\n",
       "      <td>14.10</td>\n",
       "    </tr>\n",
       "    <tr>\n",
       "      <th>ABBV</th>\n",
       "      <td>AbbVie</td>\n",
       "      <td>Health Care</td>\n",
       "      <td>64.16</td>\n",
       "      <td>2.87</td>\n",
       "    </tr>\n",
       "    <tr>\n",
       "      <th>ACN</th>\n",
       "      <td>Accenture plc</td>\n",
       "      <td>Information Technology</td>\n",
       "      <td>115.11</td>\n",
       "      <td>11.45</td>\n",
       "    </tr>\n",
       "    <tr>\n",
       "      <th>ATVI</th>\n",
       "      <td>Activision Blizzard</td>\n",
       "      <td>Information Technology</td>\n",
       "      <td>41.29</td>\n",
       "      <td>11.31</td>\n",
       "    </tr>\n",
       "  </tbody>\n",
       "</table>\n",
       "</div>"
      ],
      "text/plain": [
       "                       Name                  Sector   Price  Book Value\n",
       "Symbol                                                                 \n",
       "MMM              3M Company             Industrials  177.12       19.34\n",
       "ABT     Abbott Laboratories             Health Care   41.89       14.10\n",
       "ABBV                 AbbVie             Health Care   64.16        2.87\n",
       "ACN           Accenture plc  Information Technology  115.11       11.45\n",
       "ATVI    Activision Blizzard  Information Technology   41.29       11.31"
      ]
     },
     "execution_count": 107,
     "metadata": {},
     "output_type": "execute_result"
    }
   ],
   "source": [
    "sample_df = pd.read_csv(sample_file, index_col = 'Symbol', usecols = [0, 1, 2, 3, 7]) #index_col => col중 인덱스로 사용\n",
    "sample_df.head()"
   ]
  },
  {
   "cell_type": "code",
   "execution_count": 108,
   "metadata": {},
   "outputs": [
    {
     "data": {
      "text/html": [
       "<div>\n",
       "<style>\n",
       "    .dataframe thead tr:only-child th {\n",
       "        text-align: right;\n",
       "    }\n",
       "\n",
       "    .dataframe thead th {\n",
       "        text-align: left;\n",
       "    }\n",
       "\n",
       "    .dataframe tbody tr th {\n",
       "        vertical-align: top;\n",
       "    }\n",
       "</style>\n",
       "<table border=\"1\" class=\"dataframe\">\n",
       "  <thead>\n",
       "    <tr style=\"text-align: right;\">\n",
       "      <th></th>\n",
       "      <th>Name</th>\n",
       "      <th>Price</th>\n",
       "    </tr>\n",
       "    <tr>\n",
       "      <th>Symbol</th>\n",
       "      <th></th>\n",
       "      <th></th>\n",
       "    </tr>\n",
       "  </thead>\n",
       "  <tbody>\n",
       "    <tr>\n",
       "      <th>MMM</th>\n",
       "      <td>3M Company</td>\n",
       "      <td>177.12</td>\n",
       "    </tr>\n",
       "    <tr>\n",
       "      <th>ABT</th>\n",
       "      <td>Abbott Laboratories</td>\n",
       "      <td>41.89</td>\n",
       "    </tr>\n",
       "    <tr>\n",
       "      <th>ABBV</th>\n",
       "      <td>AbbVie</td>\n",
       "      <td>64.16</td>\n",
       "    </tr>\n",
       "    <tr>\n",
       "      <th>ACN</th>\n",
       "      <td>Accenture plc</td>\n",
       "      <td>115.11</td>\n",
       "    </tr>\n",
       "    <tr>\n",
       "      <th>ATVI</th>\n",
       "      <td>Activision Blizzard</td>\n",
       "      <td>41.29</td>\n",
       "    </tr>\n",
       "  </tbody>\n",
       "</table>\n",
       "</div>"
      ],
      "text/plain": [
       "                       Name   Price\n",
       "Symbol                             \n",
       "MMM              3M Company  177.12\n",
       "ABT     Abbott Laboratories   41.89\n",
       "ABBV                 AbbVie   64.16\n",
       "ACN           Accenture plc  115.11\n",
       "ATVI    Activision Blizzard   41.29"
      ]
     },
     "execution_count": 108,
     "metadata": {},
     "output_type": "execute_result"
    }
   ],
   "source": [
    "sample_df = pd.read_csv(sample_file, index_col = 'Symbol', \n",
    "                        usecols=['Name', 'Symbol', 'Price'])\n",
    "sample_df.head()"
   ]
  },
  {
   "cell_type": "markdown",
   "metadata": {},
   "source": [
    "* **data 개수**"
   ]
  },
  {
   "cell_type": "code",
   "execution_count": null,
   "metadata": {
    "collapsed": true
   },
   "outputs": [],
   "source": [
    "print(len(sample_df))"
   ]
  },
  {
   "cell_type": "code",
   "execution_count": null,
   "metadata": {
    "collapsed": true
   },
   "outputs": [],
   "source": [
    "print(sample_df.index)\n",
    "print() \n",
    "print(sample_df.columns)"
   ]
  },
  {
   "cell_type": "markdown",
   "metadata": {},
   "source": [
    "* **dataframe slicing**\n",
    "  - dataframe의 경우 기본적으로 [] 연산자가 column 선택에 사용\n",
    "  - 따라서 [0], ['some val'] 과 같이 하면 column 레벨의 데이터 추출\n",
    "  - 하지만, 유일하게 slicing은 row 레벨로 지원"
   ]
  },
  {
   "cell_type": "code",
   "execution_count": null,
   "metadata": {
    "collapsed": true
   },
   "outputs": [],
   "source": [
    "print(pd.__version__)"
   ]
  },
  {
   "cell_type": "code",
   "execution_count": 109,
   "metadata": {},
   "outputs": [
    {
     "data": {
      "text/html": [
       "<div>\n",
       "<style>\n",
       "    .dataframe thead tr:only-child th {\n",
       "        text-align: right;\n",
       "    }\n",
       "\n",
       "    .dataframe thead th {\n",
       "        text-align: left;\n",
       "    }\n",
       "\n",
       "    .dataframe tbody tr th {\n",
       "        vertical-align: top;\n",
       "    }\n",
       "</style>\n",
       "<table border=\"1\" class=\"dataframe\">\n",
       "  <thead>\n",
       "    <tr style=\"text-align: right;\">\n",
       "      <th></th>\n",
       "      <th>Date</th>\n",
       "      <th>Open</th>\n",
       "      <th>High</th>\n",
       "      <th>Low</th>\n",
       "      <th>Close</th>\n",
       "      <th>Volume</th>\n",
       "    </tr>\n",
       "  </thead>\n",
       "  <tbody>\n",
       "    <tr>\n",
       "      <th>0</th>\n",
       "      <td>30-Sep-16</td>\n",
       "      <td>112.46</td>\n",
       "      <td>113.37</td>\n",
       "      <td>111.80</td>\n",
       "      <td>113.05</td>\n",
       "      <td>36379106</td>\n",
       "    </tr>\n",
       "    <tr>\n",
       "      <th>1</th>\n",
       "      <td>29-Sep-16</td>\n",
       "      <td>113.16</td>\n",
       "      <td>113.80</td>\n",
       "      <td>111.80</td>\n",
       "      <td>112.18</td>\n",
       "      <td>35886990</td>\n",
       "    </tr>\n",
       "    <tr>\n",
       "      <th>2</th>\n",
       "      <td>28-Sep-16</td>\n",
       "      <td>113.69</td>\n",
       "      <td>114.64</td>\n",
       "      <td>113.43</td>\n",
       "      <td>113.95</td>\n",
       "      <td>29641085</td>\n",
       "    </tr>\n",
       "    <tr>\n",
       "      <th>3</th>\n",
       "      <td>27-Sep-16</td>\n",
       "      <td>113.00</td>\n",
       "      <td>113.18</td>\n",
       "      <td>112.34</td>\n",
       "      <td>113.09</td>\n",
       "      <td>24607412</td>\n",
       "    </tr>\n",
       "    <tr>\n",
       "      <th>4</th>\n",
       "      <td>26-Sep-16</td>\n",
       "      <td>111.64</td>\n",
       "      <td>113.39</td>\n",
       "      <td>111.55</td>\n",
       "      <td>112.88</td>\n",
       "      <td>29869442</td>\n",
       "    </tr>\n",
       "  </tbody>\n",
       "</table>\n",
       "</div>"
      ],
      "text/plain": [
       "        Date    Open    High     Low   Close    Volume\n",
       "0  30-Sep-16  112.46  113.37  111.80  113.05  36379106\n",
       "1  29-Sep-16  113.16  113.80  111.80  112.18  35886990\n",
       "2  28-Sep-16  113.69  114.64  113.43  113.95  29641085\n",
       "3  27-Sep-16  113.00  113.18  112.34  113.09  24607412\n",
       "4  26-Sep-16  111.64  113.39  111.55  112.88  29869442"
      ]
     },
     "execution_count": 109,
     "metadata": {},
     "output_type": "execute_result"
    }
   ],
   "source": [
    "#apple_df = pd.read_csv('apple.csv', header = None) #헤더가 없다\n",
    "apple_df = pd.read_csv('data/apple.csv')\n",
    "#print apple_df[:10]\n",
    "apple_df.head()"
   ]
  },
  {
   "cell_type": "code",
   "execution_count": 112,
   "metadata": {},
   "outputs": [
    {
     "data": {
      "text/plain": [
       "0     112.46\n",
       "1     113.16\n",
       "2     113.69\n",
       "3     113.00\n",
       "4     111.64\n",
       "5     114.42\n",
       "6     114.35\n",
       "7     113.85\n",
       "8     113.05\n",
       "9     115.19\n",
       "10    115.12\n",
       "11    113.86\n",
       "12    108.73\n",
       "13    107.51\n",
       "14    102.65\n",
       "15    104.64\n",
       "16    107.25\n",
       "17    107.83\n",
       "18    107.90\n",
       "19    107.70\n",
       "20    106.14\n",
       "Name: Open, dtype: float64"
      ]
     },
     "execution_count": 112,
     "metadata": {},
     "output_type": "execute_result"
    }
   ],
   "source": [
    "#apple_df[6] #col, row -> loc/iloc\n",
    "apple_df['Open']"
   ]
  },
  {
   "cell_type": "code",
   "execution_count": 113,
   "metadata": {},
   "outputs": [
    {
     "data": {
      "text/html": [
       "<div>\n",
       "<style>\n",
       "    .dataframe thead tr:only-child th {\n",
       "        text-align: right;\n",
       "    }\n",
       "\n",
       "    .dataframe thead th {\n",
       "        text-align: left;\n",
       "    }\n",
       "\n",
       "    .dataframe tbody tr th {\n",
       "        vertical-align: top;\n",
       "    }\n",
       "</style>\n",
       "<table border=\"1\" class=\"dataframe\">\n",
       "  <thead>\n",
       "    <tr style=\"text-align: right;\">\n",
       "      <th></th>\n",
       "      <th>Date</th>\n",
       "      <th>Open</th>\n",
       "      <th>High</th>\n",
       "      <th>Low</th>\n",
       "      <th>Close</th>\n",
       "      <th>Volume</th>\n",
       "    </tr>\n",
       "  </thead>\n",
       "  <tbody>\n",
       "    <tr>\n",
       "      <th>0</th>\n",
       "      <td>30-Sep-16</td>\n",
       "      <td>112.46</td>\n",
       "      <td>113.37</td>\n",
       "      <td>111.80</td>\n",
       "      <td>113.05</td>\n",
       "      <td>36379106</td>\n",
       "    </tr>\n",
       "    <tr>\n",
       "      <th>1</th>\n",
       "      <td>29-Sep-16</td>\n",
       "      <td>113.16</td>\n",
       "      <td>113.80</td>\n",
       "      <td>111.80</td>\n",
       "      <td>112.18</td>\n",
       "      <td>35886990</td>\n",
       "    </tr>\n",
       "    <tr>\n",
       "      <th>2</th>\n",
       "      <td>28-Sep-16</td>\n",
       "      <td>113.69</td>\n",
       "      <td>114.64</td>\n",
       "      <td>113.43</td>\n",
       "      <td>113.95</td>\n",
       "      <td>29641085</td>\n",
       "    </tr>\n",
       "    <tr>\n",
       "      <th>3</th>\n",
       "      <td>27-Sep-16</td>\n",
       "      <td>113.00</td>\n",
       "      <td>113.18</td>\n",
       "      <td>112.34</td>\n",
       "      <td>113.09</td>\n",
       "      <td>24607412</td>\n",
       "    </tr>\n",
       "    <tr>\n",
       "      <th>4</th>\n",
       "      <td>26-Sep-16</td>\n",
       "      <td>111.64</td>\n",
       "      <td>113.39</td>\n",
       "      <td>111.55</td>\n",
       "      <td>112.88</td>\n",
       "      <td>29869442</td>\n",
       "    </tr>\n",
       "    <tr>\n",
       "      <th>5</th>\n",
       "      <td>23-Sep-16</td>\n",
       "      <td>114.42</td>\n",
       "      <td>114.79</td>\n",
       "      <td>111.55</td>\n",
       "      <td>112.71</td>\n",
       "      <td>52481151</td>\n",
       "    </tr>\n",
       "  </tbody>\n",
       "</table>\n",
       "</div>"
      ],
      "text/plain": [
       "        Date    Open    High     Low   Close    Volume\n",
       "0  30-Sep-16  112.46  113.37  111.80  113.05  36379106\n",
       "1  29-Sep-16  113.16  113.80  111.80  112.18  35886990\n",
       "2  28-Sep-16  113.69  114.64  113.43  113.95  29641085\n",
       "3  27-Sep-16  113.00  113.18  112.34  113.09  24607412\n",
       "4  26-Sep-16  111.64  113.39  111.55  112.88  29869442\n",
       "5  23-Sep-16  114.42  114.79  111.55  112.71  52481151"
      ]
     },
     "execution_count": 113,
     "metadata": {},
     "output_type": "execute_result"
    }
   ],
   "source": [
    "apple_df[:6] #slicing만 row로"
   ]
  },
  {
   "cell_type": "code",
   "execution_count": 114,
   "metadata": {},
   "outputs": [
    {
     "data": {
      "text/html": [
       "<div>\n",
       "<style>\n",
       "    .dataframe thead tr:only-child th {\n",
       "        text-align: right;\n",
       "    }\n",
       "\n",
       "    .dataframe thead th {\n",
       "        text-align: left;\n",
       "    }\n",
       "\n",
       "    .dataframe tbody tr th {\n",
       "        vertical-align: top;\n",
       "    }\n",
       "</style>\n",
       "<table border=\"1\" class=\"dataframe\">\n",
       "  <thead>\n",
       "    <tr style=\"text-align: right;\">\n",
       "      <th></th>\n",
       "      <th>Date</th>\n",
       "      <th>Open</th>\n",
       "      <th>High</th>\n",
       "      <th>Low</th>\n",
       "      <th>Close</th>\n",
       "      <th>Volume</th>\n",
       "    </tr>\n",
       "  </thead>\n",
       "  <tbody>\n",
       "    <tr>\n",
       "      <th>3</th>\n",
       "      <td>27-Sep-16</td>\n",
       "      <td>113.00</td>\n",
       "      <td>113.18</td>\n",
       "      <td>112.34</td>\n",
       "      <td>113.09</td>\n",
       "      <td>24607412</td>\n",
       "    </tr>\n",
       "    <tr>\n",
       "      <th>4</th>\n",
       "      <td>26-Sep-16</td>\n",
       "      <td>111.64</td>\n",
       "      <td>113.39</td>\n",
       "      <td>111.55</td>\n",
       "      <td>112.88</td>\n",
       "      <td>29869442</td>\n",
       "    </tr>\n",
       "    <tr>\n",
       "      <th>5</th>\n",
       "      <td>23-Sep-16</td>\n",
       "      <td>114.42</td>\n",
       "      <td>114.79</td>\n",
       "      <td>111.55</td>\n",
       "      <td>112.71</td>\n",
       "      <td>52481151</td>\n",
       "    </tr>\n",
       "    <tr>\n",
       "      <th>6</th>\n",
       "      <td>22-Sep-16</td>\n",
       "      <td>114.35</td>\n",
       "      <td>114.94</td>\n",
       "      <td>114.00</td>\n",
       "      <td>114.62</td>\n",
       "      <td>31073984</td>\n",
       "    </tr>\n",
       "  </tbody>\n",
       "</table>\n",
       "</div>"
      ],
      "text/plain": [
       "        Date    Open    High     Low   Close    Volume\n",
       "3  27-Sep-16  113.00  113.18  112.34  113.09  24607412\n",
       "4  26-Sep-16  111.64  113.39  111.55  112.88  29869442\n",
       "5  23-Sep-16  114.42  114.79  111.55  112.71  52481151\n",
       "6  22-Sep-16  114.35  114.94  114.00  114.62  31073984"
      ]
     },
     "execution_count": 114,
     "metadata": {},
     "output_type": "execute_result"
    }
   ],
   "source": [
    "apple_df[3:7]"
   ]
  },
  {
   "cell_type": "code",
   "execution_count": 115,
   "metadata": {},
   "outputs": [
    {
     "ename": "KeyError",
     "evalue": "0",
     "output_type": "error",
     "traceback": [
      "\u001b[0;31m---------------------------------------------------------------------------\u001b[0m",
      "\u001b[0;31mKeyError\u001b[0m                                  Traceback (most recent call last)",
      "\u001b[0;32m~/.pyenv/versions/3.6.1/envs/python_dss/lib/python3.6/site-packages/pandas/core/indexes/base.py\u001b[0m in \u001b[0;36mget_loc\u001b[0;34m(self, key, method, tolerance)\u001b[0m\n\u001b[1;32m   2441\u001b[0m             \u001b[0;32mtry\u001b[0m\u001b[0;34m:\u001b[0m\u001b[0;34m\u001b[0m\u001b[0m\n\u001b[0;32m-> 2442\u001b[0;31m                 \u001b[0;32mreturn\u001b[0m \u001b[0mself\u001b[0m\u001b[0;34m.\u001b[0m\u001b[0m_engine\u001b[0m\u001b[0;34m.\u001b[0m\u001b[0mget_loc\u001b[0m\u001b[0;34m(\u001b[0m\u001b[0mkey\u001b[0m\u001b[0;34m)\u001b[0m\u001b[0;34m\u001b[0m\u001b[0m\n\u001b[0m\u001b[1;32m   2443\u001b[0m             \u001b[0;32mexcept\u001b[0m \u001b[0mKeyError\u001b[0m\u001b[0;34m:\u001b[0m\u001b[0;34m\u001b[0m\u001b[0m\n",
      "\u001b[0;32mpandas/_libs/index.pyx\u001b[0m in \u001b[0;36mpandas._libs.index.IndexEngine.get_loc (pandas/_libs/index.c:5280)\u001b[0;34m()\u001b[0m\n",
      "\u001b[0;32mpandas/_libs/index.pyx\u001b[0m in \u001b[0;36mpandas._libs.index.IndexEngine.get_loc (pandas/_libs/index.c:5126)\u001b[0;34m()\u001b[0m\n",
      "\u001b[0;32mpandas/_libs/hashtable_class_helper.pxi\u001b[0m in \u001b[0;36mpandas._libs.hashtable.PyObjectHashTable.get_item (pandas/_libs/hashtable.c:20523)\u001b[0;34m()\u001b[0m\n",
      "\u001b[0;32mpandas/_libs/hashtable_class_helper.pxi\u001b[0m in \u001b[0;36mpandas._libs.hashtable.PyObjectHashTable.get_item (pandas/_libs/hashtable.c:20477)\u001b[0;34m()\u001b[0m\n",
      "\u001b[0;31mKeyError\u001b[0m: 0",
      "\nDuring handling of the above exception, another exception occurred:\n",
      "\u001b[0;31mKeyError\u001b[0m                                  Traceback (most recent call last)",
      "\u001b[0;32m<ipython-input-115-9bad70b708d2>\u001b[0m in \u001b[0;36m<module>\u001b[0;34m()\u001b[0m\n\u001b[0;32m----> 1\u001b[0;31m \u001b[0mapple_df\u001b[0m\u001b[0;34m[\u001b[0m\u001b[0;36m0\u001b[0m\u001b[0;34m]\u001b[0m\u001b[0;34m\u001b[0m\u001b[0m\n\u001b[0m",
      "\u001b[0;32m~/.pyenv/versions/3.6.1/envs/python_dss/lib/python3.6/site-packages/pandas/core/frame.py\u001b[0m in \u001b[0;36m__getitem__\u001b[0;34m(self, key)\u001b[0m\n\u001b[1;32m   1962\u001b[0m             \u001b[0;32mreturn\u001b[0m \u001b[0mself\u001b[0m\u001b[0;34m.\u001b[0m\u001b[0m_getitem_multilevel\u001b[0m\u001b[0;34m(\u001b[0m\u001b[0mkey\u001b[0m\u001b[0;34m)\u001b[0m\u001b[0;34m\u001b[0m\u001b[0m\n\u001b[1;32m   1963\u001b[0m         \u001b[0;32melse\u001b[0m\u001b[0;34m:\u001b[0m\u001b[0;34m\u001b[0m\u001b[0m\n\u001b[0;32m-> 1964\u001b[0;31m             \u001b[0;32mreturn\u001b[0m \u001b[0mself\u001b[0m\u001b[0;34m.\u001b[0m\u001b[0m_getitem_column\u001b[0m\u001b[0;34m(\u001b[0m\u001b[0mkey\u001b[0m\u001b[0;34m)\u001b[0m\u001b[0;34m\u001b[0m\u001b[0m\n\u001b[0m\u001b[1;32m   1965\u001b[0m \u001b[0;34m\u001b[0m\u001b[0m\n\u001b[1;32m   1966\u001b[0m     \u001b[0;32mdef\u001b[0m \u001b[0m_getitem_column\u001b[0m\u001b[0;34m(\u001b[0m\u001b[0mself\u001b[0m\u001b[0;34m,\u001b[0m \u001b[0mkey\u001b[0m\u001b[0;34m)\u001b[0m\u001b[0;34m:\u001b[0m\u001b[0;34m\u001b[0m\u001b[0m\n",
      "\u001b[0;32m~/.pyenv/versions/3.6.1/envs/python_dss/lib/python3.6/site-packages/pandas/core/frame.py\u001b[0m in \u001b[0;36m_getitem_column\u001b[0;34m(self, key)\u001b[0m\n\u001b[1;32m   1969\u001b[0m         \u001b[0;31m# get column\u001b[0m\u001b[0;34m\u001b[0m\u001b[0;34m\u001b[0m\u001b[0m\n\u001b[1;32m   1970\u001b[0m         \u001b[0;32mif\u001b[0m \u001b[0mself\u001b[0m\u001b[0;34m.\u001b[0m\u001b[0mcolumns\u001b[0m\u001b[0;34m.\u001b[0m\u001b[0mis_unique\u001b[0m\u001b[0;34m:\u001b[0m\u001b[0;34m\u001b[0m\u001b[0m\n\u001b[0;32m-> 1971\u001b[0;31m             \u001b[0;32mreturn\u001b[0m \u001b[0mself\u001b[0m\u001b[0;34m.\u001b[0m\u001b[0m_get_item_cache\u001b[0m\u001b[0;34m(\u001b[0m\u001b[0mkey\u001b[0m\u001b[0;34m)\u001b[0m\u001b[0;34m\u001b[0m\u001b[0m\n\u001b[0m\u001b[1;32m   1972\u001b[0m \u001b[0;34m\u001b[0m\u001b[0m\n\u001b[1;32m   1973\u001b[0m         \u001b[0;31m# duplicate columns & possible reduce dimensionality\u001b[0m\u001b[0;34m\u001b[0m\u001b[0;34m\u001b[0m\u001b[0m\n",
      "\u001b[0;32m~/.pyenv/versions/3.6.1/envs/python_dss/lib/python3.6/site-packages/pandas/core/generic.py\u001b[0m in \u001b[0;36m_get_item_cache\u001b[0;34m(self, item)\u001b[0m\n\u001b[1;32m   1643\u001b[0m         \u001b[0mres\u001b[0m \u001b[0;34m=\u001b[0m \u001b[0mcache\u001b[0m\u001b[0;34m.\u001b[0m\u001b[0mget\u001b[0m\u001b[0;34m(\u001b[0m\u001b[0mitem\u001b[0m\u001b[0;34m)\u001b[0m\u001b[0;34m\u001b[0m\u001b[0m\n\u001b[1;32m   1644\u001b[0m         \u001b[0;32mif\u001b[0m \u001b[0mres\u001b[0m \u001b[0;32mis\u001b[0m \u001b[0;32mNone\u001b[0m\u001b[0;34m:\u001b[0m\u001b[0;34m\u001b[0m\u001b[0m\n\u001b[0;32m-> 1645\u001b[0;31m             \u001b[0mvalues\u001b[0m \u001b[0;34m=\u001b[0m \u001b[0mself\u001b[0m\u001b[0;34m.\u001b[0m\u001b[0m_data\u001b[0m\u001b[0;34m.\u001b[0m\u001b[0mget\u001b[0m\u001b[0;34m(\u001b[0m\u001b[0mitem\u001b[0m\u001b[0;34m)\u001b[0m\u001b[0;34m\u001b[0m\u001b[0m\n\u001b[0m\u001b[1;32m   1646\u001b[0m             \u001b[0mres\u001b[0m \u001b[0;34m=\u001b[0m \u001b[0mself\u001b[0m\u001b[0;34m.\u001b[0m\u001b[0m_box_item_values\u001b[0m\u001b[0;34m(\u001b[0m\u001b[0mitem\u001b[0m\u001b[0;34m,\u001b[0m \u001b[0mvalues\u001b[0m\u001b[0;34m)\u001b[0m\u001b[0;34m\u001b[0m\u001b[0m\n\u001b[1;32m   1647\u001b[0m             \u001b[0mcache\u001b[0m\u001b[0;34m[\u001b[0m\u001b[0mitem\u001b[0m\u001b[0;34m]\u001b[0m \u001b[0;34m=\u001b[0m \u001b[0mres\u001b[0m\u001b[0;34m\u001b[0m\u001b[0m\n",
      "\u001b[0;32m~/.pyenv/versions/3.6.1/envs/python_dss/lib/python3.6/site-packages/pandas/core/internals.py\u001b[0m in \u001b[0;36mget\u001b[0;34m(self, item, fastpath)\u001b[0m\n\u001b[1;32m   3588\u001b[0m \u001b[0;34m\u001b[0m\u001b[0m\n\u001b[1;32m   3589\u001b[0m             \u001b[0;32mif\u001b[0m \u001b[0;32mnot\u001b[0m \u001b[0misnull\u001b[0m\u001b[0;34m(\u001b[0m\u001b[0mitem\u001b[0m\u001b[0;34m)\u001b[0m\u001b[0;34m:\u001b[0m\u001b[0;34m\u001b[0m\u001b[0m\n\u001b[0;32m-> 3590\u001b[0;31m                 \u001b[0mloc\u001b[0m \u001b[0;34m=\u001b[0m \u001b[0mself\u001b[0m\u001b[0;34m.\u001b[0m\u001b[0mitems\u001b[0m\u001b[0;34m.\u001b[0m\u001b[0mget_loc\u001b[0m\u001b[0;34m(\u001b[0m\u001b[0mitem\u001b[0m\u001b[0;34m)\u001b[0m\u001b[0;34m\u001b[0m\u001b[0m\n\u001b[0m\u001b[1;32m   3591\u001b[0m             \u001b[0;32melse\u001b[0m\u001b[0;34m:\u001b[0m\u001b[0;34m\u001b[0m\u001b[0m\n\u001b[1;32m   3592\u001b[0m                 \u001b[0mindexer\u001b[0m \u001b[0;34m=\u001b[0m \u001b[0mnp\u001b[0m\u001b[0;34m.\u001b[0m\u001b[0marange\u001b[0m\u001b[0;34m(\u001b[0m\u001b[0mlen\u001b[0m\u001b[0;34m(\u001b[0m\u001b[0mself\u001b[0m\u001b[0;34m.\u001b[0m\u001b[0mitems\u001b[0m\u001b[0;34m)\u001b[0m\u001b[0;34m)\u001b[0m\u001b[0;34m[\u001b[0m\u001b[0misnull\u001b[0m\u001b[0;34m(\u001b[0m\u001b[0mself\u001b[0m\u001b[0;34m.\u001b[0m\u001b[0mitems\u001b[0m\u001b[0;34m)\u001b[0m\u001b[0;34m]\u001b[0m\u001b[0;34m\u001b[0m\u001b[0m\n",
      "\u001b[0;32m~/.pyenv/versions/3.6.1/envs/python_dss/lib/python3.6/site-packages/pandas/core/indexes/base.py\u001b[0m in \u001b[0;36mget_loc\u001b[0;34m(self, key, method, tolerance)\u001b[0m\n\u001b[1;32m   2442\u001b[0m                 \u001b[0;32mreturn\u001b[0m \u001b[0mself\u001b[0m\u001b[0;34m.\u001b[0m\u001b[0m_engine\u001b[0m\u001b[0;34m.\u001b[0m\u001b[0mget_loc\u001b[0m\u001b[0;34m(\u001b[0m\u001b[0mkey\u001b[0m\u001b[0;34m)\u001b[0m\u001b[0;34m\u001b[0m\u001b[0m\n\u001b[1;32m   2443\u001b[0m             \u001b[0;32mexcept\u001b[0m \u001b[0mKeyError\u001b[0m\u001b[0;34m:\u001b[0m\u001b[0;34m\u001b[0m\u001b[0m\n\u001b[0;32m-> 2444\u001b[0;31m                 \u001b[0;32mreturn\u001b[0m \u001b[0mself\u001b[0m\u001b[0;34m.\u001b[0m\u001b[0m_engine\u001b[0m\u001b[0;34m.\u001b[0m\u001b[0mget_loc\u001b[0m\u001b[0;34m(\u001b[0m\u001b[0mself\u001b[0m\u001b[0;34m.\u001b[0m\u001b[0m_maybe_cast_indexer\u001b[0m\u001b[0;34m(\u001b[0m\u001b[0mkey\u001b[0m\u001b[0;34m)\u001b[0m\u001b[0;34m)\u001b[0m\u001b[0;34m\u001b[0m\u001b[0m\n\u001b[0m\u001b[1;32m   2445\u001b[0m \u001b[0;34m\u001b[0m\u001b[0m\n\u001b[1;32m   2446\u001b[0m         \u001b[0mindexer\u001b[0m \u001b[0;34m=\u001b[0m \u001b[0mself\u001b[0m\u001b[0;34m.\u001b[0m\u001b[0mget_indexer\u001b[0m\u001b[0;34m(\u001b[0m\u001b[0;34m[\u001b[0m\u001b[0mkey\u001b[0m\u001b[0;34m]\u001b[0m\u001b[0;34m,\u001b[0m \u001b[0mmethod\u001b[0m\u001b[0;34m=\u001b[0m\u001b[0mmethod\u001b[0m\u001b[0;34m,\u001b[0m \u001b[0mtolerance\u001b[0m\u001b[0;34m=\u001b[0m\u001b[0mtolerance\u001b[0m\u001b[0;34m)\u001b[0m\u001b[0;34m\u001b[0m\u001b[0m\n",
      "\u001b[0;32mpandas/_libs/index.pyx\u001b[0m in \u001b[0;36mpandas._libs.index.IndexEngine.get_loc (pandas/_libs/index.c:5280)\u001b[0;34m()\u001b[0m\n",
      "\u001b[0;32mpandas/_libs/index.pyx\u001b[0m in \u001b[0;36mpandas._libs.index.IndexEngine.get_loc (pandas/_libs/index.c:5126)\u001b[0;34m()\u001b[0m\n",
      "\u001b[0;32mpandas/_libs/hashtable_class_helper.pxi\u001b[0m in \u001b[0;36mpandas._libs.hashtable.PyObjectHashTable.get_item (pandas/_libs/hashtable.c:20523)\u001b[0;34m()\u001b[0m\n",
      "\u001b[0;32mpandas/_libs/hashtable_class_helper.pxi\u001b[0m in \u001b[0;36mpandas._libs.hashtable.PyObjectHashTable.get_item (pandas/_libs/hashtable.c:20477)\u001b[0;34m()\u001b[0m\n",
      "\u001b[0;31mKeyError\u001b[0m: 0"
     ]
    }
   ],
   "source": [
    "apple_df[0]"
   ]
  },
  {
   "cell_type": "code",
   "execution_count": 116,
   "metadata": {},
   "outputs": [
    {
     "name": "stdout",
     "output_type": "stream",
     "text": [
      "0     113.37\n",
      "1     113.80\n",
      "2     114.64\n",
      "3     113.18\n",
      "4     113.39\n",
      "5     114.79\n",
      "6     114.94\n",
      "7     113.99\n",
      "8     114.12\n",
      "9     116.18\n",
      "10    116.13\n",
      "11    115.73\n",
      "12    113.03\n",
      "13    108.79\n",
      "14    105.72\n",
      "15    105.72\n",
      "16    107.27\n",
      "17    108.76\n",
      "18    108.30\n",
      "19    108.00\n",
      "20    106.80\n",
      "Name: High, dtype: float64\n"
     ]
    }
   ],
   "source": [
    "print(apple_df['High'])"
   ]
  },
  {
   "cell_type": "markdown",
   "metadata": {},
   "source": [
    "* **column 선택하기**\n",
    "  - df에서 특정 컬럼의 데이터만 추출\n",
    "  - 컬럼 이름일 경우 이름만 사용 가능\n",
    "  - 컬럼 인덱스일 경우 인덱스의 리스트 사용 가능"
   ]
  },
  {
   "cell_type": "code",
   "execution_count": 117,
   "metadata": {},
   "outputs": [
    {
     "data": {
      "text/html": [
       "<div>\n",
       "<style>\n",
       "    .dataframe thead tr:only-child th {\n",
       "        text-align: right;\n",
       "    }\n",
       "\n",
       "    .dataframe thead th {\n",
       "        text-align: left;\n",
       "    }\n",
       "\n",
       "    .dataframe tbody tr th {\n",
       "        vertical-align: top;\n",
       "    }\n",
       "</style>\n",
       "<table border=\"1\" class=\"dataframe\">\n",
       "  <thead>\n",
       "    <tr style=\"text-align: right;\">\n",
       "      <th></th>\n",
       "      <th>Date</th>\n",
       "      <th>Close</th>\n",
       "      <th>Volume</th>\n",
       "    </tr>\n",
       "  </thead>\n",
       "  <tbody>\n",
       "    <tr>\n",
       "      <th>0</th>\n",
       "      <td>30-Sep-16</td>\n",
       "      <td>113.05</td>\n",
       "      <td>36379106</td>\n",
       "    </tr>\n",
       "    <tr>\n",
       "      <th>1</th>\n",
       "      <td>29-Sep-16</td>\n",
       "      <td>112.18</td>\n",
       "      <td>35886990</td>\n",
       "    </tr>\n",
       "    <tr>\n",
       "      <th>2</th>\n",
       "      <td>28-Sep-16</td>\n",
       "      <td>113.95</td>\n",
       "      <td>29641085</td>\n",
       "    </tr>\n",
       "    <tr>\n",
       "      <th>3</th>\n",
       "      <td>27-Sep-16</td>\n",
       "      <td>113.09</td>\n",
       "      <td>24607412</td>\n",
       "    </tr>\n",
       "    <tr>\n",
       "      <th>4</th>\n",
       "      <td>26-Sep-16</td>\n",
       "      <td>112.88</td>\n",
       "      <td>29869442</td>\n",
       "    </tr>\n",
       "    <tr>\n",
       "      <th>5</th>\n",
       "      <td>23-Sep-16</td>\n",
       "      <td>112.71</td>\n",
       "      <td>52481151</td>\n",
       "    </tr>\n",
       "    <tr>\n",
       "      <th>6</th>\n",
       "      <td>22-Sep-16</td>\n",
       "      <td>114.62</td>\n",
       "      <td>31073984</td>\n",
       "    </tr>\n",
       "    <tr>\n",
       "      <th>7</th>\n",
       "      <td>21-Sep-16</td>\n",
       "      <td>113.55</td>\n",
       "      <td>36003185</td>\n",
       "    </tr>\n",
       "    <tr>\n",
       "      <th>8</th>\n",
       "      <td>20-Sep-16</td>\n",
       "      <td>113.57</td>\n",
       "      <td>34514269</td>\n",
       "    </tr>\n",
       "    <tr>\n",
       "      <th>9</th>\n",
       "      <td>19-Sep-16</td>\n",
       "      <td>113.58</td>\n",
       "      <td>47023046</td>\n",
       "    </tr>\n",
       "    <tr>\n",
       "      <th>10</th>\n",
       "      <td>16-Sep-16</td>\n",
       "      <td>114.92</td>\n",
       "      <td>79886911</td>\n",
       "    </tr>\n",
       "    <tr>\n",
       "      <th>11</th>\n",
       "      <td>15-Sep-16</td>\n",
       "      <td>115.57</td>\n",
       "      <td>90613177</td>\n",
       "    </tr>\n",
       "    <tr>\n",
       "      <th>12</th>\n",
       "      <td>14-Sep-16</td>\n",
       "      <td>111.77</td>\n",
       "      <td>112340318</td>\n",
       "    </tr>\n",
       "    <tr>\n",
       "      <th>13</th>\n",
       "      <td>13-Sep-16</td>\n",
       "      <td>107.95</td>\n",
       "      <td>62176190</td>\n",
       "    </tr>\n",
       "    <tr>\n",
       "      <th>14</th>\n",
       "      <td>12-Sep-16</td>\n",
       "      <td>105.44</td>\n",
       "      <td>45292770</td>\n",
       "    </tr>\n",
       "    <tr>\n",
       "      <th>15</th>\n",
       "      <td>9-Sep-16</td>\n",
       "      <td>103.13</td>\n",
       "      <td>46556984</td>\n",
       "    </tr>\n",
       "    <tr>\n",
       "      <th>16</th>\n",
       "      <td>8-Sep-16</td>\n",
       "      <td>105.52</td>\n",
       "      <td>53002026</td>\n",
       "    </tr>\n",
       "    <tr>\n",
       "      <th>17</th>\n",
       "      <td>7-Sep-16</td>\n",
       "      <td>108.36</td>\n",
       "      <td>42364328</td>\n",
       "    </tr>\n",
       "    <tr>\n",
       "      <th>18</th>\n",
       "      <td>6-Sep-16</td>\n",
       "      <td>107.70</td>\n",
       "      <td>26880391</td>\n",
       "    </tr>\n",
       "    <tr>\n",
       "      <th>19</th>\n",
       "      <td>2-Sep-16</td>\n",
       "      <td>107.73</td>\n",
       "      <td>26334858</td>\n",
       "    </tr>\n",
       "    <tr>\n",
       "      <th>20</th>\n",
       "      <td>1-Sep-16</td>\n",
       "      <td>106.73</td>\n",
       "      <td>26701523</td>\n",
       "    </tr>\n",
       "  </tbody>\n",
       "</table>\n",
       "</div>"
      ],
      "text/plain": [
       "         Date   Close     Volume\n",
       "0   30-Sep-16  113.05   36379106\n",
       "1   29-Sep-16  112.18   35886990\n",
       "2   28-Sep-16  113.95   29641085\n",
       "3   27-Sep-16  113.09   24607412\n",
       "4   26-Sep-16  112.88   29869442\n",
       "5   23-Sep-16  112.71   52481151\n",
       "6   22-Sep-16  114.62   31073984\n",
       "7   21-Sep-16  113.55   36003185\n",
       "8   20-Sep-16  113.57   34514269\n",
       "9   19-Sep-16  113.58   47023046\n",
       "10  16-Sep-16  114.92   79886911\n",
       "11  15-Sep-16  115.57   90613177\n",
       "12  14-Sep-16  111.77  112340318\n",
       "13  13-Sep-16  107.95   62176190\n",
       "14  12-Sep-16  105.44   45292770\n",
       "15   9-Sep-16  103.13   46556984\n",
       "16   8-Sep-16  105.52   53002026\n",
       "17   7-Sep-16  108.36   42364328\n",
       "18   6-Sep-16  107.70   26880391\n",
       "19   2-Sep-16  107.73   26334858\n",
       "20   1-Sep-16  106.73   26701523"
      ]
     },
     "execution_count": 117,
     "metadata": {},
     "output_type": "execute_result"
    }
   ],
   "source": [
    "# 숫자 인덱스로 컬럼 셀렉션 확인 할 것 \n",
    "apple_df[['Date', 'Close', 'Volume']] # 인덱스로도 가능"
   ]
  },
  {
   "cell_type": "code",
   "execution_count": 119,
   "metadata": {},
   "outputs": [
    {
     "name": "stdout",
     "output_type": "stream",
     "text": [
      "<class 'pandas.core.frame.DataFrame'>\n",
      "<class 'pandas.core.frame.DataFrame'>\n",
      "<class 'pandas.core.series.Series'>\n"
     ]
    }
   ],
   "source": [
    "#print(type(apple_df[[0, 4, 5]]))\n",
    "#print(type(apple_df[[0]]))\n",
    "print(type(apple_df[['Date']]))\n",
    "print(type(apple_df[['Date', 'Close']]))\n",
    "print(type(apple_df['Date']))"
   ]
  },
  {
   "cell_type": "code",
   "execution_count": 120,
   "metadata": {},
   "outputs": [
    {
     "name": "stdout",
     "output_type": "stream",
     "text": [
      "0     30-Sep-16\n",
      "1     29-Sep-16\n",
      "2     28-Sep-16\n",
      "3     27-Sep-16\n",
      "4     26-Sep-16\n",
      "5     23-Sep-16\n",
      "6     22-Sep-16\n",
      "7     21-Sep-16\n",
      "8     20-Sep-16\n",
      "9     19-Sep-16\n",
      "10    16-Sep-16\n",
      "11    15-Sep-16\n",
      "12    14-Sep-16\n",
      "13    13-Sep-16\n",
      "14    12-Sep-16\n",
      "15     9-Sep-16\n",
      "16     8-Sep-16\n",
      "17     7-Sep-16\n",
      "18     6-Sep-16\n",
      "19     2-Sep-16\n",
      "20     1-Sep-16\n",
      "Name: Date, dtype: object\n",
      "0     113.05\n",
      "1     112.18\n",
      "2     113.95\n",
      "3     113.09\n",
      "4     112.88\n",
      "5     112.71\n",
      "6     114.62\n",
      "7     113.55\n",
      "8     113.57\n",
      "9     113.58\n",
      "10    114.92\n",
      "11    115.57\n",
      "12    111.77\n",
      "13    107.95\n",
      "14    105.44\n",
      "15    103.13\n",
      "16    105.52\n",
      "17    108.36\n",
      "18    107.70\n",
      "19    107.73\n",
      "20    106.73\n",
      "Name: Close, dtype: float64\n"
     ]
    }
   ],
   "source": [
    "print(apple_df.Date)\n",
    "print(apple_df.Close)"
   ]
  },
  {
   "cell_type": "markdown",
   "metadata": {},
   "source": [
    "* **row 선택하기**\n",
    "  - Seires의 경우 []로 row 선택이 가능하나, **DataFrame의 경우는 기본적으로 column을 선택하도록 설계**\n",
    "  - [:10]과 같이 slicing의 경우에는 row 선택 가능\n",
    "  - .loc, .iloc, .ix 의 함수로 row 선택 가능"
   ]
  },
  {
   "cell_type": "code",
   "execution_count": 121,
   "metadata": {},
   "outputs": [
    {
     "name": "stdout",
     "output_type": "stream",
     "text": [
      "        Date    Open    High     Low   Close    Volume\n",
      "0  30-Sep-16  112.46  113.37  111.80  113.05  36379106\n",
      "1  29-Sep-16  113.16  113.80  111.80  112.18  35886990\n",
      "2  28-Sep-16  113.69  114.64  113.43  113.95  29641085\n",
      "3  27-Sep-16  113.00  113.18  112.34  113.09  24607412\n",
      "4  26-Sep-16  111.64  113.39  111.55  112.88  29869442\n",
      "5  23-Sep-16  114.42  114.79  111.55  112.71  52481151\n",
      "6  22-Sep-16  114.35  114.94  114.00  114.62  31073984\n",
      "7  21-Sep-16  113.85  113.99  112.44  113.55  36003185\n",
      "8  20-Sep-16  113.05  114.12  112.51  113.57  34514269\n",
      "9  19-Sep-16  115.19  116.18  113.25  113.58  47023046\n",
      "Date      30-Sep-16\n",
      "Open         112.46\n",
      "High         113.37\n",
      "Low           111.8\n",
      "Close        113.05\n",
      "Volume     36379106\n",
      "Name: 0, dtype: object\n"
     ]
    }
   ],
   "source": [
    "print(apple_df[0:10])\n",
    "\n",
    "print(apple_df.loc[0])\n"
   ]
  },
  {
   "cell_type": "code",
   "execution_count": 123,
   "metadata": {},
   "outputs": [
    {
     "data": {
      "text/html": [
       "<div>\n",
       "<style>\n",
       "    .dataframe thead tr:only-child th {\n",
       "        text-align: right;\n",
       "    }\n",
       "\n",
       "    .dataframe thead th {\n",
       "        text-align: left;\n",
       "    }\n",
       "\n",
       "    .dataframe tbody tr th {\n",
       "        vertical-align: top;\n",
       "    }\n",
       "</style>\n",
       "<table border=\"1\" class=\"dataframe\">\n",
       "  <thead>\n",
       "    <tr style=\"text-align: right;\">\n",
       "      <th></th>\n",
       "      <th>Name</th>\n",
       "      <th>Sector</th>\n",
       "      <th>Price</th>\n",
       "      <th>Book Value</th>\n",
       "    </tr>\n",
       "    <tr>\n",
       "      <th>Symbol</th>\n",
       "      <th></th>\n",
       "      <th></th>\n",
       "      <th></th>\n",
       "      <th></th>\n",
       "    </tr>\n",
       "  </thead>\n",
       "  <tbody>\n",
       "    <tr>\n",
       "      <th>MMM</th>\n",
       "      <td>3M Company</td>\n",
       "      <td>Industrials</td>\n",
       "      <td>177.12</td>\n",
       "      <td>19.34</td>\n",
       "    </tr>\n",
       "    <tr>\n",
       "      <th>ABT</th>\n",
       "      <td>Abbott Laboratories</td>\n",
       "      <td>Health Care</td>\n",
       "      <td>41.89</td>\n",
       "      <td>14.10</td>\n",
       "    </tr>\n",
       "    <tr>\n",
       "      <th>ABBV</th>\n",
       "      <td>AbbVie</td>\n",
       "      <td>Health Care</td>\n",
       "      <td>64.16</td>\n",
       "      <td>2.87</td>\n",
       "    </tr>\n",
       "    <tr>\n",
       "      <th>ACN</th>\n",
       "      <td>Accenture plc</td>\n",
       "      <td>Information Technology</td>\n",
       "      <td>115.11</td>\n",
       "      <td>11.45</td>\n",
       "    </tr>\n",
       "    <tr>\n",
       "      <th>ATVI</th>\n",
       "      <td>Activision Blizzard</td>\n",
       "      <td>Information Technology</td>\n",
       "      <td>41.29</td>\n",
       "      <td>11.31</td>\n",
       "    </tr>\n",
       "    <tr>\n",
       "      <th>AYI</th>\n",
       "      <td>Acuity Brands Inc</td>\n",
       "      <td>Industrials</td>\n",
       "      <td>264.62</td>\n",
       "      <td>36.50</td>\n",
       "    </tr>\n",
       "    <tr>\n",
       "      <th>ADBE</th>\n",
       "      <td>Adobe Systems Inc</td>\n",
       "      <td>Information Technology</td>\n",
       "      <td>96.79</td>\n",
       "      <td>14.53</td>\n",
       "    </tr>\n",
       "    <tr>\n",
       "      <th>AAP</th>\n",
       "      <td>Advance Auto Parts</td>\n",
       "      <td>Consumer Discretionary</td>\n",
       "      <td>164.85</td>\n",
       "      <td>35.82</td>\n",
       "    </tr>\n",
       "    <tr>\n",
       "      <th>AES</th>\n",
       "      <td>AES Corp</td>\n",
       "      <td>Utilities</td>\n",
       "      <td>12.32</td>\n",
       "      <td>4.86</td>\n",
       "    </tr>\n",
       "    <tr>\n",
       "      <th>AET</th>\n",
       "      <td>Aetna Inc</td>\n",
       "      <td>Health Care</td>\n",
       "      <td>117.00</td>\n",
       "      <td>47.96</td>\n",
       "    </tr>\n",
       "    <tr>\n",
       "      <th>AMG</th>\n",
       "      <td>Affiliated Managers Group Inc</td>\n",
       "      <td>Financials</td>\n",
       "      <td>138.85</td>\n",
       "      <td>53.30</td>\n",
       "    </tr>\n",
       "    <tr>\n",
       "      <th>AFL</th>\n",
       "      <td>AFLAC Inc</td>\n",
       "      <td>Financials</td>\n",
       "      <td>72.49</td>\n",
       "      <td>48.22</td>\n",
       "    </tr>\n",
       "    <tr>\n",
       "      <th>A</th>\n",
       "      <td>Agilent Technologies Inc</td>\n",
       "      <td>Health Care</td>\n",
       "      <td>45.48</td>\n",
       "      <td>12.79</td>\n",
       "    </tr>\n",
       "    <tr>\n",
       "      <th>APD</th>\n",
       "      <td>Air Products &amp; Chemicals Inc</td>\n",
       "      <td>Materials</td>\n",
       "      <td>144.35</td>\n",
       "      <td>32.01</td>\n",
       "    </tr>\n",
       "    <tr>\n",
       "      <th>AKAM</th>\n",
       "      <td>Akamai Technologies Inc</td>\n",
       "      <td>Information Technology</td>\n",
       "      <td>56.38</td>\n",
       "      <td>17.69</td>\n",
       "    </tr>\n",
       "    <tr>\n",
       "      <th>ALK</th>\n",
       "      <td>Alaska Air Group Inc</td>\n",
       "      <td>Industrials</td>\n",
       "      <td>59.86</td>\n",
       "      <td>19.81</td>\n",
       "    </tr>\n",
       "    <tr>\n",
       "      <th>ALB</th>\n",
       "      <td>Albemarle Corp</td>\n",
       "      <td>Materials</td>\n",
       "      <td>83.58</td>\n",
       "      <td>31.53</td>\n",
       "    </tr>\n",
       "    <tr>\n",
       "      <th>AA</th>\n",
       "      <td>Alcoa Inc</td>\n",
       "      <td>Materials</td>\n",
       "      <td>9.82</td>\n",
       "      <td>9.25</td>\n",
       "    </tr>\n",
       "    <tr>\n",
       "      <th>ALXN</th>\n",
       "      <td>Alexion Pharmaceuticals</td>\n",
       "      <td>Health Care</td>\n",
       "      <td>124.42</td>\n",
       "      <td>35.96</td>\n",
       "    </tr>\n",
       "    <tr>\n",
       "      <th>ALLE</th>\n",
       "      <td>Allegion</td>\n",
       "      <td>Industrials</td>\n",
       "      <td>69.74</td>\n",
       "      <td>0.77</td>\n",
       "    </tr>\n",
       "    <tr>\n",
       "      <th>AGN</th>\n",
       "      <td>Allergan plc</td>\n",
       "      <td>Health Care</td>\n",
       "      <td>240.59</td>\n",
       "      <td>183.41</td>\n",
       "    </tr>\n",
       "    <tr>\n",
       "      <th>ADS</th>\n",
       "      <td>Alliance Data Systems</td>\n",
       "      <td>Information Technology</td>\n",
       "      <td>200.96</td>\n",
       "      <td>29.51</td>\n",
       "    </tr>\n",
       "    <tr>\n",
       "      <th>LNT</th>\n",
       "      <td>Alliant Energy Corp</td>\n",
       "      <td>Utilities</td>\n",
       "      <td>40.55</td>\n",
       "      <td>16.58</td>\n",
       "    </tr>\n",
       "    <tr>\n",
       "      <th>ALL</th>\n",
       "      <td>Allstate Corp</td>\n",
       "      <td>Financials</td>\n",
       "      <td>69.66</td>\n",
       "      <td>49.58</td>\n",
       "    </tr>\n",
       "    <tr>\n",
       "      <th>GOOGL</th>\n",
       "      <td>Alphabet Inc Class A</td>\n",
       "      <td>Information Technology</td>\n",
       "      <td>717.78</td>\n",
       "      <td>179.92</td>\n",
       "    </tr>\n",
       "    <tr>\n",
       "      <th>GOOG</th>\n",
       "      <td>Alphabet Inc Class C</td>\n",
       "      <td>Information Technology</td>\n",
       "      <td>705.63</td>\n",
       "      <td>179.92</td>\n",
       "    </tr>\n",
       "    <tr>\n",
       "      <th>MO</th>\n",
       "      <td>Altria Group Inc</td>\n",
       "      <td>Consumer Staples</td>\n",
       "      <td>69.83</td>\n",
       "      <td>1.40</td>\n",
       "    </tr>\n",
       "    <tr>\n",
       "      <th>AMZN</th>\n",
       "      <td>Amazon.com Inc</td>\n",
       "      <td>Consumer Discretionary</td>\n",
       "      <td>745.81</td>\n",
       "      <td>31.26</td>\n",
       "    </tr>\n",
       "    <tr>\n",
       "      <th>AEE</th>\n",
       "      <td>Ameren Corp</td>\n",
       "      <td>Utilities</td>\n",
       "      <td>53.15</td>\n",
       "      <td>28.31</td>\n",
       "    </tr>\n",
       "    <tr>\n",
       "      <th>AAL</th>\n",
       "      <td>American Airlines Group</td>\n",
       "      <td>Industrials</td>\n",
       "      <td>30.04</td>\n",
       "      <td>8.04</td>\n",
       "    </tr>\n",
       "    <tr>\n",
       "      <th>...</th>\n",
       "      <td>...</td>\n",
       "      <td>...</td>\n",
       "      <td>...</td>\n",
       "      <td>...</td>\n",
       "    </tr>\n",
       "    <tr>\n",
       "      <th>V</th>\n",
       "      <td>Visa Inc.</td>\n",
       "      <td>Information Technology</td>\n",
       "      <td>76.42</td>\n",
       "      <td>12.22</td>\n",
       "    </tr>\n",
       "    <tr>\n",
       "      <th>VNO</th>\n",
       "      <td>Vornado Realty Trust</td>\n",
       "      <td>Financials</td>\n",
       "      <td>100.46</td>\n",
       "      <td>27.80</td>\n",
       "    </tr>\n",
       "    <tr>\n",
       "      <th>VMC</th>\n",
       "      <td>Vulcan Materials</td>\n",
       "      <td>Materials</td>\n",
       "      <td>123.61</td>\n",
       "      <td>33.15</td>\n",
       "    </tr>\n",
       "    <tr>\n",
       "      <th>WMT</th>\n",
       "      <td>Wal-Mart Stores</td>\n",
       "      <td>Consumer Staples</td>\n",
       "      <td>73.84</td>\n",
       "      <td>24.06</td>\n",
       "    </tr>\n",
       "    <tr>\n",
       "      <th>WBA</th>\n",
       "      <td>Walgreens Boots Alliance</td>\n",
       "      <td>Consumer Staples</td>\n",
       "      <td>81.80</td>\n",
       "      <td>28.55</td>\n",
       "    </tr>\n",
       "    <tr>\n",
       "      <th>WM</th>\n",
       "      <td>Waste Management Inc.</td>\n",
       "      <td>Industrials</td>\n",
       "      <td>67.61</td>\n",
       "      <td>11.90</td>\n",
       "    </tr>\n",
       "    <tr>\n",
       "      <th>WAT</th>\n",
       "      <td>Waters Corporation</td>\n",
       "      <td>Health Care</td>\n",
       "      <td>146.53</td>\n",
       "      <td>25.97</td>\n",
       "    </tr>\n",
       "    <tr>\n",
       "      <th>WFC</th>\n",
       "      <td>Wells Fargo</td>\n",
       "      <td>Financials</td>\n",
       "      <td>47.79</td>\n",
       "      <td>34.62</td>\n",
       "    </tr>\n",
       "    <tr>\n",
       "      <th>HCN</th>\n",
       "      <td>Welltower Inc.</td>\n",
       "      <td>Financials</td>\n",
       "      <td>75.62</td>\n",
       "      <td>37.88</td>\n",
       "    </tr>\n",
       "    <tr>\n",
       "      <th>WDC</th>\n",
       "      <td>Western Digital</td>\n",
       "      <td>Information Technology</td>\n",
       "      <td>49.35</td>\n",
       "      <td>41.24</td>\n",
       "    </tr>\n",
       "    <tr>\n",
       "      <th>WU</th>\n",
       "      <td>Western Union Co</td>\n",
       "      <td>Information Technology</td>\n",
       "      <td>19.57</td>\n",
       "      <td>2.52</td>\n",
       "    </tr>\n",
       "    <tr>\n",
       "      <th>WRK</th>\n",
       "      <td>Westrock Co</td>\n",
       "      <td>Materials</td>\n",
       "      <td>38.55</td>\n",
       "      <td>43.77</td>\n",
       "    </tr>\n",
       "    <tr>\n",
       "      <th>WY</th>\n",
       "      <td>Weyerhaeuser Corp.</td>\n",
       "      <td>Financials</td>\n",
       "      <td>30.67</td>\n",
       "      <td>13.53</td>\n",
       "    </tr>\n",
       "    <tr>\n",
       "      <th>WHR</th>\n",
       "      <td>Whirlpool Corp.</td>\n",
       "      <td>Consumer Discretionary</td>\n",
       "      <td>171.38</td>\n",
       "      <td>62.60</td>\n",
       "    </tr>\n",
       "    <tr>\n",
       "      <th>WFM</th>\n",
       "      <td>Whole Foods Market</td>\n",
       "      <td>Consumer Staples</td>\n",
       "      <td>33.58</td>\n",
       "      <td>10.11</td>\n",
       "    </tr>\n",
       "    <tr>\n",
       "      <th>WMB</th>\n",
       "      <td>Williams Cos.</td>\n",
       "      <td>Energy</td>\n",
       "      <td>20.99</td>\n",
       "      <td>7.59</td>\n",
       "    </tr>\n",
       "    <tr>\n",
       "      <th>WLTW</th>\n",
       "      <td>Willis Towers Watson</td>\n",
       "      <td>Financials</td>\n",
       "      <td>125.06</td>\n",
       "      <td>80.57</td>\n",
       "    </tr>\n",
       "    <tr>\n",
       "      <th>WEC</th>\n",
       "      <td>Wisconsin Energy Corporation</td>\n",
       "      <td>Utilities</td>\n",
       "      <td>65.03</td>\n",
       "      <td>27.94</td>\n",
       "    </tr>\n",
       "    <tr>\n",
       "      <th>WYN</th>\n",
       "      <td>Wyndham Worldwide</td>\n",
       "      <td>Consumer Discretionary</td>\n",
       "      <td>72.35</td>\n",
       "      <td>7.48</td>\n",
       "    </tr>\n",
       "    <tr>\n",
       "      <th>WYNN</th>\n",
       "      <td>Wynn Resorts Ltd</td>\n",
       "      <td>Consumer Discretionary</td>\n",
       "      <td>89.75</td>\n",
       "      <td>-0.83</td>\n",
       "    </tr>\n",
       "    <tr>\n",
       "      <th>XEL</th>\n",
       "      <td>Xcel Energy Inc</td>\n",
       "      <td>Utilities</td>\n",
       "      <td>44.59</td>\n",
       "      <td>21.01</td>\n",
       "    </tr>\n",
       "    <tr>\n",
       "      <th>XRX</th>\n",
       "      <td>Xerox Corp.</td>\n",
       "      <td>Information Technology</td>\n",
       "      <td>9.54</td>\n",
       "      <td>9.01</td>\n",
       "    </tr>\n",
       "    <tr>\n",
       "      <th>XLNX</th>\n",
       "      <td>Xilinx Inc</td>\n",
       "      <td>Information Technology</td>\n",
       "      <td>46.97</td>\n",
       "      <td>10.21</td>\n",
       "    </tr>\n",
       "    <tr>\n",
       "      <th>XL</th>\n",
       "      <td>XL Capital</td>\n",
       "      <td>Financials</td>\n",
       "      <td>33.01</td>\n",
       "      <td>40.83</td>\n",
       "    </tr>\n",
       "    <tr>\n",
       "      <th>XYL</th>\n",
       "      <td>Xylem Inc.</td>\n",
       "      <td>Industrials</td>\n",
       "      <td>46.41</td>\n",
       "      <td>12.07</td>\n",
       "    </tr>\n",
       "    <tr>\n",
       "      <th>YHOO</th>\n",
       "      <td>Yahoo Inc.</td>\n",
       "      <td>Information Technology</td>\n",
       "      <td>37.74</td>\n",
       "      <td>30.03</td>\n",
       "    </tr>\n",
       "    <tr>\n",
       "      <th>YUM</th>\n",
       "      <td>Yum! Brands Inc</td>\n",
       "      <td>Consumer Discretionary</td>\n",
       "      <td>85.76</td>\n",
       "      <td>0.38</td>\n",
       "    </tr>\n",
       "    <tr>\n",
       "      <th>ZBH</th>\n",
       "      <td>Zimmer Biomet Holdings</td>\n",
       "      <td>Health Care</td>\n",
       "      <td>124.89</td>\n",
       "      <td>48.52</td>\n",
       "    </tr>\n",
       "    <tr>\n",
       "      <th>ZION</th>\n",
       "      <td>Zions Bancorp</td>\n",
       "      <td>Financials</td>\n",
       "      <td>24.74</td>\n",
       "      <td>33.23</td>\n",
       "    </tr>\n",
       "    <tr>\n",
       "      <th>ZTS</th>\n",
       "      <td>Zoetis</td>\n",
       "      <td>Health Care</td>\n",
       "      <td>48.50</td>\n",
       "      <td>2.35</td>\n",
       "    </tr>\n",
       "  </tbody>\n",
       "</table>\n",
       "<p>504 rows × 4 columns</p>\n",
       "</div>"
      ],
      "text/plain": [
       "                                 Name                  Sector   Price  \\\n",
       "Symbol                                                                  \n",
       "MMM                        3M Company             Industrials  177.12   \n",
       "ABT               Abbott Laboratories             Health Care   41.89   \n",
       "ABBV                           AbbVie             Health Care   64.16   \n",
       "ACN                     Accenture plc  Information Technology  115.11   \n",
       "ATVI              Activision Blizzard  Information Technology   41.29   \n",
       "AYI                 Acuity Brands Inc             Industrials  264.62   \n",
       "ADBE                Adobe Systems Inc  Information Technology   96.79   \n",
       "AAP                Advance Auto Parts  Consumer Discretionary  164.85   \n",
       "AES                          AES Corp               Utilities   12.32   \n",
       "AET                         Aetna Inc             Health Care  117.00   \n",
       "AMG     Affiliated Managers Group Inc              Financials  138.85   \n",
       "AFL                         AFLAC Inc              Financials   72.49   \n",
       "A            Agilent Technologies Inc             Health Care   45.48   \n",
       "APD      Air Products & Chemicals Inc               Materials  144.35   \n",
       "AKAM          Akamai Technologies Inc  Information Technology   56.38   \n",
       "ALK              Alaska Air Group Inc             Industrials   59.86   \n",
       "ALB                    Albemarle Corp               Materials   83.58   \n",
       "AA                          Alcoa Inc               Materials    9.82   \n",
       "ALXN          Alexion Pharmaceuticals             Health Care  124.42   \n",
       "ALLE                         Allegion             Industrials   69.74   \n",
       "AGN                      Allergan plc             Health Care  240.59   \n",
       "ADS             Alliance Data Systems  Information Technology  200.96   \n",
       "LNT               Alliant Energy Corp               Utilities   40.55   \n",
       "ALL                     Allstate Corp              Financials   69.66   \n",
       "GOOGL            Alphabet Inc Class A  Information Technology  717.78   \n",
       "GOOG             Alphabet Inc Class C  Information Technology  705.63   \n",
       "MO                   Altria Group Inc        Consumer Staples   69.83   \n",
       "AMZN                   Amazon.com Inc  Consumer Discretionary  745.81   \n",
       "AEE                       Ameren Corp               Utilities   53.15   \n",
       "AAL           American Airlines Group             Industrials   30.04   \n",
       "...                               ...                     ...     ...   \n",
       "V                           Visa Inc.  Information Technology   76.42   \n",
       "VNO              Vornado Realty Trust              Financials  100.46   \n",
       "VMC                  Vulcan Materials               Materials  123.61   \n",
       "WMT                   Wal-Mart Stores        Consumer Staples   73.84   \n",
       "WBA          Walgreens Boots Alliance        Consumer Staples   81.80   \n",
       "WM              Waste Management Inc.             Industrials   67.61   \n",
       "WAT                Waters Corporation             Health Care  146.53   \n",
       "WFC                       Wells Fargo              Financials   47.79   \n",
       "HCN                    Welltower Inc.              Financials   75.62   \n",
       "WDC                   Western Digital  Information Technology   49.35   \n",
       "WU                   Western Union Co  Information Technology   19.57   \n",
       "WRK                       Westrock Co               Materials   38.55   \n",
       "WY                 Weyerhaeuser Corp.              Financials   30.67   \n",
       "WHR                   Whirlpool Corp.  Consumer Discretionary  171.38   \n",
       "WFM                Whole Foods Market        Consumer Staples   33.58   \n",
       "WMB                     Williams Cos.                  Energy   20.99   \n",
       "WLTW             Willis Towers Watson              Financials  125.06   \n",
       "WEC      Wisconsin Energy Corporation               Utilities   65.03   \n",
       "WYN                 Wyndham Worldwide  Consumer Discretionary   72.35   \n",
       "WYNN                 Wynn Resorts Ltd  Consumer Discretionary   89.75   \n",
       "XEL                   Xcel Energy Inc               Utilities   44.59   \n",
       "XRX                       Xerox Corp.  Information Technology    9.54   \n",
       "XLNX                       Xilinx Inc  Information Technology   46.97   \n",
       "XL                         XL Capital              Financials   33.01   \n",
       "XYL                        Xylem Inc.             Industrials   46.41   \n",
       "YHOO                       Yahoo Inc.  Information Technology   37.74   \n",
       "YUM                   Yum! Brands Inc  Consumer Discretionary   85.76   \n",
       "ZBH            Zimmer Biomet Holdings             Health Care  124.89   \n",
       "ZION                    Zions Bancorp              Financials   24.74   \n",
       "ZTS                            Zoetis             Health Care   48.50   \n",
       "\n",
       "        Book Value  \n",
       "Symbol              \n",
       "MMM          19.34  \n",
       "ABT          14.10  \n",
       "ABBV          2.87  \n",
       "ACN          11.45  \n",
       "ATVI         11.31  \n",
       "AYI          36.50  \n",
       "ADBE         14.53  \n",
       "AAP          35.82  \n",
       "AES           4.86  \n",
       "AET          47.96  \n",
       "AMG          53.30  \n",
       "AFL          48.22  \n",
       "A            12.79  \n",
       "APD          32.01  \n",
       "AKAM         17.69  \n",
       "ALK          19.81  \n",
       "ALB          31.53  \n",
       "AA            9.25  \n",
       "ALXN         35.96  \n",
       "ALLE          0.77  \n",
       "AGN         183.41  \n",
       "ADS          29.51  \n",
       "LNT          16.58  \n",
       "ALL          49.58  \n",
       "GOOGL       179.92  \n",
       "GOOG        179.92  \n",
       "MO            1.40  \n",
       "AMZN         31.26  \n",
       "AEE          28.31  \n",
       "AAL           8.04  \n",
       "...            ...  \n",
       "V            12.22  \n",
       "VNO          27.80  \n",
       "VMC          33.15  \n",
       "WMT          24.06  \n",
       "WBA          28.55  \n",
       "WM           11.90  \n",
       "WAT          25.97  \n",
       "WFC          34.62  \n",
       "HCN          37.88  \n",
       "WDC          41.24  \n",
       "WU            2.52  \n",
       "WRK          43.77  \n",
       "WY           13.53  \n",
       "WHR          62.60  \n",
       "WFM          10.11  \n",
       "WMB           7.59  \n",
       "WLTW         80.57  \n",
       "WEC          27.94  \n",
       "WYN           7.48  \n",
       "WYNN         -0.83  \n",
       "XEL          21.01  \n",
       "XRX           9.01  \n",
       "XLNX         10.21  \n",
       "XL           40.83  \n",
       "XYL          12.07  \n",
       "YHOO         30.03  \n",
       "YUM           0.38  \n",
       "ZBH          48.52  \n",
       "ZION         33.23  \n",
       "ZTS           2.35  \n",
       "\n",
       "[504 rows x 4 columns]"
      ]
     },
     "execution_count": 123,
     "metadata": {},
     "output_type": "execute_result"
    }
   ],
   "source": [
    "sample_df = pd.read_csv('data/sample.csv', index_col = 'Symbol', \n",
    "                        usecols = [0, 1, 2, 3, 7])\n",
    "sample_df"
   ]
  },
  {
   "cell_type": "code",
   "execution_count": 124,
   "metadata": {},
   "outputs": [
    {
     "name": "stdout",
     "output_type": "stream",
     "text": [
      "Name           3M Company\n",
      "Sector        Industrials\n",
      "Price              177.12\n",
      "Book Value          19.34\n",
      "Name: MMM, dtype: object\n"
     ]
    }
   ],
   "source": [
    "print(sample_df.loc['MMM'])"
   ]
  },
  {
   "cell_type": "code",
   "execution_count": 127,
   "metadata": {},
   "outputs": [
    {
     "name": "stdout",
     "output_type": "stream",
     "text": [
      "                   Name   Price\n",
      "Symbol                         \n",
      "MMM          3M Company  177.12\n",
      "MSFT    Microsoft Corp.   52.30\n"
     ]
    }
   ],
   "source": [
    "print(sample_df.loc[['MMM', 'MSFT']][['Name', 'Price']])"
   ]
  },
  {
   "cell_type": "code",
   "execution_count": 126,
   "metadata": {},
   "outputs": [
    {
     "name": "stdout",
     "output_type": "stream",
     "text": [
      "                       Name       Sector   Price  Book Value\n",
      "Symbol                                                      \n",
      "MMM              3M Company  Industrials  177.12       19.34\n",
      "ABT     Abbott Laboratories  Health Care   41.89       14.10\n",
      "ABBV                 AbbVie  Health Care   64.16        2.87\n",
      "<class 'pandas.core.frame.DataFrame'>\n",
      "Name           3M Company\n",
      "Sector        Industrials\n",
      "Price              177.12\n",
      "Book Value          19.34\n",
      "Name: MMM, dtype: object\n",
      "<class 'pandas.core.series.Series'>\n"
     ]
    }
   ],
   "source": [
    "print(sample_df.iloc[[0, 1, 2]])\n",
    "print(type(sample_df.iloc[[0, 1, 2]]))\n",
    "\n",
    "print(sample_df.iloc[0]) \n",
    "print(type(sample_df.iloc[0]))"
   ]
  },
  {
   "cell_type": "markdown",
   "metadata": {},
   "source": [
    "* **boolean selection으로 row 선택하기**"
   ]
  },
  {
   "cell_type": "code",
   "execution_count": 128,
   "metadata": {},
   "outputs": [
    {
     "name": "stdout",
     "output_type": "stream",
     "text": [
      "Symbol\n",
      "MMM       True\n",
      "ABT      False\n",
      "ABBV     False\n",
      "ACN       True\n",
      "ATVI     False\n",
      "AYI       True\n",
      "ADBE     False\n",
      "AAP       True\n",
      "AES      False\n",
      "AET       True\n",
      "AMG       True\n",
      "AFL      False\n",
      "A        False\n",
      "APD       True\n",
      "AKAM     False\n",
      "ALK      False\n",
      "ALB      False\n",
      "AA       False\n",
      "ALXN      True\n",
      "ALLE     False\n",
      "AGN       True\n",
      "ADS       True\n",
      "LNT      False\n",
      "ALL      False\n",
      "GOOGL     True\n",
      "GOOG      True\n",
      "MO       False\n",
      "AMZN      True\n",
      "AEE      False\n",
      "AAL      False\n",
      "         ...  \n",
      "V        False\n",
      "VNO       True\n",
      "VMC       True\n",
      "WMT      False\n",
      "WBA      False\n",
      "WM       False\n",
      "WAT       True\n",
      "WFC      False\n",
      "HCN      False\n",
      "WDC      False\n",
      "WU       False\n",
      "WRK      False\n",
      "WY       False\n",
      "WHR       True\n",
      "WFM      False\n",
      "WMB      False\n",
      "WLTW      True\n",
      "WEC      False\n",
      "WYN      False\n",
      "WYNN     False\n",
      "XEL      False\n",
      "XRX      False\n",
      "XLNX     False\n",
      "XL       False\n",
      "XYL      False\n",
      "YHOO     False\n",
      "YUM      False\n",
      "ZBH       True\n",
      "ZION     False\n",
      "ZTS      False\n",
      "Name: Price, Length: 504, dtype: bool\n",
      "Symbol\n",
      "MMM       True\n",
      "ABT      False\n",
      "ABBV     False\n",
      "ACN       True\n",
      "ATVI     False\n",
      "AYI       True\n",
      "ADBE     False\n",
      "AAP       True\n",
      "AES      False\n",
      "AET       True\n",
      "AMG       True\n",
      "AFL      False\n",
      "A        False\n",
      "APD       True\n",
      "AKAM     False\n",
      "ALK      False\n",
      "ALB      False\n",
      "AA       False\n",
      "ALXN      True\n",
      "ALLE     False\n",
      "AGN       True\n",
      "ADS       True\n",
      "LNT      False\n",
      "ALL      False\n",
      "GOOGL     True\n",
      "GOOG      True\n",
      "MO       False\n",
      "AMZN      True\n",
      "AEE      False\n",
      "AAL      False\n",
      "         ...  \n",
      "V        False\n",
      "VNO       True\n",
      "VMC       True\n",
      "WMT      False\n",
      "WBA      False\n",
      "WM       False\n",
      "WAT       True\n",
      "WFC      False\n",
      "HCN      False\n",
      "WDC      False\n",
      "WU       False\n",
      "WRK      False\n",
      "WY       False\n",
      "WHR       True\n",
      "WFM      False\n",
      "WMB      False\n",
      "WLTW      True\n",
      "WEC      False\n",
      "WYN      False\n",
      "WYNN     False\n",
      "XEL      False\n",
      "XRX      False\n",
      "XLNX     False\n",
      "XL       False\n",
      "XYL      False\n",
      "YHOO     False\n",
      "YUM      False\n",
      "ZBH       True\n",
      "ZION     False\n",
      "ZTS      False\n",
      "Name: Price, Length: 504, dtype: bool\n"
     ]
    }
   ],
   "source": [
    "print(sample_df.Price > 100)\n",
    "print(sample_df['Price'] > 100)"
   ]
  },
  {
   "cell_type": "code",
   "execution_count": 130,
   "metadata": {},
   "outputs": [
    {
     "data": {
      "text/html": [
       "<div>\n",
       "<style>\n",
       "    .dataframe thead tr:only-child th {\n",
       "        text-align: right;\n",
       "    }\n",
       "\n",
       "    .dataframe thead th {\n",
       "        text-align: left;\n",
       "    }\n",
       "\n",
       "    .dataframe tbody tr th {\n",
       "        vertical-align: top;\n",
       "    }\n",
       "</style>\n",
       "<table border=\"1\" class=\"dataframe\">\n",
       "  <thead>\n",
       "    <tr style=\"text-align: right;\">\n",
       "      <th></th>\n",
       "      <th>Name</th>\n",
       "      <th>Sector</th>\n",
       "      <th>Price</th>\n",
       "      <th>Book Value</th>\n",
       "    </tr>\n",
       "    <tr>\n",
       "      <th>Symbol</th>\n",
       "      <th></th>\n",
       "      <th></th>\n",
       "      <th></th>\n",
       "      <th></th>\n",
       "    </tr>\n",
       "  </thead>\n",
       "  <tbody>\n",
       "    <tr>\n",
       "      <th>AYI</th>\n",
       "      <td>Acuity Brands Inc</td>\n",
       "      <td>Industrials</td>\n",
       "      <td>264.62</td>\n",
       "      <td>36.50</td>\n",
       "    </tr>\n",
       "    <tr>\n",
       "      <th>AAP</th>\n",
       "      <td>Advance Auto Parts</td>\n",
       "      <td>Consumer Discretionary</td>\n",
       "      <td>164.85</td>\n",
       "      <td>35.82</td>\n",
       "    </tr>\n",
       "    <tr>\n",
       "      <th>AET</th>\n",
       "      <td>Aetna Inc</td>\n",
       "      <td>Health Care</td>\n",
       "      <td>117.00</td>\n",
       "      <td>47.96</td>\n",
       "    </tr>\n",
       "    <tr>\n",
       "      <th>AMG</th>\n",
       "      <td>Affiliated Managers Group Inc</td>\n",
       "      <td>Financials</td>\n",
       "      <td>138.85</td>\n",
       "      <td>53.30</td>\n",
       "    </tr>\n",
       "    <tr>\n",
       "      <th>APD</th>\n",
       "      <td>Air Products &amp; Chemicals Inc</td>\n",
       "      <td>Materials</td>\n",
       "      <td>144.35</td>\n",
       "      <td>32.01</td>\n",
       "    </tr>\n",
       "    <tr>\n",
       "      <th>ALXN</th>\n",
       "      <td>Alexion Pharmaceuticals</td>\n",
       "      <td>Health Care</td>\n",
       "      <td>124.42</td>\n",
       "      <td>35.96</td>\n",
       "    </tr>\n",
       "    <tr>\n",
       "      <th>AGN</th>\n",
       "      <td>Allergan plc</td>\n",
       "      <td>Health Care</td>\n",
       "      <td>240.59</td>\n",
       "      <td>183.41</td>\n",
       "    </tr>\n",
       "    <tr>\n",
       "      <th>GOOGL</th>\n",
       "      <td>Alphabet Inc Class A</td>\n",
       "      <td>Information Technology</td>\n",
       "      <td>717.78</td>\n",
       "      <td>179.92</td>\n",
       "    </tr>\n",
       "    <tr>\n",
       "      <th>GOOG</th>\n",
       "      <td>Alphabet Inc Class C</td>\n",
       "      <td>Information Technology</td>\n",
       "      <td>705.63</td>\n",
       "      <td>179.92</td>\n",
       "    </tr>\n",
       "    <tr>\n",
       "      <th>AMZN</th>\n",
       "      <td>Amazon.com Inc</td>\n",
       "      <td>Consumer Discretionary</td>\n",
       "      <td>745.81</td>\n",
       "      <td>31.26</td>\n",
       "    </tr>\n",
       "    <tr>\n",
       "      <th>AMGN</th>\n",
       "      <td>Amgen Inc</td>\n",
       "      <td>Health Care</td>\n",
       "      <td>161.10</td>\n",
       "      <td>38.18</td>\n",
       "    </tr>\n",
       "    <tr>\n",
       "      <th>ANTM</th>\n",
       "      <td>Anthem Inc.</td>\n",
       "      <td>Health Care</td>\n",
       "      <td>132.15</td>\n",
       "      <td>89.59</td>\n",
       "    </tr>\n",
       "    <tr>\n",
       "      <th>AVGO</th>\n",
       "      <td>Avago Technologies</td>\n",
       "      <td>Information Technology</td>\n",
       "      <td>155.14</td>\n",
       "      <td>49.90</td>\n",
       "    </tr>\n",
       "    <tr>\n",
       "      <th>AVB</th>\n",
       "      <td>AvalonBay Communities, Inc.</td>\n",
       "      <td>Financials</td>\n",
       "      <td>184.94</td>\n",
       "      <td>71.79</td>\n",
       "    </tr>\n",
       "    <tr>\n",
       "      <th>BDX</th>\n",
       "      <td>Becton Dickinson</td>\n",
       "      <td>Health Care</td>\n",
       "      <td>175.64</td>\n",
       "      <td>36.13</td>\n",
       "    </tr>\n",
       "    <tr>\n",
       "      <th>BRK-B</th>\n",
       "      <td>Berkshire Hathaway</td>\n",
       "      <td>Financials</td>\n",
       "      <td>143.65</td>\n",
       "      <td>157329.00</td>\n",
       "    </tr>\n",
       "    <tr>\n",
       "      <th>BIIB</th>\n",
       "      <td>BIOGEN IDEC Inc.</td>\n",
       "      <td>Health Care</td>\n",
       "      <td>251.30</td>\n",
       "      <td>47.14</td>\n",
       "    </tr>\n",
       "    <tr>\n",
       "      <th>BLK</th>\n",
       "      <td>BlackRock</td>\n",
       "      <td>Financials</td>\n",
       "      <td>345.20</td>\n",
       "      <td>171.90</td>\n",
       "    </tr>\n",
       "    <tr>\n",
       "      <th>BXP</th>\n",
       "      <td>Boston Properties</td>\n",
       "      <td>Financials</td>\n",
       "      <td>133.32</td>\n",
       "      <td>36.13</td>\n",
       "    </tr>\n",
       "    <tr>\n",
       "      <th>CVX</th>\n",
       "      <td>Chevron Corp.</td>\n",
       "      <td>Energy</td>\n",
       "      <td>104.77</td>\n",
       "      <td>79.75</td>\n",
       "    </tr>\n",
       "    <tr>\n",
       "      <th>CMG</th>\n",
       "      <td>Chipotle Mexican Grill</td>\n",
       "      <td>Consumer Discretionary</td>\n",
       "      <td>399.71</td>\n",
       "      <td>52.48</td>\n",
       "    </tr>\n",
       "    <tr>\n",
       "      <th>CB</th>\n",
       "      <td>Chubb Limited</td>\n",
       "      <td>Financials</td>\n",
       "      <td>130.24</td>\n",
       "      <td>98.86</td>\n",
       "    </tr>\n",
       "    <tr>\n",
       "      <th>CI</th>\n",
       "      <td>CIGNA Corp.</td>\n",
       "      <td>Health Care</td>\n",
       "      <td>129.60</td>\n",
       "      <td>49.44</td>\n",
       "    </tr>\n",
       "    <tr>\n",
       "      <th>CXO</th>\n",
       "      <td>Concho Resources</td>\n",
       "      <td>Energy</td>\n",
       "      <td>118.39</td>\n",
       "      <td>47.25</td>\n",
       "    </tr>\n",
       "    <tr>\n",
       "      <th>CMI</th>\n",
       "      <td>Cummins Inc.</td>\n",
       "      <td>Industrials</td>\n",
       "      <td>114.70</td>\n",
       "      <td>40.80</td>\n",
       "    </tr>\n",
       "    <tr>\n",
       "      <th>EQIX</th>\n",
       "      <td>Equinix</td>\n",
       "      <td>Information Technology</td>\n",
       "      <td>389.45</td>\n",
       "      <td>69.41</td>\n",
       "    </tr>\n",
       "    <tr>\n",
       "      <th>ESS</th>\n",
       "      <td>Essex Property Trust Inc</td>\n",
       "      <td>Financials</td>\n",
       "      <td>231.33</td>\n",
       "      <td>93.88</td>\n",
       "    </tr>\n",
       "    <tr>\n",
       "      <th>EXPE</th>\n",
       "      <td>Expedia Inc.</td>\n",
       "      <td>Consumer Discretionary</td>\n",
       "      <td>109.43</td>\n",
       "      <td>30.92</td>\n",
       "    </tr>\n",
       "    <tr>\n",
       "      <th>FDX</th>\n",
       "      <td>FedEx Corporation</td>\n",
       "      <td>Industrials</td>\n",
       "      <td>156.22</td>\n",
       "      <td>53.38</td>\n",
       "    </tr>\n",
       "    <tr>\n",
       "      <th>GD</th>\n",
       "      <td>General Dynamics</td>\n",
       "      <td>Industrials</td>\n",
       "      <td>140.48</td>\n",
       "      <td>34.37</td>\n",
       "    </tr>\n",
       "    <tr>\n",
       "      <th>...</th>\n",
       "      <td>...</td>\n",
       "      <td>...</td>\n",
       "      <td>...</td>\n",
       "      <td>...</td>\n",
       "    </tr>\n",
       "    <tr>\n",
       "      <th>LLL</th>\n",
       "      <td>L-3 Communications Holdings</td>\n",
       "      <td>Industrials</td>\n",
       "      <td>149.72</td>\n",
       "      <td>56.61</td>\n",
       "    </tr>\n",
       "    <tr>\n",
       "      <th>LH</th>\n",
       "      <td>Laboratory Corp. of America Holding</td>\n",
       "      <td>Health Care</td>\n",
       "      <td>135.30</td>\n",
       "      <td>50.60</td>\n",
       "    </tr>\n",
       "    <tr>\n",
       "      <th>MTB</th>\n",
       "      <td>M&amp;T Bank Corp.</td>\n",
       "      <td>Financials</td>\n",
       "      <td>115.94</td>\n",
       "      <td>95.02</td>\n",
       "    </tr>\n",
       "    <tr>\n",
       "      <th>MLM</th>\n",
       "      <td>Martin Marietta Materials</td>\n",
       "      <td>Materials</td>\n",
       "      <td>196.70</td>\n",
       "      <td>62.08</td>\n",
       "    </tr>\n",
       "    <tr>\n",
       "      <th>MCK</th>\n",
       "      <td>McKesson Corp.</td>\n",
       "      <td>Health Care</td>\n",
       "      <td>192.79</td>\n",
       "      <td>39.66</td>\n",
       "    </tr>\n",
       "    <tr>\n",
       "      <th>MHK</th>\n",
       "      <td>Mohawk Industries</td>\n",
       "      <td>Consumer Discretionary</td>\n",
       "      <td>194.20</td>\n",
       "      <td>69.51</td>\n",
       "    </tr>\n",
       "    <tr>\n",
       "      <th>TAP</th>\n",
       "      <td>Molson Coors Brewing Company</td>\n",
       "      <td>Consumer Staples</td>\n",
       "      <td>102.56</td>\n",
       "      <td>46.10</td>\n",
       "    </tr>\n",
       "    <tr>\n",
       "      <th>NEE</th>\n",
       "      <td>NextEra Energy</td>\n",
       "      <td>Utilities</td>\n",
       "      <td>129.93</td>\n",
       "      <td>49.65</td>\n",
       "    </tr>\n",
       "    <tr>\n",
       "      <th>NOC</th>\n",
       "      <td>Northrop Grumman Corp.</td>\n",
       "      <td>Industrials</td>\n",
       "      <td>221.97</td>\n",
       "      <td>31.08</td>\n",
       "    </tr>\n",
       "    <tr>\n",
       "      <th>PH</th>\n",
       "      <td>Parker-Hannifin</td>\n",
       "      <td>Industrials</td>\n",
       "      <td>111.33</td>\n",
       "      <td>37.30</td>\n",
       "    </tr>\n",
       "    <tr>\n",
       "      <th>PXD</th>\n",
       "      <td>Pioneer Natural Resources</td>\n",
       "      <td>Energy</td>\n",
       "      <td>153.72</td>\n",
       "      <td>59.23</td>\n",
       "    </tr>\n",
       "    <tr>\n",
       "      <th>PCLN</th>\n",
       "      <td>Priceline.com Inc</td>\n",
       "      <td>Consumer Discretionary</td>\n",
       "      <td>1329.46</td>\n",
       "      <td>182.37</td>\n",
       "    </tr>\n",
       "    <tr>\n",
       "      <th>RTN</th>\n",
       "      <td>Raytheon Co.</td>\n",
       "      <td>Industrials</td>\n",
       "      <td>138.49</td>\n",
       "      <td>34.10</td>\n",
       "    </tr>\n",
       "    <tr>\n",
       "      <th>REGN</th>\n",
       "      <td>Regeneron</td>\n",
       "      <td>Health Care</td>\n",
       "      <td>378.35</td>\n",
       "      <td>36.10</td>\n",
       "    </tr>\n",
       "    <tr>\n",
       "      <th>ROP</th>\n",
       "      <td>Roper Industries</td>\n",
       "      <td>Industrials</td>\n",
       "      <td>170.04</td>\n",
       "      <td>53.77</td>\n",
       "    </tr>\n",
       "    <tr>\n",
       "      <th>SRE</th>\n",
       "      <td>Sempra Energy</td>\n",
       "      <td>Utilities</td>\n",
       "      <td>114.11</td>\n",
       "      <td>47.83</td>\n",
       "    </tr>\n",
       "    <tr>\n",
       "      <th>SLG</th>\n",
       "      <td>SL Green Realty</td>\n",
       "      <td>Financials</td>\n",
       "      <td>105.98</td>\n",
       "      <td>70.40</td>\n",
       "    </tr>\n",
       "    <tr>\n",
       "      <th>SJM</th>\n",
       "      <td>Smucker (J.M.)</td>\n",
       "      <td>Consumer Staples</td>\n",
       "      <td>154.08</td>\n",
       "      <td>60.26</td>\n",
       "    </tr>\n",
       "    <tr>\n",
       "      <th>SNA</th>\n",
       "      <td>Snap-On Inc.</td>\n",
       "      <td>Consumer Discretionary</td>\n",
       "      <td>160.16</td>\n",
       "      <td>43.29</td>\n",
       "    </tr>\n",
       "    <tr>\n",
       "      <th>SWK</th>\n",
       "      <td>Stanley Black &amp; Decker</td>\n",
       "      <td>Consumer Discretionary</td>\n",
       "      <td>114.97</td>\n",
       "      <td>37.76</td>\n",
       "    </tr>\n",
       "    <tr>\n",
       "      <th>SRCL</th>\n",
       "      <td>Stericycle Inc</td>\n",
       "      <td>Industrials</td>\n",
       "      <td>104.70</td>\n",
       "      <td>33.08</td>\n",
       "    </tr>\n",
       "    <tr>\n",
       "      <th>TRV</th>\n",
       "      <td>The Travelers Companies Inc.</td>\n",
       "      <td>Financials</td>\n",
       "      <td>118.08</td>\n",
       "      <td>82.65</td>\n",
       "    </tr>\n",
       "    <tr>\n",
       "      <th>TMO</th>\n",
       "      <td>Thermo Fisher Scientific</td>\n",
       "      <td>Health Care</td>\n",
       "      <td>152.69</td>\n",
       "      <td>53.17</td>\n",
       "    </tr>\n",
       "    <tr>\n",
       "      <th>UNH</th>\n",
       "      <td>United Health Group Inc.</td>\n",
       "      <td>Health Care</td>\n",
       "      <td>141.27</td>\n",
       "      <td>36.87</td>\n",
       "    </tr>\n",
       "    <tr>\n",
       "      <th>UTX</th>\n",
       "      <td>United Technologies</td>\n",
       "      <td>Industrials</td>\n",
       "      <td>103.66</td>\n",
       "      <td>33.88</td>\n",
       "    </tr>\n",
       "    <tr>\n",
       "      <th>UHS</th>\n",
       "      <td>Universal Health Services, Inc.</td>\n",
       "      <td>Health Care</td>\n",
       "      <td>137.16</td>\n",
       "      <td>44.20</td>\n",
       "    </tr>\n",
       "    <tr>\n",
       "      <th>VMC</th>\n",
       "      <td>Vulcan Materials</td>\n",
       "      <td>Materials</td>\n",
       "      <td>123.61</td>\n",
       "      <td>33.15</td>\n",
       "    </tr>\n",
       "    <tr>\n",
       "      <th>WHR</th>\n",
       "      <td>Whirlpool Corp.</td>\n",
       "      <td>Consumer Discretionary</td>\n",
       "      <td>171.38</td>\n",
       "      <td>62.60</td>\n",
       "    </tr>\n",
       "    <tr>\n",
       "      <th>WLTW</th>\n",
       "      <td>Willis Towers Watson</td>\n",
       "      <td>Financials</td>\n",
       "      <td>125.06</td>\n",
       "      <td>80.57</td>\n",
       "    </tr>\n",
       "    <tr>\n",
       "      <th>ZBH</th>\n",
       "      <td>Zimmer Biomet Holdings</td>\n",
       "      <td>Health Care</td>\n",
       "      <td>124.89</td>\n",
       "      <td>48.52</td>\n",
       "    </tr>\n",
       "  </tbody>\n",
       "</table>\n",
       "<p>66 rows × 4 columns</p>\n",
       "</div>"
      ],
      "text/plain": [
       "                                       Name                  Sector    Price  \\\n",
       "Symbol                                                                         \n",
       "AYI                       Acuity Brands Inc             Industrials   264.62   \n",
       "AAP                      Advance Auto Parts  Consumer Discretionary   164.85   \n",
       "AET                               Aetna Inc             Health Care   117.00   \n",
       "AMG           Affiliated Managers Group Inc              Financials   138.85   \n",
       "APD            Air Products & Chemicals Inc               Materials   144.35   \n",
       "ALXN                Alexion Pharmaceuticals             Health Care   124.42   \n",
       "AGN                            Allergan plc             Health Care   240.59   \n",
       "GOOGL                  Alphabet Inc Class A  Information Technology   717.78   \n",
       "GOOG                   Alphabet Inc Class C  Information Technology   705.63   \n",
       "AMZN                         Amazon.com Inc  Consumer Discretionary   745.81   \n",
       "AMGN                              Amgen Inc             Health Care   161.10   \n",
       "ANTM                            Anthem Inc.             Health Care   132.15   \n",
       "AVGO                     Avago Technologies  Information Technology   155.14   \n",
       "AVB             AvalonBay Communities, Inc.              Financials   184.94   \n",
       "BDX                        Becton Dickinson             Health Care   175.64   \n",
       "BRK-B                    Berkshire Hathaway              Financials   143.65   \n",
       "BIIB                       BIOGEN IDEC Inc.             Health Care   251.30   \n",
       "BLK                               BlackRock              Financials   345.20   \n",
       "BXP                       Boston Properties              Financials   133.32   \n",
       "CVX                           Chevron Corp.                  Energy   104.77   \n",
       "CMG                  Chipotle Mexican Grill  Consumer Discretionary   399.71   \n",
       "CB                            Chubb Limited              Financials   130.24   \n",
       "CI                              CIGNA Corp.             Health Care   129.60   \n",
       "CXO                        Concho Resources                  Energy   118.39   \n",
       "CMI                            Cummins Inc.             Industrials   114.70   \n",
       "EQIX                                Equinix  Information Technology   389.45   \n",
       "ESS                Essex Property Trust Inc              Financials   231.33   \n",
       "EXPE                           Expedia Inc.  Consumer Discretionary   109.43   \n",
       "FDX                       FedEx Corporation             Industrials   156.22   \n",
       "GD                         General Dynamics             Industrials   140.48   \n",
       "...                                     ...                     ...      ...   \n",
       "LLL             L-3 Communications Holdings             Industrials   149.72   \n",
       "LH      Laboratory Corp. of America Holding             Health Care   135.30   \n",
       "MTB                          M&T Bank Corp.              Financials   115.94   \n",
       "MLM               Martin Marietta Materials               Materials   196.70   \n",
       "MCK                          McKesson Corp.             Health Care   192.79   \n",
       "MHK                       Mohawk Industries  Consumer Discretionary   194.20   \n",
       "TAP            Molson Coors Brewing Company        Consumer Staples   102.56   \n",
       "NEE                          NextEra Energy               Utilities   129.93   \n",
       "NOC                  Northrop Grumman Corp.             Industrials   221.97   \n",
       "PH                          Parker-Hannifin             Industrials   111.33   \n",
       "PXD               Pioneer Natural Resources                  Energy   153.72   \n",
       "PCLN                      Priceline.com Inc  Consumer Discretionary  1329.46   \n",
       "RTN                            Raytheon Co.             Industrials   138.49   \n",
       "REGN                              Regeneron             Health Care   378.35   \n",
       "ROP                        Roper Industries             Industrials   170.04   \n",
       "SRE                           Sempra Energy               Utilities   114.11   \n",
       "SLG                         SL Green Realty              Financials   105.98   \n",
       "SJM                          Smucker (J.M.)        Consumer Staples   154.08   \n",
       "SNA                            Snap-On Inc.  Consumer Discretionary   160.16   \n",
       "SWK                  Stanley Black & Decker  Consumer Discretionary   114.97   \n",
       "SRCL                         Stericycle Inc             Industrials   104.70   \n",
       "TRV            The Travelers Companies Inc.              Financials   118.08   \n",
       "TMO                Thermo Fisher Scientific             Health Care   152.69   \n",
       "UNH                United Health Group Inc.             Health Care   141.27   \n",
       "UTX                     United Technologies             Industrials   103.66   \n",
       "UHS         Universal Health Services, Inc.             Health Care   137.16   \n",
       "VMC                        Vulcan Materials               Materials   123.61   \n",
       "WHR                         Whirlpool Corp.  Consumer Discretionary   171.38   \n",
       "WLTW                   Willis Towers Watson              Financials   125.06   \n",
       "ZBH                  Zimmer Biomet Holdings             Health Care   124.89   \n",
       "\n",
       "        Book Value  \n",
       "Symbol              \n",
       "AYI          36.50  \n",
       "AAP          35.82  \n",
       "AET          47.96  \n",
       "AMG          53.30  \n",
       "APD          32.01  \n",
       "ALXN         35.96  \n",
       "AGN         183.41  \n",
       "GOOGL       179.92  \n",
       "GOOG        179.92  \n",
       "AMZN         31.26  \n",
       "AMGN         38.18  \n",
       "ANTM         89.59  \n",
       "AVGO         49.90  \n",
       "AVB          71.79  \n",
       "BDX          36.13  \n",
       "BRK-B    157329.00  \n",
       "BIIB         47.14  \n",
       "BLK         171.90  \n",
       "BXP          36.13  \n",
       "CVX          79.75  \n",
       "CMG          52.48  \n",
       "CB           98.86  \n",
       "CI           49.44  \n",
       "CXO          47.25  \n",
       "CMI          40.80  \n",
       "EQIX         69.41  \n",
       "ESS          93.88  \n",
       "EXPE         30.92  \n",
       "FDX          53.38  \n",
       "GD           34.37  \n",
       "...            ...  \n",
       "LLL          56.61  \n",
       "LH           50.60  \n",
       "MTB          95.02  \n",
       "MLM          62.08  \n",
       "MCK          39.66  \n",
       "MHK          69.51  \n",
       "TAP          46.10  \n",
       "NEE          49.65  \n",
       "NOC          31.08  \n",
       "PH           37.30  \n",
       "PXD          59.23  \n",
       "PCLN        182.37  \n",
       "RTN          34.10  \n",
       "REGN         36.10  \n",
       "ROP          53.77  \n",
       "SRE          47.83  \n",
       "SLG          70.40  \n",
       "SJM          60.26  \n",
       "SNA          43.29  \n",
       "SWK          37.76  \n",
       "SRCL         33.08  \n",
       "TRV          82.65  \n",
       "TMO          53.17  \n",
       "UNH          36.87  \n",
       "UTX          33.88  \n",
       "UHS          44.20  \n",
       "VMC          33.15  \n",
       "WHR          62.60  \n",
       "WLTW         80.57  \n",
       "ZBH          48.52  \n",
       "\n",
       "[66 rows x 4 columns]"
      ]
     },
     "execution_count": 130,
     "metadata": {},
     "output_type": "execute_result"
    }
   ],
   "source": [
    "#*********************\n",
    "sample_df[sample_df['Price'] > 100]\n",
    "sample_df[(sample_df['Price'] > 100) & (sample_df['Book Value'] > 30)]"
   ]
  },
  {
   "cell_type": "code",
   "execution_count": 131,
   "metadata": {},
   "outputs": [
    {
     "data": {
      "text/html": [
       "<div>\n",
       "<style>\n",
       "    .dataframe thead tr:only-child th {\n",
       "        text-align: right;\n",
       "    }\n",
       "\n",
       "    .dataframe thead th {\n",
       "        text-align: left;\n",
       "    }\n",
       "\n",
       "    .dataframe tbody tr th {\n",
       "        vertical-align: top;\n",
       "    }\n",
       "</style>\n",
       "<table border=\"1\" class=\"dataframe\">\n",
       "  <thead>\n",
       "    <tr style=\"text-align: right;\">\n",
       "      <th></th>\n",
       "      <th>Name</th>\n",
       "      <th>Price</th>\n",
       "    </tr>\n",
       "    <tr>\n",
       "      <th>Symbol</th>\n",
       "      <th></th>\n",
       "      <th></th>\n",
       "    </tr>\n",
       "  </thead>\n",
       "  <tbody>\n",
       "    <tr>\n",
       "      <th>MMM</th>\n",
       "      <td>3M Company</td>\n",
       "      <td>177.12</td>\n",
       "    </tr>\n",
       "    <tr>\n",
       "      <th>ACN</th>\n",
       "      <td>Accenture plc</td>\n",
       "      <td>115.11</td>\n",
       "    </tr>\n",
       "    <tr>\n",
       "      <th>AYI</th>\n",
       "      <td>Acuity Brands Inc</td>\n",
       "      <td>264.62</td>\n",
       "    </tr>\n",
       "    <tr>\n",
       "      <th>AAP</th>\n",
       "      <td>Advance Auto Parts</td>\n",
       "      <td>164.85</td>\n",
       "    </tr>\n",
       "    <tr>\n",
       "      <th>AET</th>\n",
       "      <td>Aetna Inc</td>\n",
       "      <td>117.00</td>\n",
       "    </tr>\n",
       "    <tr>\n",
       "      <th>AMG</th>\n",
       "      <td>Affiliated Managers Group Inc</td>\n",
       "      <td>138.85</td>\n",
       "    </tr>\n",
       "    <tr>\n",
       "      <th>APD</th>\n",
       "      <td>Air Products &amp; Chemicals Inc</td>\n",
       "      <td>144.35</td>\n",
       "    </tr>\n",
       "    <tr>\n",
       "      <th>ALXN</th>\n",
       "      <td>Alexion Pharmaceuticals</td>\n",
       "      <td>124.42</td>\n",
       "    </tr>\n",
       "    <tr>\n",
       "      <th>AGN</th>\n",
       "      <td>Allergan plc</td>\n",
       "      <td>240.59</td>\n",
       "    </tr>\n",
       "    <tr>\n",
       "      <th>ADS</th>\n",
       "      <td>Alliance Data Systems</td>\n",
       "      <td>200.96</td>\n",
       "    </tr>\n",
       "    <tr>\n",
       "      <th>GOOGL</th>\n",
       "      <td>Alphabet Inc Class A</td>\n",
       "      <td>717.78</td>\n",
       "    </tr>\n",
       "    <tr>\n",
       "      <th>GOOG</th>\n",
       "      <td>Alphabet Inc Class C</td>\n",
       "      <td>705.63</td>\n",
       "    </tr>\n",
       "    <tr>\n",
       "      <th>AMZN</th>\n",
       "      <td>Amazon.com Inc</td>\n",
       "      <td>745.81</td>\n",
       "    </tr>\n",
       "    <tr>\n",
       "      <th>AMT</th>\n",
       "      <td>American Tower Corp A</td>\n",
       "      <td>113.66</td>\n",
       "    </tr>\n",
       "    <tr>\n",
       "      <th>AMGN</th>\n",
       "      <td>Amgen Inc</td>\n",
       "      <td>161.10</td>\n",
       "    </tr>\n",
       "    <tr>\n",
       "      <th>ANTM</th>\n",
       "      <td>Anthem Inc.</td>\n",
       "      <td>132.15</td>\n",
       "    </tr>\n",
       "    <tr>\n",
       "      <th>AON</th>\n",
       "      <td>Aon plc</td>\n",
       "      <td>109.57</td>\n",
       "    </tr>\n",
       "    <tr>\n",
       "      <th>AZO</th>\n",
       "      <td>AutoZone Inc</td>\n",
       "      <td>815.02</td>\n",
       "    </tr>\n",
       "    <tr>\n",
       "      <th>AVGO</th>\n",
       "      <td>Avago Technologies</td>\n",
       "      <td>155.14</td>\n",
       "    </tr>\n",
       "    <tr>\n",
       "      <th>AVB</th>\n",
       "      <td>AvalonBay Communities, Inc.</td>\n",
       "      <td>184.94</td>\n",
       "    </tr>\n",
       "    <tr>\n",
       "      <th>BCR</th>\n",
       "      <td>Bard (C.R.) Inc.</td>\n",
       "      <td>239.00</td>\n",
       "    </tr>\n",
       "    <tr>\n",
       "      <th>BDX</th>\n",
       "      <td>Becton Dickinson</td>\n",
       "      <td>175.64</td>\n",
       "    </tr>\n",
       "    <tr>\n",
       "      <th>BRK-B</th>\n",
       "      <td>Berkshire Hathaway</td>\n",
       "      <td>143.65</td>\n",
       "    </tr>\n",
       "    <tr>\n",
       "      <th>BIIB</th>\n",
       "      <td>BIOGEN IDEC Inc.</td>\n",
       "      <td>251.30</td>\n",
       "    </tr>\n",
       "    <tr>\n",
       "      <th>BLK</th>\n",
       "      <td>BlackRock</td>\n",
       "      <td>345.20</td>\n",
       "    </tr>\n",
       "    <tr>\n",
       "      <th>BA</th>\n",
       "      <td>Boeing Company</td>\n",
       "      <td>130.09</td>\n",
       "    </tr>\n",
       "    <tr>\n",
       "      <th>BXP</th>\n",
       "      <td>Boston Properties</td>\n",
       "      <td>133.32</td>\n",
       "    </tr>\n",
       "    <tr>\n",
       "      <th>CELG</th>\n",
       "      <td>Celgene Corp.</td>\n",
       "      <td>105.03</td>\n",
       "    </tr>\n",
       "    <tr>\n",
       "      <th>CVX</th>\n",
       "      <td>Chevron Corp.</td>\n",
       "      <td>104.77</td>\n",
       "    </tr>\n",
       "    <tr>\n",
       "      <th>CMG</th>\n",
       "      <td>Chipotle Mexican Grill</td>\n",
       "      <td>399.71</td>\n",
       "    </tr>\n",
       "    <tr>\n",
       "      <th>...</th>\n",
       "      <td>...</td>\n",
       "      <td>...</td>\n",
       "    </tr>\n",
       "    <tr>\n",
       "      <th>RTN</th>\n",
       "      <td>Raytheon Co.</td>\n",
       "      <td>138.49</td>\n",
       "    </tr>\n",
       "    <tr>\n",
       "      <th>REGN</th>\n",
       "      <td>Regeneron</td>\n",
       "      <td>378.35</td>\n",
       "    </tr>\n",
       "    <tr>\n",
       "      <th>ROK</th>\n",
       "      <td>Rockwell Automation Inc.</td>\n",
       "      <td>115.70</td>\n",
       "    </tr>\n",
       "    <tr>\n",
       "      <th>ROP</th>\n",
       "      <td>Roper Industries</td>\n",
       "      <td>170.04</td>\n",
       "    </tr>\n",
       "    <tr>\n",
       "      <th>SPGI</th>\n",
       "      <td>S&amp;P Global, Inc.</td>\n",
       "      <td>108.87</td>\n",
       "    </tr>\n",
       "    <tr>\n",
       "      <th>SRE</th>\n",
       "      <td>Sempra Energy</td>\n",
       "      <td>114.11</td>\n",
       "    </tr>\n",
       "    <tr>\n",
       "      <th>SHW</th>\n",
       "      <td>Sherwin-Williams</td>\n",
       "      <td>306.52</td>\n",
       "    </tr>\n",
       "    <tr>\n",
       "      <th>SPG</th>\n",
       "      <td>Simon Property Group Inc</td>\n",
       "      <td>219.56</td>\n",
       "    </tr>\n",
       "    <tr>\n",
       "      <th>SLG</th>\n",
       "      <td>SL Green Realty</td>\n",
       "      <td>105.98</td>\n",
       "    </tr>\n",
       "    <tr>\n",
       "      <th>SJM</th>\n",
       "      <td>Smucker (J.M.)</td>\n",
       "      <td>154.08</td>\n",
       "    </tr>\n",
       "    <tr>\n",
       "      <th>SNA</th>\n",
       "      <td>Snap-On Inc.</td>\n",
       "      <td>160.16</td>\n",
       "    </tr>\n",
       "    <tr>\n",
       "      <th>SWK</th>\n",
       "      <td>Stanley Black &amp; Decker</td>\n",
       "      <td>114.97</td>\n",
       "    </tr>\n",
       "    <tr>\n",
       "      <th>SRCL</th>\n",
       "      <td>Stericycle Inc</td>\n",
       "      <td>104.70</td>\n",
       "    </tr>\n",
       "    <tr>\n",
       "      <th>SYK</th>\n",
       "      <td>Stryker Corp.</td>\n",
       "      <td>122.29</td>\n",
       "    </tr>\n",
       "    <tr>\n",
       "      <th>CLX</th>\n",
       "      <td>The Clorox Company</td>\n",
       "      <td>138.37</td>\n",
       "    </tr>\n",
       "    <tr>\n",
       "      <th>HSY</th>\n",
       "      <td>The Hershey Company</td>\n",
       "      <td>110.70</td>\n",
       "    </tr>\n",
       "    <tr>\n",
       "      <th>TRV</th>\n",
       "      <td>The Travelers Companies Inc.</td>\n",
       "      <td>118.08</td>\n",
       "    </tr>\n",
       "    <tr>\n",
       "      <th>TMO</th>\n",
       "      <td>Thermo Fisher Scientific</td>\n",
       "      <td>152.69</td>\n",
       "    </tr>\n",
       "    <tr>\n",
       "      <th>TDG</th>\n",
       "      <td>TransDigm Group</td>\n",
       "      <td>269.81</td>\n",
       "    </tr>\n",
       "    <tr>\n",
       "      <th>ULTA</th>\n",
       "      <td>Ulta Salon Cosmetics &amp; Fragrance Inc</td>\n",
       "      <td>250.82</td>\n",
       "    </tr>\n",
       "    <tr>\n",
       "      <th>UNH</th>\n",
       "      <td>United Health Group Inc.</td>\n",
       "      <td>141.27</td>\n",
       "    </tr>\n",
       "    <tr>\n",
       "      <th>UPS</th>\n",
       "      <td>United Parcel Service</td>\n",
       "      <td>109.52</td>\n",
       "    </tr>\n",
       "    <tr>\n",
       "      <th>UTX</th>\n",
       "      <td>United Technologies</td>\n",
       "      <td>103.66</td>\n",
       "    </tr>\n",
       "    <tr>\n",
       "      <th>UHS</th>\n",
       "      <td>Universal Health Services, Inc.</td>\n",
       "      <td>137.16</td>\n",
       "    </tr>\n",
       "    <tr>\n",
       "      <th>VNO</th>\n",
       "      <td>Vornado Realty Trust</td>\n",
       "      <td>100.46</td>\n",
       "    </tr>\n",
       "    <tr>\n",
       "      <th>VMC</th>\n",
       "      <td>Vulcan Materials</td>\n",
       "      <td>123.61</td>\n",
       "    </tr>\n",
       "    <tr>\n",
       "      <th>WAT</th>\n",
       "      <td>Waters Corporation</td>\n",
       "      <td>146.53</td>\n",
       "    </tr>\n",
       "    <tr>\n",
       "      <th>WHR</th>\n",
       "      <td>Whirlpool Corp.</td>\n",
       "      <td>171.38</td>\n",
       "    </tr>\n",
       "    <tr>\n",
       "      <th>WLTW</th>\n",
       "      <td>Willis Towers Watson</td>\n",
       "      <td>125.06</td>\n",
       "    </tr>\n",
       "    <tr>\n",
       "      <th>ZBH</th>\n",
       "      <td>Zimmer Biomet Holdings</td>\n",
       "      <td>124.89</td>\n",
       "    </tr>\n",
       "  </tbody>\n",
       "</table>\n",
       "<p>122 rows × 2 columns</p>\n",
       "</div>"
      ],
      "text/plain": [
       "                                        Name   Price\n",
       "Symbol                                              \n",
       "MMM                               3M Company  177.12\n",
       "ACN                            Accenture plc  115.11\n",
       "AYI                        Acuity Brands Inc  264.62\n",
       "AAP                       Advance Auto Parts  164.85\n",
       "AET                                Aetna Inc  117.00\n",
       "AMG            Affiliated Managers Group Inc  138.85\n",
       "APD             Air Products & Chemicals Inc  144.35\n",
       "ALXN                 Alexion Pharmaceuticals  124.42\n",
       "AGN                             Allergan plc  240.59\n",
       "ADS                    Alliance Data Systems  200.96\n",
       "GOOGL                   Alphabet Inc Class A  717.78\n",
       "GOOG                    Alphabet Inc Class C  705.63\n",
       "AMZN                          Amazon.com Inc  745.81\n",
       "AMT                    American Tower Corp A  113.66\n",
       "AMGN                               Amgen Inc  161.10\n",
       "ANTM                             Anthem Inc.  132.15\n",
       "AON                                  Aon plc  109.57\n",
       "AZO                             AutoZone Inc  815.02\n",
       "AVGO                      Avago Technologies  155.14\n",
       "AVB              AvalonBay Communities, Inc.  184.94\n",
       "BCR                         Bard (C.R.) Inc.  239.00\n",
       "BDX                         Becton Dickinson  175.64\n",
       "BRK-B                     Berkshire Hathaway  143.65\n",
       "BIIB                        BIOGEN IDEC Inc.  251.30\n",
       "BLK                                BlackRock  345.20\n",
       "BA                            Boeing Company  130.09\n",
       "BXP                        Boston Properties  133.32\n",
       "CELG                           Celgene Corp.  105.03\n",
       "CVX                            Chevron Corp.  104.77\n",
       "CMG                   Chipotle Mexican Grill  399.71\n",
       "...                                      ...     ...\n",
       "RTN                             Raytheon Co.  138.49\n",
       "REGN                               Regeneron  378.35\n",
       "ROK                 Rockwell Automation Inc.  115.70\n",
       "ROP                         Roper Industries  170.04\n",
       "SPGI                        S&P Global, Inc.  108.87\n",
       "SRE                            Sempra Energy  114.11\n",
       "SHW                         Sherwin-Williams  306.52\n",
       "SPG                 Simon Property Group Inc  219.56\n",
       "SLG                          SL Green Realty  105.98\n",
       "SJM                           Smucker (J.M.)  154.08\n",
       "SNA                             Snap-On Inc.  160.16\n",
       "SWK                   Stanley Black & Decker  114.97\n",
       "SRCL                          Stericycle Inc  104.70\n",
       "SYK                            Stryker Corp.  122.29\n",
       "CLX                       The Clorox Company  138.37\n",
       "HSY                      The Hershey Company  110.70\n",
       "TRV             The Travelers Companies Inc.  118.08\n",
       "TMO                 Thermo Fisher Scientific  152.69\n",
       "TDG                          TransDigm Group  269.81\n",
       "ULTA    Ulta Salon Cosmetics & Fragrance Inc  250.82\n",
       "UNH                 United Health Group Inc.  141.27\n",
       "UPS                    United Parcel Service  109.52\n",
       "UTX                      United Technologies  103.66\n",
       "UHS          Universal Health Services, Inc.  137.16\n",
       "VNO                     Vornado Realty Trust  100.46\n",
       "VMC                         Vulcan Materials  123.61\n",
       "WAT                       Waters Corporation  146.53\n",
       "WHR                          Whirlpool Corp.  171.38\n",
       "WLTW                    Willis Towers Watson  125.06\n",
       "ZBH                   Zimmer Biomet Holdings  124.89\n",
       "\n",
       "[122 rows x 2 columns]"
      ]
     },
     "execution_count": 131,
     "metadata": {},
     "output_type": "execute_result"
    }
   ],
   "source": [
    "sample_df[sample_df['Price'] > 100][['Name', 'Price']]"
   ]
  },
  {
   "cell_type": "code",
   "execution_count": null,
   "metadata": {
    "collapsed": true
   },
   "outputs": [],
   "source": [
    "print(sample_df[sample_df.Price > 100][['Price']])"
   ]
  },
  {
   "cell_type": "code",
   "execution_count": null,
   "metadata": {
    "collapsed": true
   },
   "outputs": [],
   "source": [
    "sample_df.head()"
   ]
  },
  {
   "cell_type": "markdown",
   "metadata": {},
   "source": [
    "* **새 column 추가하기**"
   ]
  },
  {
   "cell_type": "code",
   "execution_count": 132,
   "metadata": {},
   "outputs": [
    {
     "data": {
      "text/html": [
       "<div>\n",
       "<style>\n",
       "    .dataframe thead tr:only-child th {\n",
       "        text-align: right;\n",
       "    }\n",
       "\n",
       "    .dataframe thead th {\n",
       "        text-align: left;\n",
       "    }\n",
       "\n",
       "    .dataframe tbody tr th {\n",
       "        vertical-align: top;\n",
       "    }\n",
       "</style>\n",
       "<table border=\"1\" class=\"dataframe\">\n",
       "  <thead>\n",
       "    <tr style=\"text-align: right;\">\n",
       "      <th></th>\n",
       "      <th>Name</th>\n",
       "      <th>Sector</th>\n",
       "      <th>Price</th>\n",
       "      <th>Book Value</th>\n",
       "      <th>TwicePrice</th>\n",
       "    </tr>\n",
       "    <tr>\n",
       "      <th>Symbol</th>\n",
       "      <th></th>\n",
       "      <th></th>\n",
       "      <th></th>\n",
       "      <th></th>\n",
       "      <th></th>\n",
       "    </tr>\n",
       "  </thead>\n",
       "  <tbody>\n",
       "    <tr>\n",
       "      <th>MMM</th>\n",
       "      <td>3M Company</td>\n",
       "      <td>Industrials</td>\n",
       "      <td>177.12</td>\n",
       "      <td>19.34</td>\n",
       "      <td>354.24</td>\n",
       "    </tr>\n",
       "    <tr>\n",
       "      <th>ABT</th>\n",
       "      <td>Abbott Laboratories</td>\n",
       "      <td>Health Care</td>\n",
       "      <td>41.89</td>\n",
       "      <td>14.10</td>\n",
       "      <td>83.78</td>\n",
       "    </tr>\n",
       "    <tr>\n",
       "      <th>ABBV</th>\n",
       "      <td>AbbVie</td>\n",
       "      <td>Health Care</td>\n",
       "      <td>64.16</td>\n",
       "      <td>2.87</td>\n",
       "      <td>128.32</td>\n",
       "    </tr>\n",
       "    <tr>\n",
       "      <th>ACN</th>\n",
       "      <td>Accenture plc</td>\n",
       "      <td>Information Technology</td>\n",
       "      <td>115.11</td>\n",
       "      <td>11.45</td>\n",
       "      <td>230.22</td>\n",
       "    </tr>\n",
       "    <tr>\n",
       "      <th>ATVI</th>\n",
       "      <td>Activision Blizzard</td>\n",
       "      <td>Information Technology</td>\n",
       "      <td>41.29</td>\n",
       "      <td>11.31</td>\n",
       "      <td>82.58</td>\n",
       "    </tr>\n",
       "  </tbody>\n",
       "</table>\n",
       "</div>"
      ],
      "text/plain": [
       "                       Name                  Sector   Price  Book Value  \\\n",
       "Symbol                                                                    \n",
       "MMM              3M Company             Industrials  177.12       19.34   \n",
       "ABT     Abbott Laboratories             Health Care   41.89       14.10   \n",
       "ABBV                 AbbVie             Health Care   64.16        2.87   \n",
       "ACN           Accenture plc  Information Technology  115.11       11.45   \n",
       "ATVI    Activision Blizzard  Information Technology   41.29       11.31   \n",
       "\n",
       "        TwicePrice  \n",
       "Symbol              \n",
       "MMM         354.24  \n",
       "ABT          83.78  \n",
       "ABBV        128.32  \n",
       "ACN         230.22  \n",
       "ATVI         82.58  "
      ]
     },
     "execution_count": 132,
     "metadata": {},
     "output_type": "execute_result"
    }
   ],
   "source": [
    "# 새로운 dataframe 생성\n",
    "copy = sample_df.copy()\n",
    "\n",
    "# 새로 생성된 프레임에 새로운 컬럼 추가 (기존 컬럼 이용)\n",
    "copy['TwicePrice'] = sample_df.Price * 2 # == copy['Price'] * 2\n",
    "copy.head()"
   ]
  },
  {
   "cell_type": "code",
   "execution_count": 133,
   "metadata": {},
   "outputs": [
    {
     "data": {
      "text/html": [
       "<div>\n",
       "<style>\n",
       "    .dataframe thead tr:only-child th {\n",
       "        text-align: right;\n",
       "    }\n",
       "\n",
       "    .dataframe thead th {\n",
       "        text-align: left;\n",
       "    }\n",
       "\n",
       "    .dataframe tbody tr th {\n",
       "        vertical-align: top;\n",
       "    }\n",
       "</style>\n",
       "<table border=\"1\" class=\"dataframe\">\n",
       "  <thead>\n",
       "    <tr style=\"text-align: right;\">\n",
       "      <th></th>\n",
       "      <th>Name</th>\n",
       "      <th>Sector</th>\n",
       "      <th>Price</th>\n",
       "      <th>Book Value</th>\n",
       "      <th>TwicePrice</th>\n",
       "      <th>ratio</th>\n",
       "    </tr>\n",
       "    <tr>\n",
       "      <th>Symbol</th>\n",
       "      <th></th>\n",
       "      <th></th>\n",
       "      <th></th>\n",
       "      <th></th>\n",
       "      <th></th>\n",
       "      <th></th>\n",
       "    </tr>\n",
       "  </thead>\n",
       "  <tbody>\n",
       "    <tr>\n",
       "      <th>MMM</th>\n",
       "      <td>3M Company</td>\n",
       "      <td>Industrials</td>\n",
       "      <td>177.12</td>\n",
       "      <td>19.34</td>\n",
       "      <td>354.24</td>\n",
       "      <td>9.158221</td>\n",
       "    </tr>\n",
       "    <tr>\n",
       "      <th>ABT</th>\n",
       "      <td>Abbott Laboratories</td>\n",
       "      <td>Health Care</td>\n",
       "      <td>41.89</td>\n",
       "      <td>14.10</td>\n",
       "      <td>83.78</td>\n",
       "      <td>2.970922</td>\n",
       "    </tr>\n",
       "    <tr>\n",
       "      <th>ABBV</th>\n",
       "      <td>AbbVie</td>\n",
       "      <td>Health Care</td>\n",
       "      <td>64.16</td>\n",
       "      <td>2.87</td>\n",
       "      <td>128.32</td>\n",
       "      <td>22.355401</td>\n",
       "    </tr>\n",
       "    <tr>\n",
       "      <th>ACN</th>\n",
       "      <td>Accenture plc</td>\n",
       "      <td>Information Technology</td>\n",
       "      <td>115.11</td>\n",
       "      <td>11.45</td>\n",
       "      <td>230.22</td>\n",
       "      <td>10.053275</td>\n",
       "    </tr>\n",
       "    <tr>\n",
       "      <th>ATVI</th>\n",
       "      <td>Activision Blizzard</td>\n",
       "      <td>Information Technology</td>\n",
       "      <td>41.29</td>\n",
       "      <td>11.31</td>\n",
       "      <td>82.58</td>\n",
       "      <td>3.650752</td>\n",
       "    </tr>\n",
       "  </tbody>\n",
       "</table>\n",
       "</div>"
      ],
      "text/plain": [
       "                       Name                  Sector   Price  Book Value  \\\n",
       "Symbol                                                                    \n",
       "MMM              3M Company             Industrials  177.12       19.34   \n",
       "ABT     Abbott Laboratories             Health Care   41.89       14.10   \n",
       "ABBV                 AbbVie             Health Care   64.16        2.87   \n",
       "ACN           Accenture plc  Information Technology  115.11       11.45   \n",
       "ATVI    Activision Blizzard  Information Technology   41.29       11.31   \n",
       "\n",
       "        TwicePrice      ratio  \n",
       "Symbol                         \n",
       "MMM         354.24   9.158221  \n",
       "ABT          83.78   2.970922  \n",
       "ABBV        128.32  22.355401  \n",
       "ACN         230.22  10.053275  \n",
       "ATVI         82.58   3.650752  "
      ]
     },
     "execution_count": 133,
     "metadata": {},
     "output_type": "execute_result"
    }
   ],
   "source": [
    "copy['ratio'] = copy['Price'] / copy['Book Value']\n",
    "copy.head()"
   ]
  },
  {
   "cell_type": "code",
   "execution_count": 134,
   "metadata": {},
   "outputs": [
    {
     "data": {
      "text/html": [
       "<div>\n",
       "<style>\n",
       "    .dataframe thead tr:only-child th {\n",
       "        text-align: right;\n",
       "    }\n",
       "\n",
       "    .dataframe thead th {\n",
       "        text-align: left;\n",
       "    }\n",
       "\n",
       "    .dataframe tbody tr th {\n",
       "        vertical-align: top;\n",
       "    }\n",
       "</style>\n",
       "<table border=\"1\" class=\"dataframe\">\n",
       "  <thead>\n",
       "    <tr style=\"text-align: right;\">\n",
       "      <th></th>\n",
       "      <th>Name</th>\n",
       "      <th>TriplePrice</th>\n",
       "      <th>Sector</th>\n",
       "      <th>Price</th>\n",
       "      <th>Book Value</th>\n",
       "      <th>TwicePrice</th>\n",
       "      <th>ratio</th>\n",
       "    </tr>\n",
       "    <tr>\n",
       "      <th>Symbol</th>\n",
       "      <th></th>\n",
       "      <th></th>\n",
       "      <th></th>\n",
       "      <th></th>\n",
       "      <th></th>\n",
       "      <th></th>\n",
       "      <th></th>\n",
       "    </tr>\n",
       "  </thead>\n",
       "  <tbody>\n",
       "    <tr>\n",
       "      <th>MMM</th>\n",
       "      <td>3M Company</td>\n",
       "      <td>531.36</td>\n",
       "      <td>Industrials</td>\n",
       "      <td>177.12</td>\n",
       "      <td>19.34</td>\n",
       "      <td>354.24</td>\n",
       "      <td>9.158221</td>\n",
       "    </tr>\n",
       "    <tr>\n",
       "      <th>ABT</th>\n",
       "      <td>Abbott Laboratories</td>\n",
       "      <td>125.67</td>\n",
       "      <td>Health Care</td>\n",
       "      <td>41.89</td>\n",
       "      <td>14.10</td>\n",
       "      <td>83.78</td>\n",
       "      <td>2.970922</td>\n",
       "    </tr>\n",
       "    <tr>\n",
       "      <th>ABBV</th>\n",
       "      <td>AbbVie</td>\n",
       "      <td>192.48</td>\n",
       "      <td>Health Care</td>\n",
       "      <td>64.16</td>\n",
       "      <td>2.87</td>\n",
       "      <td>128.32</td>\n",
       "      <td>22.355401</td>\n",
       "    </tr>\n",
       "    <tr>\n",
       "      <th>ACN</th>\n",
       "      <td>Accenture plc</td>\n",
       "      <td>345.33</td>\n",
       "      <td>Information Technology</td>\n",
       "      <td>115.11</td>\n",
       "      <td>11.45</td>\n",
       "      <td>230.22</td>\n",
       "      <td>10.053275</td>\n",
       "    </tr>\n",
       "    <tr>\n",
       "      <th>ATVI</th>\n",
       "      <td>Activision Blizzard</td>\n",
       "      <td>123.87</td>\n",
       "      <td>Information Technology</td>\n",
       "      <td>41.29</td>\n",
       "      <td>11.31</td>\n",
       "      <td>82.58</td>\n",
       "      <td>3.650752</td>\n",
       "    </tr>\n",
       "  </tbody>\n",
       "</table>\n",
       "</div>"
      ],
      "text/plain": [
       "                       Name  TriplePrice                  Sector   Price  \\\n",
       "Symbol                                                                     \n",
       "MMM              3M Company       531.36             Industrials  177.12   \n",
       "ABT     Abbott Laboratories       125.67             Health Care   41.89   \n",
       "ABBV                 AbbVie       192.48             Health Care   64.16   \n",
       "ACN           Accenture plc       345.33  Information Technology  115.11   \n",
       "ATVI    Activision Blizzard       123.87  Information Technology   41.29   \n",
       "\n",
       "        Book Value  TwicePrice      ratio  \n",
       "Symbol                                     \n",
       "MMM          19.34      354.24   9.158221  \n",
       "ABT          14.10       83.78   2.970922  \n",
       "ABBV          2.87      128.32  22.355401  \n",
       "ACN          11.45      230.22  10.053275  \n",
       "ATVI         11.31       82.58   3.650752  "
      ]
     },
     "execution_count": 134,
     "metadata": {},
     "output_type": "execute_result"
    }
   ],
   "source": [
    "# insert 함수를 이용하여 원하는 컬럼 위치에 삽입 가능\n",
    "copy.insert(1, 'TriplePrice', sample_df.Price * 3) #보다는 => ['Price']\n",
    "copy.head()"
   ]
  },
  {
   "cell_type": "markdown",
   "metadata": {
    "collapsed": true
   },
   "source": [
    " * **column 삭제하기**"
   ]
  },
  {
   "cell_type": "code",
   "execution_count": 135,
   "metadata": {},
   "outputs": [
    {
     "name": "stdout",
     "output_type": "stream",
     "text": [
      "                       Name  TriplePrice       Sector   Price  Book Value  \\\n",
      "Symbol                                                                      \n",
      "MMM              3M Company       531.36  Industrials  177.12       19.34   \n",
      "ABT     Abbott Laboratories       125.67  Health Care   41.89       14.10   \n",
      "\n",
      "        TwicePrice     ratio  \n",
      "Symbol                        \n",
      "MMM         354.24  9.158221  \n",
      "ABT          83.78  2.970922  \n",
      "                       Name       Sector   Price  Book Value  TwicePrice  \\\n",
      "Symbol                                                                     \n",
      "MMM              3M Company  Industrials  177.12       19.34      354.24   \n",
      "ABT     Abbott Laboratories  Health Care   41.89       14.10       83.78   \n",
      "\n",
      "           ratio  \n",
      "Symbol            \n",
      "MMM     9.158221  \n",
      "ABT     2.970922  \n"
     ]
    }
   ],
   "source": [
    "print(copy[:2])\n",
    "\n",
    "# del 키워드로 삭제\n",
    "del copy['TriplePrice']\n",
    "print(copy[:2])"
   ]
  },
  {
   "cell_type": "markdown",
   "metadata": {},
   "source": [
    " * **row 추가/삭제하기**"
   ]
  },
  {
   "cell_type": "code",
   "execution_count": 136,
   "metadata": {},
   "outputs": [
    {
     "name": "stdout",
     "output_type": "stream",
     "text": [
      "                       Name       Sector   Price  Book Value  TwicePrice  \\\n",
      "Symbol                                                                     \n",
      "MMM              3M Company  Industrials  177.12       19.34      354.24   \n",
      "ABT     Abbott Laboratories  Health Care   41.89       14.10       83.78   \n",
      "ABBV                 AbbVie  Health Care   64.16        2.87      128.32   \n",
      "\n",
      "            ratio  \n",
      "Symbol             \n",
      "MMM      9.158221  \n",
      "ABT      2.970922  \n",
      "ABBV    22.355401  \n",
      "                       Name       Sector   Price  Book Value  TwicePrice  \\\n",
      "Symbol                                                                     \n",
      "ZION          Zions Bancorp   Financials   24.74       33.23       49.48   \n",
      "ZTS                  Zoetis  Health Care   48.50        2.35       97.00   \n",
      "MMM              3M Company  Industrials  177.12       19.34      354.24   \n",
      "ABT     Abbott Laboratories  Health Care   41.89       14.10       83.78   \n",
      "ABBV                 AbbVie  Health Care   64.16        2.87      128.32   \n",
      "\n",
      "            ratio  \n",
      "Symbol             \n",
      "ZION     0.744508  \n",
      "ZTS     20.638298  \n",
      "MMM      9.158221  \n",
      "ABT      2.970922  \n",
      "ABBV    22.355401  \n"
     ]
    }
   ],
   "source": [
    "df1 = copy.iloc[0:3].copy()\n",
    "print(df1)\n",
    "\n",
    "# append 함수 사용\n",
    "copy = copy.append(df1)\n",
    "print(copy.tail())"
   ]
  },
  {
   "cell_type": "code",
   "execution_count": 140,
   "metadata": {},
   "outputs": [
    {
     "data": {
      "text/html": [
       "<div>\n",
       "<style>\n",
       "    .dataframe thead tr:only-child th {\n",
       "        text-align: right;\n",
       "    }\n",
       "\n",
       "    .dataframe thead th {\n",
       "        text-align: left;\n",
       "    }\n",
       "\n",
       "    .dataframe tbody tr th {\n",
       "        vertical-align: top;\n",
       "    }\n",
       "</style>\n",
       "<table border=\"1\" class=\"dataframe\">\n",
       "  <thead>\n",
       "    <tr style=\"text-align: right;\">\n",
       "      <th></th>\n",
       "      <th>Name</th>\n",
       "      <th>Sector</th>\n",
       "      <th>Price</th>\n",
       "      <th>Book Value</th>\n",
       "      <th>TwicePrice</th>\n",
       "      <th>ratio</th>\n",
       "    </tr>\n",
       "    <tr>\n",
       "      <th>Symbol</th>\n",
       "      <th></th>\n",
       "      <th></th>\n",
       "      <th></th>\n",
       "      <th></th>\n",
       "      <th></th>\n",
       "      <th></th>\n",
       "    </tr>\n",
       "  </thead>\n",
       "  <tbody>\n",
       "    <tr>\n",
       "      <th>MMM</th>\n",
       "      <td>3M Company</td>\n",
       "      <td>Industrials</td>\n",
       "      <td>177.12</td>\n",
       "      <td>19.34</td>\n",
       "      <td>354.24</td>\n",
       "      <td>9.158221</td>\n",
       "    </tr>\n",
       "    <tr>\n",
       "      <th>MMM</th>\n",
       "      <td>3M Company</td>\n",
       "      <td>Industrials</td>\n",
       "      <td>177.12</td>\n",
       "      <td>19.34</td>\n",
       "      <td>354.24</td>\n",
       "      <td>9.158221</td>\n",
       "    </tr>\n",
       "  </tbody>\n",
       "</table>\n",
       "</div>"
      ],
      "text/plain": [
       "              Name       Sector   Price  Book Value  TwicePrice     ratio\n",
       "Symbol                                                                   \n",
       "MMM     3M Company  Industrials  177.12       19.34      354.24  9.158221\n",
       "MMM     3M Company  Industrials  177.12       19.34      354.24  9.158221"
      ]
     },
     "execution_count": 140,
     "metadata": {},
     "output_type": "execute_result"
    }
   ],
   "source": [
    "# 인덱스가 유일 값을 가져야 하는데???\n",
    "copy.loc['MMM']"
   ]
  },
  {
   "cell_type": "code",
   "execution_count": 138,
   "metadata": {},
   "outputs": [
    {
     "data": {
      "text/html": [
       "<div>\n",
       "<style>\n",
       "    .dataframe thead tr:only-child th {\n",
       "        text-align: right;\n",
       "    }\n",
       "\n",
       "    .dataframe thead th {\n",
       "        text-align: left;\n",
       "    }\n",
       "\n",
       "    .dataframe tbody tr th {\n",
       "        vertical-align: top;\n",
       "    }\n",
       "</style>\n",
       "<table border=\"1\" class=\"dataframe\">\n",
       "  <thead>\n",
       "    <tr style=\"text-align: right;\">\n",
       "      <th></th>\n",
       "      <th>Name</th>\n",
       "      <th>Sector</th>\n",
       "      <th>Price</th>\n",
       "      <th>Book Value</th>\n",
       "      <th>TwicePrice</th>\n",
       "      <th>ratio</th>\n",
       "    </tr>\n",
       "    <tr>\n",
       "      <th>Symbol</th>\n",
       "      <th></th>\n",
       "      <th></th>\n",
       "      <th></th>\n",
       "      <th></th>\n",
       "      <th></th>\n",
       "      <th></th>\n",
       "    </tr>\n",
       "  </thead>\n",
       "  <tbody>\n",
       "    <tr>\n",
       "      <th>ZBH</th>\n",
       "      <td>Zimmer Biomet Holdings</td>\n",
       "      <td>Health Care</td>\n",
       "      <td>124.89</td>\n",
       "      <td>48.52</td>\n",
       "      <td>249.78</td>\n",
       "      <td>2.573990</td>\n",
       "    </tr>\n",
       "    <tr>\n",
       "      <th>ZION</th>\n",
       "      <td>Zions Bancorp</td>\n",
       "      <td>Financials</td>\n",
       "      <td>24.74</td>\n",
       "      <td>33.23</td>\n",
       "      <td>49.48</td>\n",
       "      <td>0.744508</td>\n",
       "    </tr>\n",
       "    <tr>\n",
       "      <th>ZTS</th>\n",
       "      <td>Zoetis</td>\n",
       "      <td>Health Care</td>\n",
       "      <td>48.50</td>\n",
       "      <td>2.35</td>\n",
       "      <td>97.00</td>\n",
       "      <td>20.638298</td>\n",
       "    </tr>\n",
       "    <tr>\n",
       "      <th>MMM</th>\n",
       "      <td>3M Company</td>\n",
       "      <td>Industrials</td>\n",
       "      <td>177.12</td>\n",
       "      <td>19.34</td>\n",
       "      <td>354.24</td>\n",
       "      <td>9.158221</td>\n",
       "    </tr>\n",
       "    <tr>\n",
       "      <th>ABT</th>\n",
       "      <td>Abbott Laboratories</td>\n",
       "      <td>Health Care</td>\n",
       "      <td>41.89</td>\n",
       "      <td>14.10</td>\n",
       "      <td>83.78</td>\n",
       "      <td>2.970922</td>\n",
       "    </tr>\n",
       "  </tbody>\n",
       "</table>\n",
       "</div>"
      ],
      "text/plain": [
       "                          Name       Sector   Price  Book Value  TwicePrice  \\\n",
       "Symbol                                                                        \n",
       "ZBH     Zimmer Biomet Holdings  Health Care  124.89       48.52      249.78   \n",
       "ZION             Zions Bancorp   Financials   24.74       33.23       49.48   \n",
       "ZTS                     Zoetis  Health Care   48.50        2.35       97.00   \n",
       "MMM                 3M Company  Industrials  177.12       19.34      354.24   \n",
       "ABT        Abbott Laboratories  Health Care   41.89       14.10       83.78   \n",
       "\n",
       "            ratio  \n",
       "Symbol             \n",
       "ZBH      2.573990  \n",
       "ZION     0.744508  \n",
       "ZTS     20.638298  \n",
       "MMM      9.158221  \n",
       "ABT      2.970922  "
      ]
     },
     "execution_count": 138,
     "metadata": {},
     "output_type": "execute_result"
    }
   ],
   "source": [
    "# drop 함수를 사용하여 해당 row 제거\n",
    "copy = copy.drop(['ABBV']) #drop 많이 씀\n",
    "copy.tail()"
   ]
  }
 ],
 "metadata": {
  "kernelspec": {
   "display_name": "Python 3",
   "language": "python",
   "name": "python3"
  },
  "language_info": {
   "codemirror_mode": {
    "name": "ipython",
    "version": 3
   },
   "file_extension": ".py",
   "mimetype": "text/x-python",
   "name": "python",
   "nbconvert_exporter": "python",
   "pygments_lexer": "ipython3",
   "version": "3.6.1"
  }
 },
 "nbformat": 4,
 "nbformat_minor": 1
}
