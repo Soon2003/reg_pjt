{
 "cells": [
  {
   "cell_type": "code",
   "execution_count": 2,
   "metadata": {},
   "outputs": [
    {
     "name": "stdout",
     "output_type": "stream",
     "text": [
      "0.652426389039\n",
      "0.65152189831\n",
      "0.425070079494\n",
      "0.757852100931\n",
      "0.75862982806\n",
      "0.999999977416\n",
      "0.999999977416\n",
      "0.999999275534\n",
      "0.00120371583434\n",
      "7.6774645005\n"
     ]
    }
   ],
   "source": [
    "import numpy as np\n",
    "\n",
    "def dist(p_la, p_lo, d_la, d_lo):\n",
    "    sla1 = np.sin(np.radians(p_la))\n",
    "    sla2 = np.sin(np.radians(d_la))\n",
    "    print(sla1,)\n",
    "    print(sla2,)\n",
    "    print(sla1*sla2,)\n",
    "    cla1 = np.cos(np.radians(p_la))\n",
    "    cla2 = np.cos(np.radians(d_la))\n",
    "    print(cla1,)\n",
    "    print(cla2,)\n",
    "    print(np.cos(np.radians(d_lo-p_lo)),)\n",
    "    print(np.cos(np.radians(d_lo)-np.radians(p_lo)),)\n",
    "    print(sla1*sla2 + cla1*cla2*np.cos(np.radians(d_lo-p_lo)),)\n",
    "    print(np.arccos(sla1*sla2 + cla1*cla2*np.cos(np.radians(d_lo-p_lo))),)\n",
    "    print(6378.137*np.arccos(sla1*sla2 + cla1*cla2*np.cos(np.radians(d_lo-p_lo))),)\n",
    "    \n",
    "def deg2rad(deg):\n",
    "    return deg * np.pi / 180\n",
    "\n",
    "dist(40.724792, -73.987793, 40.656445, -73.975616)"
   ]
  },
  {
   "cell_type": "code",
   "execution_count": 18,
   "metadata": {},
   "outputs": [
    {
     "data": {
      "image/png": "[encoded data removed]",
      "text/plain": [
       "<matplotlib.figure.Figure at 0x1091304a8>"
      ]
     },
     "metadata": {},
     "output_type": "display_data"
    }
   ],
   "source": [
    "import numpy as np\n",
    "import matplotlib.pyplot as plt\n",
    "\n",
    "plt.annotate('', xy=(1,1), xytext=(0,0), arrowprops=dict(facecolor='green', width=0.1, headlength=5, headwidth=5))\n",
    "plt.show()"
   ]
  },
  {
   "cell_type": "code",
   "execution_count": 7,
   "metadata": {},
   "outputs": [
    {
     "name": "stdout",
     "output_type": "stream",
     "text": [
      "2016-01-01 00:01:00 <class 'datetime.datetime'>\n"
     ]
    }
   ],
   "source": [
    "import datetime\n",
    "date = datetime.datetime.strptime('1/1/16 0:01', '%m/%d/%y %H:%M')\n",
    "print(date, type(date))"
   ]
  },
  {
   "cell_type": "code",
   "execution_count": null,
   "metadata": {
    "collapsed": true
   },
   "outputs": [],
   "source": [
    "import datetime as dt\n",
    "import matplotlib.pyplot as plt\n",
    "import matplotlib.dates as mdates\n",
    "\n",
    "x = [dt.datetime(2009, 05, 01), dt.datetime(2010, 06, 01), \n",
    "     dt.datetime(2011, 04, 01), dt.datetime(2012, 06, 01)]\n",
    "y = [1, 3, 2, 5]\n",
    "\n",
    "fig, ax = plt.subplots()\n",
    "ax.plot_date(x, y, linestyle='--')\n",
    "\n",
    "ax.annotate('Test', (mdates.date2num(x[1]), y[1]), xytext=(15, 15), \n",
    "            textcoords='offset points', arrowprops=dict(arrowstyle='-|>'))\n",
    "\n",
    "fig.autofmt_xdate()"
   ]
  }
 ],
 "metadata": {
  "kernelspec": {
   "display_name": "Python 3",
   "language": "python",
   "name": "python3"
  },
  "language_info": {
   "codemirror_mode": {
    "name": "ipython",
    "version": 3
   },
   "file_extension": ".py",
   "mimetype": "text/x-python",
   "name": "python",
   "nbconvert_exporter": "python",
   "pygments_lexer": "ipython3",
   "version": "3.6.1"
  }
 },
 "nbformat": 4,
 "nbformat_minor": 2
}
